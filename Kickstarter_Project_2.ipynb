{
 "cells": [
  {
   "cell_type": "markdown",
   "metadata": {},
   "source": [
    "\n",
    "\n",
    "\n",
    "\n",
    "\n",
    "![Kickstarter_logo](./images/tq0sfld-kickstarter-logo-green.png)"
   ]
  },
  {
   "cell_type": "markdown",
   "metadata": {},
   "source": [
    "Launched in 2009, **Kickstarter** is one of the world's leading crowdfunding platforms. As of December 2019, Kickstarter has received more than $4.6 billion in pledges from 17.2 million backers to fund 445,000 projects, such as films, music, stage shows, comics, journalism, video games, technology, publishing, and food-related projects. It's mission is to bring \"*creative projects to life*\"\n",
    "\n",
    "Kickstarter, founded in 2009, is one particularly well-known and popular crowdfunding platform. It has an all-or-nothing funding model, whereby a project is only funded if it meets its goal amount; otherwise no money is given by backers to a project.\n",
    "A huge variety of factors contribute to the success or failure of a project — in general, and also on Kickstarter. Some of these are able to be quantified or categorized, which allows for the construction of a model to attempt to predict whether a project will succeed or not."
   ]
  },
  {
   "cell_type": "markdown",
   "metadata": {},
   "source": [
    "## Objective of the Analysis "
   ]
  },
  {
   "cell_type": "markdown",
   "metadata": {},
   "source": [
    "1. Primary **business objective** is to provide creators with a recommendation on how to launch a successful Kickstarter campaign! \n",
    "\n",
    "2. Determine which factors decide whether or not a project will achieved is funding goal. "
   ]
  },
  {
   "cell_type": "markdown",
   "metadata": {},
   "source": [
    "### How do we define a \"successful\" Project? "
   ]
  },
  {
   "cell_type": "markdown",
   "metadata": {},
   "source": [
    "Success in the context of the Kickstarter Dataset is defined as achieving the funding goal."
   ]
  },
  {
   "cell_type": "markdown",
   "metadata": {},
   "source": [
    "## Project Requirements: "
   ]
  },
  {
   "cell_type": "markdown",
   "metadata": {},
   "source": [
    "1. Try different (at least 3) machine learning algorithms to check which performs best on the problem at hand\n",
    "2. What would be the right performance metric- precision, recall, accuracy, F1 score, or something else? (Check TPR?)\n",
    "\n",
    "**Hint**: Check for Data imbalance\n"
   ]
  },
  {
   "cell_type": "markdown",
   "metadata": {},
   "source": [
    "## Description of the Dataset "
   ]
  },
  {
   "cell_type": "markdown",
   "metadata": {},
   "source": [
    "**'backers_count':** Number of folks who pledge money to join creators in bringing projects to life\n",
    "\n",
    "**'blurb':** Description of the project / company\n",
    "\n",
    "**'category':** Describes the topic of the project (e.g. music, fashion)\n",
    "\n",
    "**'converted_pledged_amount':** Amount of money pledged, converted to the currency on the `current_currency`column \n",
    "\n",
    "**'country':** Country where the project creators originates from \n",
    "\n",
    "**'created_at':** Date and time when the project was initially created on Kickstarter\n",
    "\n",
    "**'creator':** The person or team behind the project idea, working to bring it to life\n",
    "\n",
    "**'currency':** Name of original currency \n",
    "\n",
    "**'currency_symbol':** corresponding currency symbol\n",
    "\n",
    "**'currency_trailing_code':** ?\n",
    "\n",
    "**'current_currency':** Currency after the conversion has taken place\n",
    "\n",
    "**'deadline':** Final crowdfunding date\n",
    "\n",
    "**'disable_communication':** whether or not a project creator is able to communicate with they backers\n",
    "\n",
    "**'friends':** unclear, null or empty\n",
    "\n",
    "**'fx_rate':** Foreign exchange rate between the original currency and the current currency\n",
    "\n",
    "**'goal':** The amount of money that a creator needs to complete their project. Minimum requirement for the project to be financed\n",
    "\n",
    "**'id':** Project ID\n",
    "\n",
    "**'is_backing':** \n",
    "\n",
    "**'is_starrable':** provides the option to leave a star review\n",
    "\n",
    "**'is_starred':** has received a star review\n",
    "\n",
    "**'launched_at':** state and time when the project was launched for funding at Kickstarter\n",
    "\n",
    "**'location':** Contains the town or city of the project creator\n",
    "\n",
    "**'name':** Name of the campaign\n",
    "\n",
    "**'permissions':** unclear; is either NA or empty in the dataset\n",
    "\n",
    "**'photo':** contains a link and information to the projects photos\n",
    "\n",
    "**'pledged':** Amount pledged by the contributors in the original currency \n",
    "\n",
    "**'profile':** Details about the projects profile including ID number and various visual settings\n",
    "\n",
    "**'slug':** Name of the project with hyphens and lowercase letters instead of spaces and uppercase letters\n",
    "\n",
    "**'source_url':** link to the project category on the Kickstarter website\n",
    "\n",
    "**'spotlight':** Option to put the campaign in a spotlight via a landing page on Kickstarter after it has been successfully financed\n",
    "\n",
    "**'staff_pick':** Whether a project was handpicked and highlighted by the Kickstarter team. These projects are displayed favorably on the Kickstarter page.\n",
    "\n",
    "**'state':** Status of the campaign that can be classified into one of the following categories:\n",
    "   * *'successful'*: project has achieved the funding goal and is neither canceled or suspended. (only classified as successful after the deadline has passed?)\n",
    "   * *'failed'*: project has failed to achieve the funding goal within the deadline\n",
    "   * *'live'*: Campaign are classified as live when they are still ongoing regardless of whether they have already achieved the funding goal or not\n",
    "   * *'suspended'*: A project may be suspended if the Trust & Safety team uncovers evidence that it is in violation of Kickstarter's rules\n",
    "   * *'canceled'*: A project may be canceled if the creator wants to make any major changes to the project, such as the funding goal or campaign duration, or likes to rework the idea and start again\n",
    "   \n",
    "**'state_changed_at':** Date and time when a project status was changed (e.g. from live to successful / failed)\n",
    "\n",
    "**'static_usd_rate':** Conversion rate between the original currency and USD\n",
    "\n",
    "**'urls':** link to the creator's campaign on Kickstarter\n",
    "\n",
    "**'usd_pledged':** Pledged amount converted to USD done by Kickstarter\n",
    "\n",
    "**'usd_type':** unclear, classifies either as domestic or international "
   ]
  },
  {
   "cell_type": "markdown",
   "metadata": {},
   "source": [
    "##  Import Libaries"
   ]
  },
  {
   "cell_type": "code",
   "execution_count": 242,
   "metadata": {},
   "outputs": [],
   "source": [
    "import pandas as pd\n",
    "import numpy as np\n",
    "import glob\n",
    "import matplotlib.pyplot as plt\n",
    "import seaborn as sns\n",
    "import time\n",
    "import calendar\n",
    "import datetime\n",
    "import itertools\n",
    "\n",
    "from sklearn import preprocessing\n",
    "from sklearn.model_selection import train_test_split\n",
    "from sklearn.metrics import confusion_matrix, classification_report, roc_auc_score, plot_confusion_matrix\n",
    "from sklearn.metrics import roc_curve, accuracy_score, precision_recall_curve, f1_score, precision_score, recall_score\n",
    "from sklearn.preprocessing import StandardScaler\n",
    "from sklearn.tree import DecisionTreeClassifier\n",
    "from sklearn.pipeline import Pipeline\n",
    "\n",
    "%matplotlib inline\n",
    "sns.set_theme(palette=\"rocket\")\n",
    "sns.set_context(\"paper\", rc={\"font.size\":10,\"axes.titlesize\":12,\"axes.labelsize\":10})"
   ]
  },
  {
   "cell_type": "markdown",
   "metadata": {},
   "source": [
    "##  Import the Datasets"
   ]
  },
  {
   "cell_type": "markdown",
   "metadata": {},
   "source": [
    "We have a total of 55 csv documents which combined make up our dataset. In a first step, we will load and concatenate all of the csv files into one dataframe. "
   ]
  },
  {
   "cell_type": "code",
   "execution_count": 2,
   "metadata": {},
   "outputs": [],
   "source": [
    "import glob"
   ]
  },
  {
   "cell_type": "code",
   "execution_count": 3,
   "metadata": {},
   "outputs": [],
   "source": [
    "df = pd.concat([pd.read_csv(i) for i in glob.glob(\"data/Kickstarter*.csv\")], ignore_index=True)"
   ]
  },
  {
   "cell_type": "code",
   "execution_count": 4,
   "metadata": {},
   "outputs": [],
   "source": [
    "import pandas as pd"
   ]
  },
  {
   "cell_type": "code",
   "execution_count": 5,
   "metadata": {},
   "outputs": [
    {
     "data": {
      "text/plain": [
       "(209222, 37)"
      ]
     },
     "execution_count": 5,
     "metadata": {},
     "output_type": "execute_result"
    }
   ],
   "source": [
    "df.shape"
   ]
  },
  {
   "cell_type": "markdown",
   "metadata": {},
   "source": [
    "**Remark:**\n",
    "Our combined Kickstarter dataset has a total of 209222 observations and 37 columns.  "
   ]
  },
  {
   "cell_type": "markdown",
   "metadata": {},
   "source": [
    "## Data Cleaning"
   ]
  },
  {
   "cell_type": "markdown",
   "metadata": {},
   "source": [
    "### Understanding the dataset"
   ]
  },
  {
   "cell_type": "code",
   "execution_count": 6,
   "metadata": {},
   "outputs": [
    {
     "data": {
      "text/html": [
       "<div>\n",
       "<style scoped>\n",
       "    .dataframe tbody tr th:only-of-type {\n",
       "        vertical-align: middle;\n",
       "    }\n",
       "\n",
       "    .dataframe tbody tr th {\n",
       "        vertical-align: top;\n",
       "    }\n",
       "\n",
       "    .dataframe thead th {\n",
       "        text-align: right;\n",
       "    }\n",
       "</style>\n",
       "<table border=\"1\" class=\"dataframe\">\n",
       "  <thead>\n",
       "    <tr style=\"text-align: right;\">\n",
       "      <th></th>\n",
       "      <th>0</th>\n",
       "      <th>1</th>\n",
       "    </tr>\n",
       "  </thead>\n",
       "  <tbody>\n",
       "    <tr>\n",
       "      <th>backers_count</th>\n",
       "      <td>315</td>\n",
       "      <td>47</td>\n",
       "    </tr>\n",
       "    <tr>\n",
       "      <th>blurb</th>\n",
       "      <td>Babalus Shoes</td>\n",
       "      <td>A colorful Dia de los Muertos themed oracle de...</td>\n",
       "    </tr>\n",
       "    <tr>\n",
       "      <th>category</th>\n",
       "      <td>{\"id\":266,\"name\":\"Footwear\",\"slug\":\"fashion/fo...</td>\n",
       "      <td>{\"id\":273,\"name\":\"Playing Cards\",\"slug\":\"games...</td>\n",
       "    </tr>\n",
       "    <tr>\n",
       "      <th>converted_pledged_amount</th>\n",
       "      <td>28645</td>\n",
       "      <td>1950</td>\n",
       "    </tr>\n",
       "    <tr>\n",
       "      <th>country</th>\n",
       "      <td>US</td>\n",
       "      <td>US</td>\n",
       "    </tr>\n",
       "    <tr>\n",
       "      <th>created_at</th>\n",
       "      <td>1541459205</td>\n",
       "      <td>1501684093</td>\n",
       "    </tr>\n",
       "    <tr>\n",
       "      <th>creator</th>\n",
       "      <td>{\"id\":2094277840,\"name\":\"Lucy Conroy\",\"slug\":\"...</td>\n",
       "      <td>{\"id\":723886115,\"name\":\"Lisa Vollrath\",\"slug\":...</td>\n",
       "    </tr>\n",
       "    <tr>\n",
       "      <th>currency</th>\n",
       "      <td>USD</td>\n",
       "      <td>USD</td>\n",
       "    </tr>\n",
       "    <tr>\n",
       "      <th>currency_symbol</th>\n",
       "      <td>$</td>\n",
       "      <td>$</td>\n",
       "    </tr>\n",
       "    <tr>\n",
       "      <th>currency_trailing_code</th>\n",
       "      <td>True</td>\n",
       "      <td>True</td>\n",
       "    </tr>\n",
       "    <tr>\n",
       "      <th>current_currency</th>\n",
       "      <td>USD</td>\n",
       "      <td>USD</td>\n",
       "    </tr>\n",
       "    <tr>\n",
       "      <th>deadline</th>\n",
       "      <td>1552539775</td>\n",
       "      <td>1504976459</td>\n",
       "    </tr>\n",
       "    <tr>\n",
       "      <th>disable_communication</th>\n",
       "      <td>False</td>\n",
       "      <td>False</td>\n",
       "    </tr>\n",
       "    <tr>\n",
       "      <th>friends</th>\n",
       "      <td>NaN</td>\n",
       "      <td>NaN</td>\n",
       "    </tr>\n",
       "    <tr>\n",
       "      <th>fx_rate</th>\n",
       "      <td>1</td>\n",
       "      <td>1</td>\n",
       "    </tr>\n",
       "    <tr>\n",
       "      <th>goal</th>\n",
       "      <td>28000</td>\n",
       "      <td>1000</td>\n",
       "    </tr>\n",
       "    <tr>\n",
       "      <th>id</th>\n",
       "      <td>2108505034</td>\n",
       "      <td>928751314</td>\n",
       "    </tr>\n",
       "    <tr>\n",
       "      <th>is_backing</th>\n",
       "      <td>NaN</td>\n",
       "      <td>NaN</td>\n",
       "    </tr>\n",
       "    <tr>\n",
       "      <th>is_starrable</th>\n",
       "      <td>False</td>\n",
       "      <td>False</td>\n",
       "    </tr>\n",
       "    <tr>\n",
       "      <th>is_starred</th>\n",
       "      <td>NaN</td>\n",
       "      <td>NaN</td>\n",
       "    </tr>\n",
       "    <tr>\n",
       "      <th>launched_at</th>\n",
       "      <td>1548223375</td>\n",
       "      <td>1502384459</td>\n",
       "    </tr>\n",
       "    <tr>\n",
       "      <th>location</th>\n",
       "      <td>{\"id\":2462429,\"name\":\"Novato\",\"slug\":\"novato-c...</td>\n",
       "      <td>{\"id\":2400549,\"name\":\"Euless\",\"slug\":\"euless-t...</td>\n",
       "    </tr>\n",
       "    <tr>\n",
       "      <th>name</th>\n",
       "      <td>Babalus Children's Shoes</td>\n",
       "      <td>The Ofrenda Oracle Deck</td>\n",
       "    </tr>\n",
       "    <tr>\n",
       "      <th>permissions</th>\n",
       "      <td>NaN</td>\n",
       "      <td>NaN</td>\n",
       "    </tr>\n",
       "    <tr>\n",
       "      <th>photo</th>\n",
       "      <td>{\"key\":\"assets/023/667/205/a565fde5382d6b53276...</td>\n",
       "      <td>{\"key\":\"assets/017/766/989/dd9f18c773a8546d996...</td>\n",
       "    </tr>\n",
       "    <tr>\n",
       "      <th>pledged</th>\n",
       "      <td>28645</td>\n",
       "      <td>1950</td>\n",
       "    </tr>\n",
       "    <tr>\n",
       "      <th>profile</th>\n",
       "      <td>{\"id\":3508024,\"project_id\":3508024,\"state\":\"in...</td>\n",
       "      <td>{\"id\":3094785,\"project_id\":3094785,\"state\":\"ac...</td>\n",
       "    </tr>\n",
       "    <tr>\n",
       "      <th>slug</th>\n",
       "      <td>babalus-childrens-shoes</td>\n",
       "      <td>the-ofrenda-oracle-deck</td>\n",
       "    </tr>\n",
       "    <tr>\n",
       "      <th>source_url</th>\n",
       "      <td>https://www.kickstarter.com/discover/categorie...</td>\n",
       "      <td>https://www.kickstarter.com/discover/categorie...</td>\n",
       "    </tr>\n",
       "    <tr>\n",
       "      <th>spotlight</th>\n",
       "      <td>False</td>\n",
       "      <td>True</td>\n",
       "    </tr>\n",
       "    <tr>\n",
       "      <th>staff_pick</th>\n",
       "      <td>False</td>\n",
       "      <td>False</td>\n",
       "    </tr>\n",
       "    <tr>\n",
       "      <th>state</th>\n",
       "      <td>live</td>\n",
       "      <td>successful</td>\n",
       "    </tr>\n",
       "    <tr>\n",
       "      <th>state_changed_at</th>\n",
       "      <td>1548223375</td>\n",
       "      <td>1504976459</td>\n",
       "    </tr>\n",
       "    <tr>\n",
       "      <th>static_usd_rate</th>\n",
       "      <td>1</td>\n",
       "      <td>1</td>\n",
       "    </tr>\n",
       "    <tr>\n",
       "      <th>urls</th>\n",
       "      <td>{\"web\":{\"project\":\"https://www.kickstarter.com...</td>\n",
       "      <td>{\"web\":{\"project\":\"https://www.kickstarter.com...</td>\n",
       "    </tr>\n",
       "    <tr>\n",
       "      <th>usd_pledged</th>\n",
       "      <td>28645</td>\n",
       "      <td>1950</td>\n",
       "    </tr>\n",
       "    <tr>\n",
       "      <th>usd_type</th>\n",
       "      <td>international</td>\n",
       "      <td>domestic</td>\n",
       "    </tr>\n",
       "  </tbody>\n",
       "</table>\n",
       "</div>"
      ],
      "text/plain": [
       "                                                                          0  \\\n",
       "backers_count                                                           315   \n",
       "blurb                                                         Babalus Shoes   \n",
       "category                  {\"id\":266,\"name\":\"Footwear\",\"slug\":\"fashion/fo...   \n",
       "converted_pledged_amount                                              28645   \n",
       "country                                                                  US   \n",
       "created_at                                                       1541459205   \n",
       "creator                   {\"id\":2094277840,\"name\":\"Lucy Conroy\",\"slug\":\"...   \n",
       "currency                                                                USD   \n",
       "currency_symbol                                                           $   \n",
       "currency_trailing_code                                                 True   \n",
       "current_currency                                                        USD   \n",
       "deadline                                                         1552539775   \n",
       "disable_communication                                                 False   \n",
       "friends                                                                 NaN   \n",
       "fx_rate                                                                   1   \n",
       "goal                                                                  28000   \n",
       "id                                                               2108505034   \n",
       "is_backing                                                              NaN   \n",
       "is_starrable                                                          False   \n",
       "is_starred                                                              NaN   \n",
       "launched_at                                                      1548223375   \n",
       "location                  {\"id\":2462429,\"name\":\"Novato\",\"slug\":\"novato-c...   \n",
       "name                                               Babalus Children's Shoes   \n",
       "permissions                                                             NaN   \n",
       "photo                     {\"key\":\"assets/023/667/205/a565fde5382d6b53276...   \n",
       "pledged                                                               28645   \n",
       "profile                   {\"id\":3508024,\"project_id\":3508024,\"state\":\"in...   \n",
       "slug                                                babalus-childrens-shoes   \n",
       "source_url                https://www.kickstarter.com/discover/categorie...   \n",
       "spotlight                                                             False   \n",
       "staff_pick                                                            False   \n",
       "state                                                                  live   \n",
       "state_changed_at                                                 1548223375   \n",
       "static_usd_rate                                                           1   \n",
       "urls                      {\"web\":{\"project\":\"https://www.kickstarter.com...   \n",
       "usd_pledged                                                           28645   \n",
       "usd_type                                                      international   \n",
       "\n",
       "                                                                          1  \n",
       "backers_count                                                            47  \n",
       "blurb                     A colorful Dia de los Muertos themed oracle de...  \n",
       "category                  {\"id\":273,\"name\":\"Playing Cards\",\"slug\":\"games...  \n",
       "converted_pledged_amount                                               1950  \n",
       "country                                                                  US  \n",
       "created_at                                                       1501684093  \n",
       "creator                   {\"id\":723886115,\"name\":\"Lisa Vollrath\",\"slug\":...  \n",
       "currency                                                                USD  \n",
       "currency_symbol                                                           $  \n",
       "currency_trailing_code                                                 True  \n",
       "current_currency                                                        USD  \n",
       "deadline                                                         1504976459  \n",
       "disable_communication                                                 False  \n",
       "friends                                                                 NaN  \n",
       "fx_rate                                                                   1  \n",
       "goal                                                                   1000  \n",
       "id                                                                928751314  \n",
       "is_backing                                                              NaN  \n",
       "is_starrable                                                          False  \n",
       "is_starred                                                              NaN  \n",
       "launched_at                                                      1502384459  \n",
       "location                  {\"id\":2400549,\"name\":\"Euless\",\"slug\":\"euless-t...  \n",
       "name                                                The Ofrenda Oracle Deck  \n",
       "permissions                                                             NaN  \n",
       "photo                     {\"key\":\"assets/017/766/989/dd9f18c773a8546d996...  \n",
       "pledged                                                                1950  \n",
       "profile                   {\"id\":3094785,\"project_id\":3094785,\"state\":\"ac...  \n",
       "slug                                                the-ofrenda-oracle-deck  \n",
       "source_url                https://www.kickstarter.com/discover/categorie...  \n",
       "spotlight                                                              True  \n",
       "staff_pick                                                            False  \n",
       "state                                                            successful  \n",
       "state_changed_at                                                 1504976459  \n",
       "static_usd_rate                                                           1  \n",
       "urls                      {\"web\":{\"project\":\"https://www.kickstarter.com...  \n",
       "usd_pledged                                                            1950  \n",
       "usd_type                                                           domestic  "
      ]
     },
     "execution_count": 6,
     "metadata": {},
     "output_type": "execute_result"
    }
   ],
   "source": [
    "df.head(2).T"
   ]
  },
  {
   "cell_type": "code",
   "execution_count": 7,
   "metadata": {},
   "outputs": [
    {
     "name": "stdout",
     "output_type": "stream",
     "text": [
      "<class 'pandas.core.frame.DataFrame'>\n",
      "RangeIndex: 209222 entries, 0 to 209221\n",
      "Data columns (total 37 columns):\n",
      "backers_count               209222 non-null int64\n",
      "blurb                       209214 non-null object\n",
      "category                    209222 non-null object\n",
      "converted_pledged_amount    209222 non-null int64\n",
      "country                     209222 non-null object\n",
      "created_at                  209222 non-null int64\n",
      "creator                     209222 non-null object\n",
      "currency                    209222 non-null object\n",
      "currency_symbol             209222 non-null object\n",
      "currency_trailing_code      209222 non-null bool\n",
      "current_currency            209222 non-null object\n",
      "deadline                    209222 non-null int64\n",
      "disable_communication       209222 non-null bool\n",
      "friends                     300 non-null object\n",
      "fx_rate                     209222 non-null float64\n",
      "goal                        209222 non-null float64\n",
      "id                          209222 non-null int64\n",
      "is_backing                  300 non-null object\n",
      "is_starrable                209222 non-null bool\n",
      "is_starred                  300 non-null object\n",
      "launched_at                 209222 non-null int64\n",
      "location                    208996 non-null object\n",
      "name                        209222 non-null object\n",
      "permissions                 300 non-null object\n",
      "photo                       209222 non-null object\n",
      "pledged                     209222 non-null float64\n",
      "profile                     209222 non-null object\n",
      "slug                        209222 non-null object\n",
      "source_url                  209222 non-null object\n",
      "spotlight                   209222 non-null bool\n",
      "staff_pick                  209222 non-null bool\n",
      "state                       209222 non-null object\n",
      "state_changed_at            209222 non-null int64\n",
      "static_usd_rate             209222 non-null float64\n",
      "urls                        209222 non-null object\n",
      "usd_pledged                 209222 non-null float64\n",
      "usd_type                    208742 non-null object\n",
      "dtypes: bool(5), float64(5), int64(7), object(20)\n",
      "memory usage: 52.1+ MB\n"
     ]
    }
   ],
   "source": [
    "df.info()"
   ]
  },
  {
   "cell_type": "markdown",
   "metadata": {},
   "source": [
    "**Commentary**:\n",
    "\n",
    "Looking at the output from the commands `head()` and `info()`, there seem to a number of columns which contain information that are not usable in their current format.\n",
    "\n",
    "In addition, `permissions`, `is_backing`, `friends` and `is_starred` only have 300 observations each. Hence, we should consider removing them. In contrast, the remaining columns are almost complete. \n",
    "\n",
    "Furthermore, the time related columns are not in a date format yet and therefore need to be converted. \n",
    "Finally, the columns `name`and `slug`contain the same information just in a slightly different form. We can therefore consider removing one of the columns. "
   ]
  },
  {
   "cell_type": "code",
   "execution_count": 8,
   "metadata": {},
   "outputs": [
    {
     "data": {
      "text/html": [
       "<div>\n",
       "<style scoped>\n",
       "    .dataframe tbody tr th:only-of-type {\n",
       "        vertical-align: middle;\n",
       "    }\n",
       "\n",
       "    .dataframe tbody tr th {\n",
       "        vertical-align: top;\n",
       "    }\n",
       "\n",
       "    .dataframe thead th {\n",
       "        text-align: right;\n",
       "    }\n",
       "</style>\n",
       "<table border=\"1\" class=\"dataframe\">\n",
       "  <thead>\n",
       "    <tr style=\"text-align: right;\">\n",
       "      <th></th>\n",
       "      <th>backers_count</th>\n",
       "      <th>converted_pledged_amount</th>\n",
       "      <th>created_at</th>\n",
       "      <th>deadline</th>\n",
       "      <th>fx_rate</th>\n",
       "      <th>goal</th>\n",
       "      <th>id</th>\n",
       "      <th>launched_at</th>\n",
       "      <th>pledged</th>\n",
       "      <th>state_changed_at</th>\n",
       "      <th>static_usd_rate</th>\n",
       "      <th>usd_pledged</th>\n",
       "    </tr>\n",
       "  </thead>\n",
       "  <tbody>\n",
       "    <tr>\n",
       "      <th>count</th>\n",
       "      <td>209222.000000</td>\n",
       "      <td>2.092220e+05</td>\n",
       "      <td>2.092220e+05</td>\n",
       "      <td>2.092220e+05</td>\n",
       "      <td>209222.000000</td>\n",
       "      <td>2.092220e+05</td>\n",
       "      <td>2.092220e+05</td>\n",
       "      <td>2.092220e+05</td>\n",
       "      <td>2.092220e+05</td>\n",
       "      <td>2.092220e+05</td>\n",
       "      <td>209222.000000</td>\n",
       "      <td>2.092220e+05</td>\n",
       "    </tr>\n",
       "    <tr>\n",
       "      <th>mean</th>\n",
       "      <td>145.419057</td>\n",
       "      <td>1.289290e+04</td>\n",
       "      <td>1.456089e+09</td>\n",
       "      <td>1.463033e+09</td>\n",
       "      <td>0.994857</td>\n",
       "      <td>4.917604e+04</td>\n",
       "      <td>1.073222e+09</td>\n",
       "      <td>1.460206e+09</td>\n",
       "      <td>1.881403e+04</td>\n",
       "      <td>1.462838e+09</td>\n",
       "      <td>1.010757</td>\n",
       "      <td>1.289213e+04</td>\n",
       "    </tr>\n",
       "    <tr>\n",
       "      <th>std</th>\n",
       "      <td>885.967976</td>\n",
       "      <td>8.889414e+04</td>\n",
       "      <td>6.339711e+07</td>\n",
       "      <td>6.305618e+07</td>\n",
       "      <td>0.211654</td>\n",
       "      <td>1.179427e+06</td>\n",
       "      <td>6.198051e+08</td>\n",
       "      <td>6.309029e+07</td>\n",
       "      <td>3.229596e+05</td>\n",
       "      <td>6.290421e+07</td>\n",
       "      <td>0.231893</td>\n",
       "      <td>8.890124e+04</td>\n",
       "    </tr>\n",
       "    <tr>\n",
       "      <th>min</th>\n",
       "      <td>0.000000</td>\n",
       "      <td>0.000000e+00</td>\n",
       "      <td>1.240366e+09</td>\n",
       "      <td>1.241334e+09</td>\n",
       "      <td>0.008966</td>\n",
       "      <td>1.000000e-02</td>\n",
       "      <td>8.624000e+03</td>\n",
       "      <td>1.240603e+09</td>\n",
       "      <td>0.000000e+00</td>\n",
       "      <td>1.241334e+09</td>\n",
       "      <td>0.008771</td>\n",
       "      <td>0.000000e+00</td>\n",
       "    </tr>\n",
       "    <tr>\n",
       "      <th>25%</th>\n",
       "      <td>4.000000</td>\n",
       "      <td>1.060000e+02</td>\n",
       "      <td>1.413317e+09</td>\n",
       "      <td>1.420607e+09</td>\n",
       "      <td>1.000000</td>\n",
       "      <td>1.500000e+03</td>\n",
       "      <td>5.351054e+08</td>\n",
       "      <td>1.417639e+09</td>\n",
       "      <td>1.100000e+02</td>\n",
       "      <td>1.420485e+09</td>\n",
       "      <td>1.000000</td>\n",
       "      <td>1.060014e+02</td>\n",
       "    </tr>\n",
       "    <tr>\n",
       "      <th>50%</th>\n",
       "      <td>27.000000</td>\n",
       "      <td>1.537000e+03</td>\n",
       "      <td>1.457895e+09</td>\n",
       "      <td>1.464754e+09</td>\n",
       "      <td>1.000000</td>\n",
       "      <td>5.000000e+03</td>\n",
       "      <td>1.074579e+09</td>\n",
       "      <td>1.461924e+09</td>\n",
       "      <td>1.556000e+03</td>\n",
       "      <td>1.464709e+09</td>\n",
       "      <td>1.000000</td>\n",
       "      <td>1.537358e+03</td>\n",
       "    </tr>\n",
       "    <tr>\n",
       "      <th>75%</th>\n",
       "      <td>89.000000</td>\n",
       "      <td>6.548000e+03</td>\n",
       "      <td>1.511595e+09</td>\n",
       "      <td>1.519437e+09</td>\n",
       "      <td>1.000000</td>\n",
       "      <td>1.500000e+04</td>\n",
       "      <td>1.609369e+09</td>\n",
       "      <td>1.516694e+09</td>\n",
       "      <td>6.887200e+03</td>\n",
       "      <td>1.519366e+09</td>\n",
       "      <td>1.000000</td>\n",
       "      <td>6.550000e+03</td>\n",
       "    </tr>\n",
       "    <tr>\n",
       "      <th>max</th>\n",
       "      <td>105857.000000</td>\n",
       "      <td>8.596474e+06</td>\n",
       "      <td>1.552527e+09</td>\n",
       "      <td>1.557721e+09</td>\n",
       "      <td>1.876033</td>\n",
       "      <td>1.000000e+08</td>\n",
       "      <td>2.147476e+09</td>\n",
       "      <td>1.552537e+09</td>\n",
       "      <td>8.103074e+07</td>\n",
       "      <td>1.552537e+09</td>\n",
       "      <td>1.716408</td>\n",
       "      <td>8.596475e+06</td>\n",
       "    </tr>\n",
       "  </tbody>\n",
       "</table>\n",
       "</div>"
      ],
      "text/plain": [
       "       backers_count  converted_pledged_amount    created_at      deadline  \\\n",
       "count  209222.000000              2.092220e+05  2.092220e+05  2.092220e+05   \n",
       "mean      145.419057              1.289290e+04  1.456089e+09  1.463033e+09   \n",
       "std       885.967976              8.889414e+04  6.339711e+07  6.305618e+07   \n",
       "min         0.000000              0.000000e+00  1.240366e+09  1.241334e+09   \n",
       "25%         4.000000              1.060000e+02  1.413317e+09  1.420607e+09   \n",
       "50%        27.000000              1.537000e+03  1.457895e+09  1.464754e+09   \n",
       "75%        89.000000              6.548000e+03  1.511595e+09  1.519437e+09   \n",
       "max    105857.000000              8.596474e+06  1.552527e+09  1.557721e+09   \n",
       "\n",
       "             fx_rate          goal            id   launched_at       pledged  \\\n",
       "count  209222.000000  2.092220e+05  2.092220e+05  2.092220e+05  2.092220e+05   \n",
       "mean        0.994857  4.917604e+04  1.073222e+09  1.460206e+09  1.881403e+04   \n",
       "std         0.211654  1.179427e+06  6.198051e+08  6.309029e+07  3.229596e+05   \n",
       "min         0.008966  1.000000e-02  8.624000e+03  1.240603e+09  0.000000e+00   \n",
       "25%         1.000000  1.500000e+03  5.351054e+08  1.417639e+09  1.100000e+02   \n",
       "50%         1.000000  5.000000e+03  1.074579e+09  1.461924e+09  1.556000e+03   \n",
       "75%         1.000000  1.500000e+04  1.609369e+09  1.516694e+09  6.887200e+03   \n",
       "max         1.876033  1.000000e+08  2.147476e+09  1.552537e+09  8.103074e+07   \n",
       "\n",
       "       state_changed_at  static_usd_rate   usd_pledged  \n",
       "count      2.092220e+05    209222.000000  2.092220e+05  \n",
       "mean       1.462838e+09         1.010757  1.289213e+04  \n",
       "std        6.290421e+07         0.231893  8.890124e+04  \n",
       "min        1.241334e+09         0.008771  0.000000e+00  \n",
       "25%        1.420485e+09         1.000000  1.060014e+02  \n",
       "50%        1.464709e+09         1.000000  1.537358e+03  \n",
       "75%        1.519366e+09         1.000000  6.550000e+03  \n",
       "max        1.552537e+09         1.716408  8.596475e+06  "
      ]
     },
     "execution_count": 8,
     "metadata": {},
     "output_type": "execute_result"
    }
   ],
   "source": [
    "df.describe()"
   ]
  },
  {
   "cell_type": "markdown",
   "metadata": {},
   "source": [
    "#### Remove columns"
   ]
  },
  {
   "cell_type": "code",
   "execution_count": 10,
   "metadata": {},
   "outputs": [],
   "source": [
    "df.drop(labels=[\"permissions\", \"is_backing\", \"friends\", \"is_starred\", 'slug'], \n",
    "        axis=1, \n",
    "        inplace=True)"
   ]
  },
  {
   "cell_type": "code",
   "execution_count": 11,
   "metadata": {},
   "outputs": [
    {
     "data": {
      "text/plain": [
       "(209222, 32)"
      ]
     },
     "execution_count": 11,
     "metadata": {},
     "output_type": "execute_result"
    }
   ],
   "source": [
    "df.shape"
   ]
  },
  {
   "cell_type": "markdown",
   "metadata": {},
   "source": [
    "#### Convert time columns to dates "
   ]
  },
  {
   "cell_type": "code",
   "execution_count": 12,
   "metadata": {},
   "outputs": [],
   "source": [
    "time = [\"created_at\", \"deadline\", \"launched_at\", \"state_changed_at\"]"
   ]
  },
  {
   "cell_type": "code",
   "execution_count": 13,
   "metadata": {},
   "outputs": [],
   "source": [
    "for i in time:\n",
    "    df[i] = pd.to_datetime(df[i], unit=\"s\")"
   ]
  },
  {
   "cell_type": "code",
   "execution_count": 14,
   "metadata": {},
   "outputs": [
    {
     "data": {
      "text/html": [
       "<div>\n",
       "<style scoped>\n",
       "    .dataframe tbody tr th:only-of-type {\n",
       "        vertical-align: middle;\n",
       "    }\n",
       "\n",
       "    .dataframe tbody tr th {\n",
       "        vertical-align: top;\n",
       "    }\n",
       "\n",
       "    .dataframe thead th {\n",
       "        text-align: right;\n",
       "    }\n",
       "</style>\n",
       "<table border=\"1\" class=\"dataframe\">\n",
       "  <thead>\n",
       "    <tr style=\"text-align: right;\">\n",
       "      <th></th>\n",
       "      <th>0</th>\n",
       "    </tr>\n",
       "  </thead>\n",
       "  <tbody>\n",
       "    <tr>\n",
       "      <th>backers_count</th>\n",
       "      <td>315</td>\n",
       "    </tr>\n",
       "    <tr>\n",
       "      <th>blurb</th>\n",
       "      <td>Babalus Shoes</td>\n",
       "    </tr>\n",
       "    <tr>\n",
       "      <th>category</th>\n",
       "      <td>{\"id\":266,\"name\":\"Footwear\",\"slug\":\"fashion/fo...</td>\n",
       "    </tr>\n",
       "    <tr>\n",
       "      <th>converted_pledged_amount</th>\n",
       "      <td>28645</td>\n",
       "    </tr>\n",
       "    <tr>\n",
       "      <th>country</th>\n",
       "      <td>US</td>\n",
       "    </tr>\n",
       "    <tr>\n",
       "      <th>created_at</th>\n",
       "      <td>2018-11-05 23:06:45</td>\n",
       "    </tr>\n",
       "    <tr>\n",
       "      <th>creator</th>\n",
       "      <td>{\"id\":2094277840,\"name\":\"Lucy Conroy\",\"slug\":\"...</td>\n",
       "    </tr>\n",
       "    <tr>\n",
       "      <th>currency</th>\n",
       "      <td>USD</td>\n",
       "    </tr>\n",
       "    <tr>\n",
       "      <th>currency_symbol</th>\n",
       "      <td>$</td>\n",
       "    </tr>\n",
       "    <tr>\n",
       "      <th>currency_trailing_code</th>\n",
       "      <td>True</td>\n",
       "    </tr>\n",
       "    <tr>\n",
       "      <th>current_currency</th>\n",
       "      <td>USD</td>\n",
       "    </tr>\n",
       "    <tr>\n",
       "      <th>deadline</th>\n",
       "      <td>2019-03-14 05:02:55</td>\n",
       "    </tr>\n",
       "    <tr>\n",
       "      <th>disable_communication</th>\n",
       "      <td>False</td>\n",
       "    </tr>\n",
       "    <tr>\n",
       "      <th>fx_rate</th>\n",
       "      <td>1</td>\n",
       "    </tr>\n",
       "    <tr>\n",
       "      <th>goal</th>\n",
       "      <td>28000</td>\n",
       "    </tr>\n",
       "    <tr>\n",
       "      <th>id</th>\n",
       "      <td>2108505034</td>\n",
       "    </tr>\n",
       "    <tr>\n",
       "      <th>is_starrable</th>\n",
       "      <td>False</td>\n",
       "    </tr>\n",
       "    <tr>\n",
       "      <th>launched_at</th>\n",
       "      <td>2019-01-23 06:02:55</td>\n",
       "    </tr>\n",
       "    <tr>\n",
       "      <th>location</th>\n",
       "      <td>{\"id\":2462429,\"name\":\"Novato\",\"slug\":\"novato-c...</td>\n",
       "    </tr>\n",
       "    <tr>\n",
       "      <th>name</th>\n",
       "      <td>Babalus Children's Shoes</td>\n",
       "    </tr>\n",
       "    <tr>\n",
       "      <th>photo</th>\n",
       "      <td>{\"key\":\"assets/023/667/205/a565fde5382d6b53276...</td>\n",
       "    </tr>\n",
       "    <tr>\n",
       "      <th>pledged</th>\n",
       "      <td>28645</td>\n",
       "    </tr>\n",
       "    <tr>\n",
       "      <th>profile</th>\n",
       "      <td>{\"id\":3508024,\"project_id\":3508024,\"state\":\"in...</td>\n",
       "    </tr>\n",
       "    <tr>\n",
       "      <th>source_url</th>\n",
       "      <td>https://www.kickstarter.com/discover/categorie...</td>\n",
       "    </tr>\n",
       "    <tr>\n",
       "      <th>spotlight</th>\n",
       "      <td>False</td>\n",
       "    </tr>\n",
       "    <tr>\n",
       "      <th>staff_pick</th>\n",
       "      <td>False</td>\n",
       "    </tr>\n",
       "    <tr>\n",
       "      <th>state</th>\n",
       "      <td>live</td>\n",
       "    </tr>\n",
       "    <tr>\n",
       "      <th>state_changed_at</th>\n",
       "      <td>2019-01-23 06:02:55</td>\n",
       "    </tr>\n",
       "    <tr>\n",
       "      <th>static_usd_rate</th>\n",
       "      <td>1</td>\n",
       "    </tr>\n",
       "    <tr>\n",
       "      <th>urls</th>\n",
       "      <td>{\"web\":{\"project\":\"https://www.kickstarter.com...</td>\n",
       "    </tr>\n",
       "    <tr>\n",
       "      <th>usd_pledged</th>\n",
       "      <td>28645</td>\n",
       "    </tr>\n",
       "    <tr>\n",
       "      <th>usd_type</th>\n",
       "      <td>international</td>\n",
       "    </tr>\n",
       "  </tbody>\n",
       "</table>\n",
       "</div>"
      ],
      "text/plain": [
       "                                                                          0\n",
       "backers_count                                                           315\n",
       "blurb                                                         Babalus Shoes\n",
       "category                  {\"id\":266,\"name\":\"Footwear\",\"slug\":\"fashion/fo...\n",
       "converted_pledged_amount                                              28645\n",
       "country                                                                  US\n",
       "created_at                                              2018-11-05 23:06:45\n",
       "creator                   {\"id\":2094277840,\"name\":\"Lucy Conroy\",\"slug\":\"...\n",
       "currency                                                                USD\n",
       "currency_symbol                                                           $\n",
       "currency_trailing_code                                                 True\n",
       "current_currency                                                        USD\n",
       "deadline                                                2019-03-14 05:02:55\n",
       "disable_communication                                                 False\n",
       "fx_rate                                                                   1\n",
       "goal                                                                  28000\n",
       "id                                                               2108505034\n",
       "is_starrable                                                          False\n",
       "launched_at                                             2019-01-23 06:02:55\n",
       "location                  {\"id\":2462429,\"name\":\"Novato\",\"slug\":\"novato-c...\n",
       "name                                               Babalus Children's Shoes\n",
       "photo                     {\"key\":\"assets/023/667/205/a565fde5382d6b53276...\n",
       "pledged                                                               28645\n",
       "profile                   {\"id\":3508024,\"project_id\":3508024,\"state\":\"in...\n",
       "source_url                https://www.kickstarter.com/discover/categorie...\n",
       "spotlight                                                             False\n",
       "staff_pick                                                            False\n",
       "state                                                                  live\n",
       "state_changed_at                                        2019-01-23 06:02:55\n",
       "static_usd_rate                                                           1\n",
       "urls                      {\"web\":{\"project\":\"https://www.kickstarter.com...\n",
       "usd_pledged                                                           28645\n",
       "usd_type                                                      international"
      ]
     },
     "execution_count": 14,
     "metadata": {},
     "output_type": "execute_result"
    }
   ],
   "source": [
    "df.head(1).T"
   ]
  },
  {
   "cell_type": "markdown",
   "metadata": {},
   "source": [
    "first date:"
   ]
  },
  {
   "cell_type": "code",
   "execution_count": 15,
   "metadata": {},
   "outputs": [
    {
     "data": {
      "text/plain": [
       "Timestamp('2009-04-22 02:11:10')"
      ]
     },
     "execution_count": 15,
     "metadata": {},
     "output_type": "execute_result"
    }
   ],
   "source": [
    "min(df['created_at'])"
   ]
  },
  {
   "cell_type": "markdown",
   "metadata": {},
   "source": [
    "last date:"
   ]
  },
  {
   "cell_type": "code",
   "execution_count": 16,
   "metadata": {},
   "outputs": [
    {
     "data": {
      "text/plain": [
       "Timestamp('2019-03-14 01:25:26')"
      ]
     },
     "execution_count": 16,
     "metadata": {},
     "output_type": "execute_result"
    }
   ],
   "source": [
    "max(df['created_at'])"
   ]
  },
  {
   "cell_type": "markdown",
   "metadata": {},
   "source": [
    "#### Check and remove duplicates "
   ]
  },
  {
   "cell_type": "markdown",
   "metadata": {},
   "source": [
    "Duplicate entries would change the distribution of our dataset by weighting some observations more than others. We can use the `id` column to check for duplicates in the dataset. "
   ]
  },
  {
   "cell_type": "code",
   "execution_count": 17,
   "metadata": {},
   "outputs": [
    {
     "data": {
      "text/plain": [
       "0.12884878263280153"
      ]
     },
     "execution_count": 17,
     "metadata": {},
     "output_type": "execute_result"
    }
   ],
   "source": [
    "df.duplicated(subset='id', keep='first').sum()/len(df['id'])"
   ]
  },
  {
   "cell_type": "markdown",
   "metadata": {},
   "source": [
    "The dataset contains around 13% duplicate entries, which need to be addressed. Before removing the duplicates from the dataset, we need to check whether all columns contain duplicate entries or whether they might have just the same id. "
   ]
  },
  {
   "cell_type": "code",
   "execution_count": 18,
   "metadata": {},
   "outputs": [],
   "source": [
    "df_duplicates = df[df.duplicated(['id'], keep = False)]"
   ]
  },
  {
   "cell_type": "code",
   "execution_count": 19,
   "metadata": {},
   "outputs": [
    {
     "data": {
      "text/html": [
       "<div>\n",
       "<style scoped>\n",
       "    .dataframe tbody tr th:only-of-type {\n",
       "        vertical-align: middle;\n",
       "    }\n",
       "\n",
       "    .dataframe tbody tr th {\n",
       "        vertical-align: top;\n",
       "    }\n",
       "\n",
       "    .dataframe thead th {\n",
       "        text-align: right;\n",
       "    }\n",
       "</style>\n",
       "<table border=\"1\" class=\"dataframe\">\n",
       "  <thead>\n",
       "    <tr style=\"text-align: right;\">\n",
       "      <th></th>\n",
       "      <th>120077</th>\n",
       "      <th>159940</th>\n",
       "    </tr>\n",
       "  </thead>\n",
       "  <tbody>\n",
       "    <tr>\n",
       "      <th>backers_count</th>\n",
       "      <td>709</td>\n",
       "      <td>709</td>\n",
       "    </tr>\n",
       "    <tr>\n",
       "      <th>blurb</th>\n",
       "      <td>Over 6,000 thoughtfully designed icons that ar...</td>\n",
       "      <td>Over 6,000 thoughtfully designed icons that ar...</td>\n",
       "    </tr>\n",
       "    <tr>\n",
       "      <th>category</th>\n",
       "      <td>{\"id\":51,\"name\":\"Software\",\"slug\":\"technology/...</td>\n",
       "      <td>{\"id\":51,\"name\":\"Software\",\"slug\":\"technology/...</td>\n",
       "    </tr>\n",
       "    <tr>\n",
       "      <th>converted_pledged_amount</th>\n",
       "      <td>70751</td>\n",
       "      <td>70751</td>\n",
       "    </tr>\n",
       "    <tr>\n",
       "      <th>country</th>\n",
       "      <td>US</td>\n",
       "      <td>US</td>\n",
       "    </tr>\n",
       "    <tr>\n",
       "      <th>created_at</th>\n",
       "      <td>2017-06-01 12:43:16</td>\n",
       "      <td>2017-06-01 12:43:16</td>\n",
       "    </tr>\n",
       "    <tr>\n",
       "      <th>creator</th>\n",
       "      <td>{\"id\":876759573,\"name\":\"Jory Raphael\",\"slug\":\"...</td>\n",
       "      <td>{\"id\":876759573,\"name\":\"Jory Raphael\",\"slug\":\"...</td>\n",
       "    </tr>\n",
       "    <tr>\n",
       "      <th>currency</th>\n",
       "      <td>USD</td>\n",
       "      <td>USD</td>\n",
       "    </tr>\n",
       "    <tr>\n",
       "      <th>currency_symbol</th>\n",
       "      <td>$</td>\n",
       "      <td>$</td>\n",
       "    </tr>\n",
       "    <tr>\n",
       "      <th>currency_trailing_code</th>\n",
       "      <td>True</td>\n",
       "      <td>True</td>\n",
       "    </tr>\n",
       "    <tr>\n",
       "      <th>current_currency</th>\n",
       "      <td>USD</td>\n",
       "      <td>USD</td>\n",
       "    </tr>\n",
       "    <tr>\n",
       "      <th>deadline</th>\n",
       "      <td>2017-08-18 18:00:00</td>\n",
       "      <td>2017-08-18 18:00:00</td>\n",
       "    </tr>\n",
       "    <tr>\n",
       "      <th>disable_communication</th>\n",
       "      <td>False</td>\n",
       "      <td>False</td>\n",
       "    </tr>\n",
       "    <tr>\n",
       "      <th>fx_rate</th>\n",
       "      <td>1</td>\n",
       "      <td>1</td>\n",
       "    </tr>\n",
       "    <tr>\n",
       "      <th>goal</th>\n",
       "      <td>12000</td>\n",
       "      <td>12000</td>\n",
       "    </tr>\n",
       "    <tr>\n",
       "      <th>id</th>\n",
       "      <td>2147345648</td>\n",
       "      <td>2147345648</td>\n",
       "    </tr>\n",
       "    <tr>\n",
       "      <th>is_starrable</th>\n",
       "      <td>False</td>\n",
       "      <td>False</td>\n",
       "    </tr>\n",
       "    <tr>\n",
       "      <th>launched_at</th>\n",
       "      <td>2017-07-26 13:13:04</td>\n",
       "      <td>2017-07-26 13:13:04</td>\n",
       "    </tr>\n",
       "    <tr>\n",
       "      <th>location</th>\n",
       "      <td>{\"id\":2372071,\"name\":\"Burlington\",\"slug\":\"burl...</td>\n",
       "      <td>{\"id\":2372071,\"name\":\"Burlington\",\"slug\":\"burl...</td>\n",
       "    </tr>\n",
       "    <tr>\n",
       "      <th>name</th>\n",
       "      <td>Symbolicons Pro: Your friendly, versatile, go-...</td>\n",
       "      <td>Symbolicons Pro: Your friendly, versatile, go-...</td>\n",
       "    </tr>\n",
       "    <tr>\n",
       "      <th>photo</th>\n",
       "      <td>{\"key\":\"assets/016/967/334/bf55658239075e4a4f0...</td>\n",
       "      <td>{\"key\":\"assets/016/967/334/bf55658239075e4a4f0...</td>\n",
       "    </tr>\n",
       "    <tr>\n",
       "      <th>pledged</th>\n",
       "      <td>70751</td>\n",
       "      <td>70751</td>\n",
       "    </tr>\n",
       "    <tr>\n",
       "      <th>profile</th>\n",
       "      <td>{\"id\":3023292,\"project_id\":3023292,\"state\":\"ac...</td>\n",
       "      <td>{\"id\":3023292,\"project_id\":3023292,\"state\":\"ac...</td>\n",
       "    </tr>\n",
       "    <tr>\n",
       "      <th>source_url</th>\n",
       "      <td>https://www.kickstarter.com/discover/categorie...</td>\n",
       "      <td>https://www.kickstarter.com/discover/categorie...</td>\n",
       "    </tr>\n",
       "    <tr>\n",
       "      <th>spotlight</th>\n",
       "      <td>True</td>\n",
       "      <td>True</td>\n",
       "    </tr>\n",
       "    <tr>\n",
       "      <th>staff_pick</th>\n",
       "      <td>False</td>\n",
       "      <td>False</td>\n",
       "    </tr>\n",
       "    <tr>\n",
       "      <th>state</th>\n",
       "      <td>successful</td>\n",
       "      <td>successful</td>\n",
       "    </tr>\n",
       "    <tr>\n",
       "      <th>state_changed_at</th>\n",
       "      <td>2017-08-18 18:00:00</td>\n",
       "      <td>2017-08-18 18:00:00</td>\n",
       "    </tr>\n",
       "    <tr>\n",
       "      <th>static_usd_rate</th>\n",
       "      <td>1</td>\n",
       "      <td>1</td>\n",
       "    </tr>\n",
       "    <tr>\n",
       "      <th>urls</th>\n",
       "      <td>{\"web\":{\"project\":\"https://www.kickstarter.com...</td>\n",
       "      <td>{\"web\":{\"project\":\"https://www.kickstarter.com...</td>\n",
       "    </tr>\n",
       "    <tr>\n",
       "      <th>usd_pledged</th>\n",
       "      <td>70751</td>\n",
       "      <td>70751</td>\n",
       "    </tr>\n",
       "    <tr>\n",
       "      <th>usd_type</th>\n",
       "      <td>domestic</td>\n",
       "      <td>domestic</td>\n",
       "    </tr>\n",
       "  </tbody>\n",
       "</table>\n",
       "</div>"
      ],
      "text/plain": [
       "                                                                     120077  \\\n",
       "backers_count                                                           709   \n",
       "blurb                     Over 6,000 thoughtfully designed icons that ar...   \n",
       "category                  {\"id\":51,\"name\":\"Software\",\"slug\":\"technology/...   \n",
       "converted_pledged_amount                                              70751   \n",
       "country                                                                  US   \n",
       "created_at                                              2017-06-01 12:43:16   \n",
       "creator                   {\"id\":876759573,\"name\":\"Jory Raphael\",\"slug\":\"...   \n",
       "currency                                                                USD   \n",
       "currency_symbol                                                           $   \n",
       "currency_trailing_code                                                 True   \n",
       "current_currency                                                        USD   \n",
       "deadline                                                2017-08-18 18:00:00   \n",
       "disable_communication                                                 False   \n",
       "fx_rate                                                                   1   \n",
       "goal                                                                  12000   \n",
       "id                                                               2147345648   \n",
       "is_starrable                                                          False   \n",
       "launched_at                                             2017-07-26 13:13:04   \n",
       "location                  {\"id\":2372071,\"name\":\"Burlington\",\"slug\":\"burl...   \n",
       "name                      Symbolicons Pro: Your friendly, versatile, go-...   \n",
       "photo                     {\"key\":\"assets/016/967/334/bf55658239075e4a4f0...   \n",
       "pledged                                                               70751   \n",
       "profile                   {\"id\":3023292,\"project_id\":3023292,\"state\":\"ac...   \n",
       "source_url                https://www.kickstarter.com/discover/categorie...   \n",
       "spotlight                                                              True   \n",
       "staff_pick                                                            False   \n",
       "state                                                            successful   \n",
       "state_changed_at                                        2017-08-18 18:00:00   \n",
       "static_usd_rate                                                           1   \n",
       "urls                      {\"web\":{\"project\":\"https://www.kickstarter.com...   \n",
       "usd_pledged                                                           70751   \n",
       "usd_type                                                           domestic   \n",
       "\n",
       "                                                                     159940  \n",
       "backers_count                                                           709  \n",
       "blurb                     Over 6,000 thoughtfully designed icons that ar...  \n",
       "category                  {\"id\":51,\"name\":\"Software\",\"slug\":\"technology/...  \n",
       "converted_pledged_amount                                              70751  \n",
       "country                                                                  US  \n",
       "created_at                                              2017-06-01 12:43:16  \n",
       "creator                   {\"id\":876759573,\"name\":\"Jory Raphael\",\"slug\":\"...  \n",
       "currency                                                                USD  \n",
       "currency_symbol                                                           $  \n",
       "currency_trailing_code                                                 True  \n",
       "current_currency                                                        USD  \n",
       "deadline                                                2017-08-18 18:00:00  \n",
       "disable_communication                                                 False  \n",
       "fx_rate                                                                   1  \n",
       "goal                                                                  12000  \n",
       "id                                                               2147345648  \n",
       "is_starrable                                                          False  \n",
       "launched_at                                             2017-07-26 13:13:04  \n",
       "location                  {\"id\":2372071,\"name\":\"Burlington\",\"slug\":\"burl...  \n",
       "name                      Symbolicons Pro: Your friendly, versatile, go-...  \n",
       "photo                     {\"key\":\"assets/016/967/334/bf55658239075e4a4f0...  \n",
       "pledged                                                               70751  \n",
       "profile                   {\"id\":3023292,\"project_id\":3023292,\"state\":\"ac...  \n",
       "source_url                https://www.kickstarter.com/discover/categorie...  \n",
       "spotlight                                                              True  \n",
       "staff_pick                                                            False  \n",
       "state                                                            successful  \n",
       "state_changed_at                                        2017-08-18 18:00:00  \n",
       "static_usd_rate                                                           1  \n",
       "urls                      {\"web\":{\"project\":\"https://www.kickstarter.com...  \n",
       "usd_pledged                                                           70751  \n",
       "usd_type                                                           domestic  "
      ]
     },
     "execution_count": 19,
     "metadata": {},
     "output_type": "execute_result"
    }
   ],
   "source": [
    "df_duplicates.sort_values(by=\"id\").tail(2).T"
   ]
  },
  {
   "cell_type": "markdown",
   "metadata": {},
   "source": [
    "It appears like the entries are indeed equivalent to each other. Hence, we will drop them."
   ]
  },
  {
   "cell_type": "code",
   "execution_count": 20,
   "metadata": {},
   "outputs": [],
   "source": [
    "df.drop_duplicates(subset='id', keep='first', inplace=True)"
   ]
  },
  {
   "cell_type": "code",
   "execution_count": 21,
   "metadata": {},
   "outputs": [
    {
     "data": {
      "text/plain": [
       "(182264, 32)"
      ]
     },
     "execution_count": 21,
     "metadata": {},
     "output_type": "execute_result"
    }
   ],
   "source": [
    "df.shape"
   ]
  },
  {
   "cell_type": "markdown",
   "metadata": {},
   "source": [
    "After removing the duplicate entries, we have 182264 observations left."
   ]
  },
  {
   "cell_type": "markdown",
   "metadata": {},
   "source": [
    "#### Check and treat missing values"
   ]
  },
  {
   "cell_type": "code",
   "execution_count": 22,
   "metadata": {},
   "outputs": [
    {
     "data": {
      "text/plain": [
       "backers_count                 0\n",
       "blurb                         8\n",
       "category                      0\n",
       "converted_pledged_amount      0\n",
       "country                       0\n",
       "created_at                    0\n",
       "creator                       0\n",
       "currency                      0\n",
       "currency_symbol               0\n",
       "currency_trailing_code        0\n",
       "current_currency              0\n",
       "deadline                      0\n",
       "disable_communication         0\n",
       "fx_rate                       0\n",
       "goal                          0\n",
       "id                            0\n",
       "is_starrable                  0\n",
       "launched_at                   0\n",
       "location                    224\n",
       "name                          0\n",
       "photo                         0\n",
       "pledged                       0\n",
       "profile                       0\n",
       "source_url                    0\n",
       "spotlight                     0\n",
       "staff_pick                    0\n",
       "state                         0\n",
       "state_changed_at              0\n",
       "static_usd_rate               0\n",
       "urls                          0\n",
       "usd_pledged                   0\n",
       "usd_type                    235\n",
       "dtype: int64"
      ]
     },
     "execution_count": 22,
     "metadata": {},
     "output_type": "execute_result"
    }
   ],
   "source": [
    "df.isna().sum()"
   ]
  },
  {
   "cell_type": "markdown",
   "metadata": {},
   "source": [
    "Overall, the number of missing values is very limited. \n",
    "\n",
    "For `blurb`where we have only 8 missing values, we can take a look at the data points to see if we can manually include the missing information. \n",
    "\n",
    "Regarding `usd_type`, we will drop the entire column because its meaning is not clear. \n",
    "\n",
    "Lastly, `location` has 224 missing values. Here we might be able to extract the information from another column. \n",
    "\n",
    "Let's start with `blurb`. "
   ]
  },
  {
   "cell_type": "code",
   "execution_count": 23,
   "metadata": {
    "scrolled": true
   },
   "outputs": [
    {
     "data": {
      "text/html": [
       "<div>\n",
       "<style scoped>\n",
       "    .dataframe tbody tr th:only-of-type {\n",
       "        vertical-align: middle;\n",
       "    }\n",
       "\n",
       "    .dataframe tbody tr th {\n",
       "        vertical-align: top;\n",
       "    }\n",
       "\n",
       "    .dataframe thead th {\n",
       "        text-align: right;\n",
       "    }\n",
       "</style>\n",
       "<table border=\"1\" class=\"dataframe\">\n",
       "  <thead>\n",
       "    <tr style=\"text-align: right;\">\n",
       "      <th></th>\n",
       "      <th>backers_count</th>\n",
       "      <th>blurb</th>\n",
       "      <th>category</th>\n",
       "      <th>converted_pledged_amount</th>\n",
       "      <th>country</th>\n",
       "      <th>created_at</th>\n",
       "      <th>creator</th>\n",
       "      <th>currency</th>\n",
       "      <th>currency_symbol</th>\n",
       "      <th>currency_trailing_code</th>\n",
       "      <th>...</th>\n",
       "      <th>profile</th>\n",
       "      <th>source_url</th>\n",
       "      <th>spotlight</th>\n",
       "      <th>staff_pick</th>\n",
       "      <th>state</th>\n",
       "      <th>state_changed_at</th>\n",
       "      <th>static_usd_rate</th>\n",
       "      <th>urls</th>\n",
       "      <th>usd_pledged</th>\n",
       "      <th>usd_type</th>\n",
       "    </tr>\n",
       "  </thead>\n",
       "  <tbody>\n",
       "    <tr>\n",
       "      <th>65168</th>\n",
       "      <td>39</td>\n",
       "      <td>NaN</td>\n",
       "      <td>{\"id\":269,\"name\":\"Ready-to-wear\",\"slug\":\"fashi...</td>\n",
       "      <td>8675</td>\n",
       "      <td>DE</td>\n",
       "      <td>2017-09-02 14:59:35</td>\n",
       "      <td>{\"id\":1303591875,\"name\":\"Annabelle Deisler\",\"i...</td>\n",
       "      <td>EUR</td>\n",
       "      <td>€</td>\n",
       "      <td>False</td>\n",
       "      <td>...</td>\n",
       "      <td>{\"id\":3128728,\"project_id\":3128728,\"state\":\"in...</td>\n",
       "      <td>https://www.kickstarter.com/discover/categorie...</td>\n",
       "      <td>False</td>\n",
       "      <td>False</td>\n",
       "      <td>failed</td>\n",
       "      <td>2017-10-10 08:46:30</td>\n",
       "      <td>1.203700</td>\n",
       "      <td>{\"web\":{\"project\":\"https://www.kickstarter.com...</td>\n",
       "      <td>8873.674115</td>\n",
       "      <td>international</td>\n",
       "    </tr>\n",
       "    <tr>\n",
       "      <th>65299</th>\n",
       "      <td>0</td>\n",
       "      <td>NaN</td>\n",
       "      <td>{\"id\":311,\"name\":\"Food Trucks\",\"slug\":\"food/fo...</td>\n",
       "      <td>0</td>\n",
       "      <td>US</td>\n",
       "      <td>2016-09-08 19:44:28</td>\n",
       "      <td>{\"id\":874463436,\"name\":\"LeMae Fitzwater\",\"is_r...</td>\n",
       "      <td>USD</td>\n",
       "      <td>$</td>\n",
       "      <td>True</td>\n",
       "      <td>...</td>\n",
       "      <td>{\"id\":2671155,\"project_id\":2671155,\"state\":\"in...</td>\n",
       "      <td>https://www.kickstarter.com/discover/categorie...</td>\n",
       "      <td>False</td>\n",
       "      <td>False</td>\n",
       "      <td>canceled</td>\n",
       "      <td>2016-09-15 19:35:46</td>\n",
       "      <td>1.000000</td>\n",
       "      <td>{\"web\":{\"project\":\"https://www.kickstarter.com...</td>\n",
       "      <td>0.000000</td>\n",
       "      <td>domestic</td>\n",
       "    </tr>\n",
       "    <tr>\n",
       "      <th>90055</th>\n",
       "      <td>0</td>\n",
       "      <td>NaN</td>\n",
       "      <td>{\"id\":20,\"name\":\"Conceptual Art\",\"slug\":\"art/c...</td>\n",
       "      <td>0</td>\n",
       "      <td>US</td>\n",
       "      <td>2015-02-16 16:19:14</td>\n",
       "      <td>{\"id\":1316410093,\"name\":\"Rumi Forum\",\"slug\":\"i...</td>\n",
       "      <td>USD</td>\n",
       "      <td>$</td>\n",
       "      <td>True</td>\n",
       "      <td>...</td>\n",
       "      <td>{\"id\":1709325,\"project_id\":1709325,\"state\":\"in...</td>\n",
       "      <td>https://www.kickstarter.com/discover/categorie...</td>\n",
       "      <td>False</td>\n",
       "      <td>False</td>\n",
       "      <td>canceled</td>\n",
       "      <td>2015-02-20 16:21:07</td>\n",
       "      <td>1.000000</td>\n",
       "      <td>{\"web\":{\"project\":\"https://www.kickstarter.com...</td>\n",
       "      <td>0.000000</td>\n",
       "      <td>domestic</td>\n",
       "    </tr>\n",
       "    <tr>\n",
       "      <th>99620</th>\n",
       "      <td>242</td>\n",
       "      <td>NaN</td>\n",
       "      <td>{\"id\":339,\"name\":\"Sound\",\"slug\":\"technology/so...</td>\n",
       "      <td>54599</td>\n",
       "      <td>GB</td>\n",
       "      <td>2015-07-02 09:51:04</td>\n",
       "      <td>{\"id\":161070731,\"name\":\"ACWorldwide\",\"slug\":\"a...</td>\n",
       "      <td>GBP</td>\n",
       "      <td>£</td>\n",
       "      <td>False</td>\n",
       "      <td>...</td>\n",
       "      <td>{\"id\":1993140,\"project_id\":1993140,\"state\":\"in...</td>\n",
       "      <td>https://www.kickstarter.com/discover/categorie...</td>\n",
       "      <td>False</td>\n",
       "      <td>False</td>\n",
       "      <td>canceled</td>\n",
       "      <td>2015-10-02 22:30:21</td>\n",
       "      <td>1.516337</td>\n",
       "      <td>{\"web\":{\"project\":\"https://www.kickstarter.com...</td>\n",
       "      <td>54676.079907</td>\n",
       "      <td>domestic</td>\n",
       "    </tr>\n",
       "    <tr>\n",
       "      <th>108662</th>\n",
       "      <td>0</td>\n",
       "      <td>NaN</td>\n",
       "      <td>{\"id\":21,\"name\":\"Digital Art\",\"slug\":\"art/digi...</td>\n",
       "      <td>0</td>\n",
       "      <td>US</td>\n",
       "      <td>2017-11-03 03:24:21</td>\n",
       "      <td>{\"id\":1454907110,\"name\":\"moe\",\"is_registered\":...</td>\n",
       "      <td>USD</td>\n",
       "      <td>$</td>\n",
       "      <td>True</td>\n",
       "      <td>...</td>\n",
       "      <td>{\"id\":3206374,\"project_id\":3206374,\"state\":\"in...</td>\n",
       "      <td>https://www.kickstarter.com/discover/categorie...</td>\n",
       "      <td>False</td>\n",
       "      <td>False</td>\n",
       "      <td>failed</td>\n",
       "      <td>2018-01-12 23:34:08</td>\n",
       "      <td>1.000000</td>\n",
       "      <td>{\"web\":{\"project\":\"https://www.kickstarter.com...</td>\n",
       "      <td>0.000000</td>\n",
       "      <td>domestic</td>\n",
       "    </tr>\n",
       "    <tr>\n",
       "      <th>117999</th>\n",
       "      <td>0</td>\n",
       "      <td>NaN</td>\n",
       "      <td>{\"id\":286,\"name\":\"Spaces\",\"slug\":\"theater/spac...</td>\n",
       "      <td>0</td>\n",
       "      <td>US</td>\n",
       "      <td>2015-12-08 01:17:09</td>\n",
       "      <td>{\"id\":376626888,\"name\":\"Amanda Donnadio (delet...</td>\n",
       "      <td>USD</td>\n",
       "      <td>$</td>\n",
       "      <td>True</td>\n",
       "      <td>...</td>\n",
       "      <td>{\"id\":2266918,\"project_id\":2266918,\"state\":\"in...</td>\n",
       "      <td>https://www.kickstarter.com/discover/categorie...</td>\n",
       "      <td>False</td>\n",
       "      <td>False</td>\n",
       "      <td>canceled</td>\n",
       "      <td>2015-12-08 10:43:04</td>\n",
       "      <td>1.000000</td>\n",
       "      <td>{\"web\":{\"project\":\"https://www.kickstarter.com...</td>\n",
       "      <td>0.000000</td>\n",
       "      <td>domestic</td>\n",
       "    </tr>\n",
       "    <tr>\n",
       "      <th>169430</th>\n",
       "      <td>0</td>\n",
       "      <td>NaN</td>\n",
       "      <td>{\"id\":20,\"name\":\"Conceptual Art\",\"slug\":\"art/c...</td>\n",
       "      <td>0</td>\n",
       "      <td>US</td>\n",
       "      <td>2012-03-06 19:47:56</td>\n",
       "      <td>{\"id\":79887943,\"name\":\"Brian Mercer\",\"is_regis...</td>\n",
       "      <td>USD</td>\n",
       "      <td>$</td>\n",
       "      <td>True</td>\n",
       "      <td>...</td>\n",
       "      <td>{\"id\":93517,\"project_id\":93517,\"state\":\"inacti...</td>\n",
       "      <td>https://www.kickstarter.com/discover/categorie...</td>\n",
       "      <td>False</td>\n",
       "      <td>False</td>\n",
       "      <td>canceled</td>\n",
       "      <td>2012-03-12 19:42:07</td>\n",
       "      <td>1.000000</td>\n",
       "      <td>{\"web\":{\"project\":\"https://www.kickstarter.com...</td>\n",
       "      <td>0.000000</td>\n",
       "      <td>domestic</td>\n",
       "    </tr>\n",
       "    <tr>\n",
       "      <th>183688</th>\n",
       "      <td>2</td>\n",
       "      <td>NaN</td>\n",
       "      <td>{\"id\":351,\"name\":\"Printing\",\"slug\":\"crafts/pri...</td>\n",
       "      <td>20</td>\n",
       "      <td>US</td>\n",
       "      <td>2014-08-02 15:05:38</td>\n",
       "      <td>{\"id\":2029667279,\"name\":\"Danger Grills\",\"slug\"...</td>\n",
       "      <td>USD</td>\n",
       "      <td>$</td>\n",
       "      <td>True</td>\n",
       "      <td>...</td>\n",
       "      <td>{\"id\":1252148,\"project_id\":1252148,\"state\":\"in...</td>\n",
       "      <td>https://www.kickstarter.com/discover/categorie...</td>\n",
       "      <td>False</td>\n",
       "      <td>False</td>\n",
       "      <td>canceled</td>\n",
       "      <td>2014-08-18 03:52:00</td>\n",
       "      <td>1.000000</td>\n",
       "      <td>{\"web\":{\"project\":\"https://www.kickstarter.com...</td>\n",
       "      <td>20.000000</td>\n",
       "      <td>domestic</td>\n",
       "    </tr>\n",
       "  </tbody>\n",
       "</table>\n",
       "<p>8 rows × 32 columns</p>\n",
       "</div>"
      ],
      "text/plain": [
       "        backers_count blurb  \\\n",
       "65168              39   NaN   \n",
       "65299               0   NaN   \n",
       "90055               0   NaN   \n",
       "99620             242   NaN   \n",
       "108662              0   NaN   \n",
       "117999              0   NaN   \n",
       "169430              0   NaN   \n",
       "183688              2   NaN   \n",
       "\n",
       "                                                 category  \\\n",
       "65168   {\"id\":269,\"name\":\"Ready-to-wear\",\"slug\":\"fashi...   \n",
       "65299   {\"id\":311,\"name\":\"Food Trucks\",\"slug\":\"food/fo...   \n",
       "90055   {\"id\":20,\"name\":\"Conceptual Art\",\"slug\":\"art/c...   \n",
       "99620   {\"id\":339,\"name\":\"Sound\",\"slug\":\"technology/so...   \n",
       "108662  {\"id\":21,\"name\":\"Digital Art\",\"slug\":\"art/digi...   \n",
       "117999  {\"id\":286,\"name\":\"Spaces\",\"slug\":\"theater/spac...   \n",
       "169430  {\"id\":20,\"name\":\"Conceptual Art\",\"slug\":\"art/c...   \n",
       "183688  {\"id\":351,\"name\":\"Printing\",\"slug\":\"crafts/pri...   \n",
       "\n",
       "        converted_pledged_amount country          created_at  \\\n",
       "65168                       8675      DE 2017-09-02 14:59:35   \n",
       "65299                          0      US 2016-09-08 19:44:28   \n",
       "90055                          0      US 2015-02-16 16:19:14   \n",
       "99620                      54599      GB 2015-07-02 09:51:04   \n",
       "108662                         0      US 2017-11-03 03:24:21   \n",
       "117999                         0      US 2015-12-08 01:17:09   \n",
       "169430                         0      US 2012-03-06 19:47:56   \n",
       "183688                        20      US 2014-08-02 15:05:38   \n",
       "\n",
       "                                                  creator currency  \\\n",
       "65168   {\"id\":1303591875,\"name\":\"Annabelle Deisler\",\"i...      EUR   \n",
       "65299   {\"id\":874463436,\"name\":\"LeMae Fitzwater\",\"is_r...      USD   \n",
       "90055   {\"id\":1316410093,\"name\":\"Rumi Forum\",\"slug\":\"i...      USD   \n",
       "99620   {\"id\":161070731,\"name\":\"ACWorldwide\",\"slug\":\"a...      GBP   \n",
       "108662  {\"id\":1454907110,\"name\":\"moe\",\"is_registered\":...      USD   \n",
       "117999  {\"id\":376626888,\"name\":\"Amanda Donnadio (delet...      USD   \n",
       "169430  {\"id\":79887943,\"name\":\"Brian Mercer\",\"is_regis...      USD   \n",
       "183688  {\"id\":2029667279,\"name\":\"Danger Grills\",\"slug\"...      USD   \n",
       "\n",
       "       currency_symbol  currency_trailing_code  ...  \\\n",
       "65168                €                   False  ...   \n",
       "65299                $                    True  ...   \n",
       "90055                $                    True  ...   \n",
       "99620                £                   False  ...   \n",
       "108662               $                    True  ...   \n",
       "117999               $                    True  ...   \n",
       "169430               $                    True  ...   \n",
       "183688               $                    True  ...   \n",
       "\n",
       "                                                  profile  \\\n",
       "65168   {\"id\":3128728,\"project_id\":3128728,\"state\":\"in...   \n",
       "65299   {\"id\":2671155,\"project_id\":2671155,\"state\":\"in...   \n",
       "90055   {\"id\":1709325,\"project_id\":1709325,\"state\":\"in...   \n",
       "99620   {\"id\":1993140,\"project_id\":1993140,\"state\":\"in...   \n",
       "108662  {\"id\":3206374,\"project_id\":3206374,\"state\":\"in...   \n",
       "117999  {\"id\":2266918,\"project_id\":2266918,\"state\":\"in...   \n",
       "169430  {\"id\":93517,\"project_id\":93517,\"state\":\"inacti...   \n",
       "183688  {\"id\":1252148,\"project_id\":1252148,\"state\":\"in...   \n",
       "\n",
       "                                               source_url  spotlight  \\\n",
       "65168   https://www.kickstarter.com/discover/categorie...      False   \n",
       "65299   https://www.kickstarter.com/discover/categorie...      False   \n",
       "90055   https://www.kickstarter.com/discover/categorie...      False   \n",
       "99620   https://www.kickstarter.com/discover/categorie...      False   \n",
       "108662  https://www.kickstarter.com/discover/categorie...      False   \n",
       "117999  https://www.kickstarter.com/discover/categorie...      False   \n",
       "169430  https://www.kickstarter.com/discover/categorie...      False   \n",
       "183688  https://www.kickstarter.com/discover/categorie...      False   \n",
       "\n",
       "        staff_pick     state    state_changed_at  static_usd_rate  \\\n",
       "65168        False    failed 2017-10-10 08:46:30         1.203700   \n",
       "65299        False  canceled 2016-09-15 19:35:46         1.000000   \n",
       "90055        False  canceled 2015-02-20 16:21:07         1.000000   \n",
       "99620        False  canceled 2015-10-02 22:30:21         1.516337   \n",
       "108662       False    failed 2018-01-12 23:34:08         1.000000   \n",
       "117999       False  canceled 2015-12-08 10:43:04         1.000000   \n",
       "169430       False  canceled 2012-03-12 19:42:07         1.000000   \n",
       "183688       False  canceled 2014-08-18 03:52:00         1.000000   \n",
       "\n",
       "                                                     urls   usd_pledged  \\\n",
       "65168   {\"web\":{\"project\":\"https://www.kickstarter.com...   8873.674115   \n",
       "65299   {\"web\":{\"project\":\"https://www.kickstarter.com...      0.000000   \n",
       "90055   {\"web\":{\"project\":\"https://www.kickstarter.com...      0.000000   \n",
       "99620   {\"web\":{\"project\":\"https://www.kickstarter.com...  54676.079907   \n",
       "108662  {\"web\":{\"project\":\"https://www.kickstarter.com...      0.000000   \n",
       "117999  {\"web\":{\"project\":\"https://www.kickstarter.com...      0.000000   \n",
       "169430  {\"web\":{\"project\":\"https://www.kickstarter.com...      0.000000   \n",
       "183688  {\"web\":{\"project\":\"https://www.kickstarter.com...     20.000000   \n",
       "\n",
       "             usd_type  \n",
       "65168   international  \n",
       "65299        domestic  \n",
       "90055        domestic  \n",
       "99620        domestic  \n",
       "108662       domestic  \n",
       "117999       domestic  \n",
       "169430       domestic  \n",
       "183688       domestic  \n",
       "\n",
       "[8 rows x 32 columns]"
      ]
     },
     "execution_count": 23,
     "metadata": {},
     "output_type": "execute_result"
    }
   ],
   "source": [
    "df[df[\"blurb\"].isnull()==True]"
   ]
  },
  {
   "cell_type": "markdown",
   "metadata": {},
   "source": [
    "We tried to retrieve the `blurb`information from the campaign websites, however, the websites are no longer active. Hence, we will drop the 8 rows with missing information. Given the size of our dataset, we will not lose too much valuable information. "
   ]
  },
  {
   "cell_type": "code",
   "execution_count": 24,
   "metadata": {},
   "outputs": [],
   "source": [
    "df.dropna(subset=[\"blurb\"], inplace=True)"
   ]
  },
  {
   "cell_type": "code",
   "execution_count": 25,
   "metadata": {},
   "outputs": [
    {
     "data": {
      "text/plain": [
       "(182256, 32)"
      ]
     },
     "execution_count": 25,
     "metadata": {},
     "output_type": "execute_result"
    }
   ],
   "source": [
    "df.shape"
   ]
  },
  {
   "cell_type": "markdown",
   "metadata": {},
   "source": [
    "All 8 missing values for **blurb** have been removed. Next, we will drop the **usd_type** column."
   ]
  },
  {
   "cell_type": "code",
   "execution_count": 26,
   "metadata": {},
   "outputs": [],
   "source": [
    "df.drop(labels=\"usd_type\", axis=1, inplace=True)"
   ]
  },
  {
   "cell_type": "code",
   "execution_count": 27,
   "metadata": {},
   "outputs": [],
   "source": [
    "df.drop(labels=\"disable_communication\", axis=1, inplace=True)"
   ]
  },
  {
   "cell_type": "code",
   "execution_count": 28,
   "metadata": {},
   "outputs": [
    {
     "data": {
      "text/html": [
       "<div>\n",
       "<style scoped>\n",
       "    .dataframe tbody tr th:only-of-type {\n",
       "        vertical-align: middle;\n",
       "    }\n",
       "\n",
       "    .dataframe tbody tr th {\n",
       "        vertical-align: top;\n",
       "    }\n",
       "\n",
       "    .dataframe thead th {\n",
       "        text-align: right;\n",
       "    }\n",
       "</style>\n",
       "<table border=\"1\" class=\"dataframe\">\n",
       "  <thead>\n",
       "    <tr style=\"text-align: right;\">\n",
       "      <th></th>\n",
       "      <th>4</th>\n",
       "    </tr>\n",
       "  </thead>\n",
       "  <tbody>\n",
       "    <tr>\n",
       "      <th>blurb</th>\n",
       "      <td>Livng with a brain impairment, what its like t...</td>\n",
       "    </tr>\n",
       "    <tr>\n",
       "      <th>location</th>\n",
       "      <td>{\"id\":2507703,\"name\":\"Traverse City\",\"slug\":\"t...</td>\n",
       "    </tr>\n",
       "    <tr>\n",
       "      <th>urls</th>\n",
       "      <td>{\"web\":{\"project\":\"https://www.kickstarter.com...</td>\n",
       "    </tr>\n",
       "  </tbody>\n",
       "</table>\n",
       "</div>"
      ],
      "text/plain": [
       "                                                          4\n",
       "blurb     Livng with a brain impairment, what its like t...\n",
       "location  {\"id\":2507703,\"name\":\"Traverse City\",\"slug\":\"t...\n",
       "urls      {\"web\":{\"project\":\"https://www.kickstarter.com..."
      ]
     },
     "execution_count": 28,
     "metadata": {},
     "output_type": "execute_result"
    }
   ],
   "source": [
    "pd.set_option(\"max_colwidth\", 50, \"max_columns\",20)\n",
    "df[4:5][[\"blurb\", \"location\", \"urls\"]].T"
   ]
  },
  {
   "cell_type": "code",
   "execution_count": 29,
   "metadata": {},
   "outputs": [
    {
     "data": {
      "text/plain": [
       "(182032, 30)"
      ]
     },
     "execution_count": 29,
     "metadata": {},
     "output_type": "execute_result"
    }
   ],
   "source": [
    "df.dropna(subset=[\"location\"], inplace=True)\n",
    "df.shape"
   ]
  },
  {
   "cell_type": "markdown",
   "metadata": {},
   "source": [
    "All 224 missing values for location have been removed."
   ]
  },
  {
   "cell_type": "markdown",
   "metadata": {},
   "source": [
    "#### Extract relevant information from object columns by retrieving the text "
   ]
  },
  {
   "cell_type": "markdown",
   "metadata": {},
   "source": [
    "Build a new column \"main_category\":"
   ]
  },
  {
   "cell_type": "code",
   "execution_count": 30,
   "metadata": {},
   "outputs": [],
   "source": [
    "def string_split(x):\n",
    "    y = x.split(\"/\")[-2]\n",
    "    if y == \"categories\":\n",
    "        y = x.split(\"/\")[-1].replace('\"}}}', '')\n",
    "    if y == \"film%20&%20video\":\n",
    "        y = \"film_video\"\n",
    "    return y\n",
    "df['main_category'] = df['category'].apply(lambda x: string_split(x))\n"
   ]
  },
  {
   "cell_type": "code",
   "execution_count": 31,
   "metadata": {},
   "outputs": [
    {
     "data": {
      "text/plain": [
       "music          25765\n",
       "film_video     25524\n",
       "art            19197\n",
       "technology     19146\n",
       "publishing     18171\n",
       "food           14419\n",
       "games          11726\n",
       "fashion         9877\n",
       "comics          6780\n",
       "design          6735\n",
       "photography     6363\n",
       "crafts          6058\n",
       "theater         5036\n",
       "journalism      4114\n",
       "dance           3121\n",
       "Name: main_category, dtype: int64"
      ]
     },
     "execution_count": 31,
     "metadata": {},
     "output_type": "execute_result"
    }
   ],
   "source": [
    "df.main_category.value_counts()"
   ]
  },
  {
   "cell_type": "markdown",
   "metadata": {},
   "source": [
    "Build a new column \"sub_category\" and drop the column \"category\":"
   ]
  },
  {
   "cell_type": "code",
   "execution_count": 32,
   "metadata": {},
   "outputs": [],
   "source": [
    "liste = list(df.main_category.unique())\n",
    "def string_split2(x):\n",
    "    y = x.split(\"/\")[-1].replace('\"}}}', '').replace(\"%20\", \"\")\n",
    "    if y in liste:\n",
    "        y = \"no_subcategory\"\n",
    "    \n",
    "    return y\n",
    "df['sub_category'] = df['category'].apply(lambda x: string_split2(x)) \n"
   ]
  },
  {
   "cell_type": "code",
   "execution_count": 33,
   "metadata": {
    "scrolled": true
   },
   "outputs": [
    {
     "data": {
      "text/plain": [
       "no_subcategory      8745\n",
       "web                 3815\n",
       "comedy              2762\n",
       "nonfiction          2401\n",
       "videogames          2400\n",
       "restaurants         2400\n",
       "documentary         2400\n",
       "children'sbooks     2400\n",
       "rock                2400\n",
       "productdesign       2400\n",
       "country&folk        2400\n",
       "accessories         2400\n",
       "apparel             2400\n",
       "apps                2400\n",
       "graphicnovels       2400\n",
       "fiction             2400\n",
       "drinks              2400\n",
       "gadgets             2400\n",
       "comicbooks          2400\n",
       "shorts              2400\n",
       "indierock           2400\n",
       "drama               2400\n",
       "tabletopgames       2400\n",
       "playingcards        2400\n",
       "mobilegames         2399\n",
       "publicart           2399\n",
       "mixedmedia          2399\n",
       "hardware            2398\n",
       "artbooks            2397\n",
       "animation           2396\n",
       "                    ... \n",
       "couture              316\n",
       "communitygardens     314\n",
       "fabricationtools     294\n",
       "puzzles              286\n",
       "animals              286\n",
       "stationery           281\n",
       "film&video           276\n",
       "printing             274\n",
       "makerspaces          268\n",
       "romance              230\n",
       "videoart             228\n",
       "bacon                225\n",
       "knitting             219\n",
       "photo                218\n",
       "crochet              189\n",
       "translations         182\n",
       "workshops            178\n",
       "latin                178\n",
       "petfashion           161\n",
       "glass                157\n",
       "pottery              142\n",
       "typography           136\n",
       "embroidery           135\n",
       "weaving              108\n",
       "literaryspaces        91\n",
       "quilts                90\n",
       "residencies           81\n",
       "letterpress           59\n",
       "chiptune              41\n",
       "taxidermy             13\n",
       "Name: sub_category, Length: 146, dtype: int64"
      ]
     },
     "execution_count": 33,
     "metadata": {},
     "output_type": "execute_result"
    }
   ],
   "source": [
    "df.sub_category.value_counts()"
   ]
  },
  {
   "cell_type": "markdown",
   "metadata": {},
   "source": [
    "Build a new column \"city\" and drop the column \"location\":"
   ]
  },
  {
   "cell_type": "code",
   "execution_count": 34,
   "metadata": {},
   "outputs": [],
   "source": [
    "pd.set_option(\"max_colwidth\", 50, \"max_columns\",20)\n",
    "def string_split3(x):\n",
    "    y = x.split(':')[6].split(',')[0].replace('\"', '')\n",
    "    return y\n",
    "df['city'] = df['location'].apply(lambda x: string_split3(x))  \n",
    "# df.drop(labels=\"location\", axis=1, inplace=True)"
   ]
  },
  {
   "cell_type": "code",
   "execution_count": 35,
   "metadata": {},
   "outputs": [
    {
     "data": {
      "text/plain": [
       "64936     {\"key\":\"assets/012/283/027/6a2359927a1bf56dc45...\n",
       "131903    {\"key\":\"assets/012/344/267/28358991edfa8b54a16...\n",
       "Name: photo, dtype: object"
      ]
     },
     "execution_count": 35,
     "metadata": {},
     "output_type": "execute_result"
    }
   ],
   "source": [
    "pd.set_option(\"max_colwidth\", 50, \"max_columns\",20)\n",
    "df.photo.sample(2)"
   ]
  },
  {
   "cell_type": "code",
   "execution_count": 37,
   "metadata": {},
   "outputs": [
    {
     "data": {
      "text/plain": [
       "\"inactive\"    153561\n",
       "\"active\"       28471\n",
       "Name: profile_state, dtype: int64"
      ]
     },
     "execution_count": 37,
     "metadata": {},
     "output_type": "execute_result"
    }
   ],
   "source": [
    "def string_split4(x):\n",
    "    y = x.split(':')[3].split(',')[0]\n",
    "    return y\n",
    "df['profile_state'] = df['profile'].apply(lambda x: string_split4(x)) \n",
    "df['profile_state'].value_counts()"
   ]
  },
  {
   "cell_type": "markdown",
   "metadata": {},
   "source": [
    "We need to retrieve the relevant information from the following columns:\n",
    "1. category -> build \"main_category\" und \"sub_category\", drop \"category\"\n",
    "2. creator (no usefull information) -> drop \"creator\"\n",
    "3. location -> build \"city\", drop \"location\"\n",
    "4. photo\n",
    "5. profile -> build \"profile_state\"\n",
    "6. source_url -> no usefull information -> drop \n",
    "7. urls -> split -> no usefull information -> drop\n"
   ]
  },
  {
   "cell_type": "code",
   "execution_count": 38,
   "metadata": {},
   "outputs": [],
   "source": [
    "df.drop(labels=[\"category\", \"creator\", \"location\", \"source_url\", \"urls\"], axis=1, inplace=True)"
   ]
  },
  {
   "cell_type": "code",
   "execution_count": 40,
   "metadata": {},
   "outputs": [],
   "source": [
    "df.drop(labels = [\"profile\", \"id\"], axis=1, inplace=True)"
   ]
  },
  {
   "cell_type": "markdown",
   "metadata": {},
   "source": [
    "### Delete rows with state \"canceled\", \"suspended\" or \"live\""
   ]
  },
  {
   "cell_type": "code",
   "execution_count": 41,
   "metadata": {},
   "outputs": [
    {
     "data": {
      "text/plain": [
       "(182032, 27)"
      ]
     },
     "execution_count": 41,
     "metadata": {},
     "output_type": "execute_result"
    }
   ],
   "source": [
    "df.shape"
   ]
  },
  {
   "cell_type": "code",
   "execution_count": 84,
   "metadata": {},
   "outputs": [
    {
     "data": {
      "text/plain": [
       "(168764, 38)"
      ]
     },
     "execution_count": 84,
     "metadata": {},
     "output_type": "execute_result"
    }
   ],
   "source": [
    "# Get indexes where state column has value canceled or suspended or live\n",
    "\n",
    "indexNames = df[(df['state'] == 'canceled') | (df['state'] == 'suspended') | (df['state'] == 'live')].index\n",
    "\n",
    "# Delete these row indexes from dataFrame\n",
    "df.drop(indexNames , inplace=True)"
   ]
  },
  {
   "cell_type": "markdown",
   "metadata": {},
   "source": [
    "## Feature Engineering"
   ]
  },
  {
   "cell_type": "markdown",
   "metadata": {},
   "source": [
    "New Features:\n",
    "* campaign duration\n",
    "* launch month\n",
    "* deadline month\n",
    "* launch weekday \n",
    "* deadline weekday\n",
    "\n",
    "* number of competing projects per category for a given month\n",
    "* len(blurb)\n",
    "* len(name)\n",
    "* wordcount(blurb)\n",
    "* wordcount(name)\n",
    "* goal in USD"
   ]
  },
  {
   "cell_type": "markdown",
   "metadata": {},
   "source": [
    "### Campaign duration \n",
    "deadline - launched_at"
   ]
  },
  {
   "cell_type": "code",
   "execution_count": 85,
   "metadata": {},
   "outputs": [],
   "source": [
    "df['campaign_duration'] = (df.deadline - df.launched_at).dt.round('d').dt.days"
   ]
  },
  {
   "cell_type": "markdown",
   "metadata": {},
   "source": [
    "### launch month"
   ]
  },
  {
   "cell_type": "code",
   "execution_count": 86,
   "metadata": {},
   "outputs": [],
   "source": [
    "df['launch_month']= df[\"launched_at\"].dt.month"
   ]
  },
  {
   "cell_type": "markdown",
   "metadata": {},
   "source": [
    "### deadline month"
   ]
  },
  {
   "cell_type": "code",
   "execution_count": 87,
   "metadata": {},
   "outputs": [],
   "source": [
    "df['deadline_month']= df[\"deadline\"].dt.month"
   ]
  },
  {
   "cell_type": "markdown",
   "metadata": {},
   "source": [
    "### launch weekday"
   ]
  },
  {
   "cell_type": "code",
   "execution_count": 88,
   "metadata": {},
   "outputs": [],
   "source": [
    "df['launch_weekday']= df[\"launched_at\"].dt.weekday"
   ]
  },
  {
   "cell_type": "markdown",
   "metadata": {},
   "source": [
    "### deadline weekday"
   ]
  },
  {
   "cell_type": "code",
   "execution_count": 89,
   "metadata": {},
   "outputs": [],
   "source": [
    "df['deadline_weekday']= df[\"deadline\"].dt.weekday"
   ]
  },
  {
   "cell_type": "markdown",
   "metadata": {},
   "source": [
    "### number of competing projects per category in a given month"
   ]
  },
  {
   "cell_type": "code",
   "execution_count": 97,
   "metadata": {},
   "outputs": [
    {
     "data": {
      "text/html": [
       "<div>\n",
       "<style scoped>\n",
       "    .dataframe tbody tr th:only-of-type {\n",
       "        vertical-align: middle;\n",
       "    }\n",
       "\n",
       "    .dataframe tbody tr th {\n",
       "        vertical-align: top;\n",
       "    }\n",
       "\n",
       "    .dataframe thead th {\n",
       "        text-align: right;\n",
       "    }\n",
       "</style>\n",
       "<table border=\"1\" class=\"dataframe\">\n",
       "  <thead>\n",
       "    <tr style=\"text-align: right;\">\n",
       "      <th></th>\n",
       "      <th>1</th>\n",
       "    </tr>\n",
       "  </thead>\n",
       "  <tbody>\n",
       "    <tr>\n",
       "      <th>backers_count</th>\n",
       "      <td>47</td>\n",
       "    </tr>\n",
       "    <tr>\n",
       "      <th>blurb</th>\n",
       "      <td>A colorful Dia de los Muertos themed oracle de...</td>\n",
       "    </tr>\n",
       "    <tr>\n",
       "      <th>converted_pledged_amount</th>\n",
       "      <td>1950</td>\n",
       "    </tr>\n",
       "    <tr>\n",
       "      <th>country</th>\n",
       "      <td>US</td>\n",
       "    </tr>\n",
       "    <tr>\n",
       "      <th>created_at</th>\n",
       "      <td>2017-08-02 14:28:13</td>\n",
       "    </tr>\n",
       "    <tr>\n",
       "      <th>currency</th>\n",
       "      <td>USD</td>\n",
       "    </tr>\n",
       "    <tr>\n",
       "      <th>currency_symbol</th>\n",
       "      <td>$</td>\n",
       "    </tr>\n",
       "    <tr>\n",
       "      <th>currency_trailing_code</th>\n",
       "      <td>True</td>\n",
       "    </tr>\n",
       "    <tr>\n",
       "      <th>current_currency</th>\n",
       "      <td>USD</td>\n",
       "    </tr>\n",
       "    <tr>\n",
       "      <th>deadline</th>\n",
       "      <td>2017-09-09 17:00:59</td>\n",
       "    </tr>\n",
       "    <tr>\n",
       "      <th>fx_rate</th>\n",
       "      <td>1</td>\n",
       "    </tr>\n",
       "    <tr>\n",
       "      <th>goal</th>\n",
       "      <td>1000</td>\n",
       "    </tr>\n",
       "    <tr>\n",
       "      <th>is_starrable</th>\n",
       "      <td>False</td>\n",
       "    </tr>\n",
       "    <tr>\n",
       "      <th>launched_at</th>\n",
       "      <td>2017-08-10 17:00:59</td>\n",
       "    </tr>\n",
       "    <tr>\n",
       "      <th>name</th>\n",
       "      <td>The Ofrenda Oracle Deck</td>\n",
       "    </tr>\n",
       "    <tr>\n",
       "      <th>photo</th>\n",
       "      <td>{\"key\":\"assets/017/766/989/dd9f18c773a8546d996...</td>\n",
       "    </tr>\n",
       "    <tr>\n",
       "      <th>pledged</th>\n",
       "      <td>1950</td>\n",
       "    </tr>\n",
       "    <tr>\n",
       "      <th>spotlight</th>\n",
       "      <td>True</td>\n",
       "    </tr>\n",
       "    <tr>\n",
       "      <th>staff_pick</th>\n",
       "      <td>False</td>\n",
       "    </tr>\n",
       "    <tr>\n",
       "      <th>state</th>\n",
       "      <td>successful</td>\n",
       "    </tr>\n",
       "    <tr>\n",
       "      <th>state_changed_at</th>\n",
       "      <td>2017-09-09 17:00:59</td>\n",
       "    </tr>\n",
       "    <tr>\n",
       "      <th>static_usd_rate</th>\n",
       "      <td>1</td>\n",
       "    </tr>\n",
       "    <tr>\n",
       "      <th>usd_pledged</th>\n",
       "      <td>1950</td>\n",
       "    </tr>\n",
       "    <tr>\n",
       "      <th>main_category</th>\n",
       "      <td>games</td>\n",
       "    </tr>\n",
       "    <tr>\n",
       "      <th>sub_category</th>\n",
       "      <td>playingcards</td>\n",
       "    </tr>\n",
       "    <tr>\n",
       "      <th>city</th>\n",
       "      <td>Euless</td>\n",
       "    </tr>\n",
       "    <tr>\n",
       "      <th>profile_state</th>\n",
       "      <td>\"active\"</td>\n",
       "    </tr>\n",
       "    <tr>\n",
       "      <th>campaign_duration</th>\n",
       "      <td>30</td>\n",
       "    </tr>\n",
       "    <tr>\n",
       "      <th>launch_month</th>\n",
       "      <td>8</td>\n",
       "    </tr>\n",
       "    <tr>\n",
       "      <th>deadline_month</th>\n",
       "      <td>9</td>\n",
       "    </tr>\n",
       "    <tr>\n",
       "      <th>launch_weekday</th>\n",
       "      <td>3</td>\n",
       "    </tr>\n",
       "    <tr>\n",
       "      <th>deadline_weekday</th>\n",
       "      <td>5</td>\n",
       "    </tr>\n",
       "    <tr>\n",
       "      <th>launch_year</th>\n",
       "      <td>2017</td>\n",
       "    </tr>\n",
       "    <tr>\n",
       "      <th>length_blurb</th>\n",
       "      <td>125</td>\n",
       "    </tr>\n",
       "    <tr>\n",
       "      <th>word_count_blurb</th>\n",
       "      <td>22</td>\n",
       "    </tr>\n",
       "    <tr>\n",
       "      <th>length_name</th>\n",
       "      <td>23</td>\n",
       "    </tr>\n",
       "    <tr>\n",
       "      <th>word_count_name</th>\n",
       "      <td>4</td>\n",
       "    </tr>\n",
       "    <tr>\n",
       "      <th>goal_USD</th>\n",
       "      <td>1000</td>\n",
       "    </tr>\n",
       "    <tr>\n",
       "      <th>projects_month_cat</th>\n",
       "      <td>125</td>\n",
       "    </tr>\n",
       "  </tbody>\n",
       "</table>\n",
       "</div>"
      ],
      "text/plain": [
       "                                                                          1\n",
       "backers_count                                                            47\n",
       "blurb                     A colorful Dia de los Muertos themed oracle de...\n",
       "converted_pledged_amount                                               1950\n",
       "country                                                                  US\n",
       "created_at                                              2017-08-02 14:28:13\n",
       "currency                                                                USD\n",
       "currency_symbol                                                           $\n",
       "currency_trailing_code                                                 True\n",
       "current_currency                                                        USD\n",
       "deadline                                                2017-09-09 17:00:59\n",
       "fx_rate                                                                   1\n",
       "goal                                                                   1000\n",
       "is_starrable                                                          False\n",
       "launched_at                                             2017-08-10 17:00:59\n",
       "name                                                The Ofrenda Oracle Deck\n",
       "photo                     {\"key\":\"assets/017/766/989/dd9f18c773a8546d996...\n",
       "pledged                                                                1950\n",
       "spotlight                                                              True\n",
       "staff_pick                                                            False\n",
       "state                                                            successful\n",
       "state_changed_at                                        2017-09-09 17:00:59\n",
       "static_usd_rate                                                           1\n",
       "usd_pledged                                                            1950\n",
       "main_category                                                         games\n",
       "sub_category                                                   playingcards\n",
       "city                                                                 Euless\n",
       "profile_state                                                      \"active\"\n",
       "campaign_duration                                                        30\n",
       "launch_month                                                              8\n",
       "deadline_month                                                            9\n",
       "launch_weekday                                                            3\n",
       "deadline_weekday                                                          5\n",
       "launch_year                                                            2017\n",
       "length_blurb                                                            125\n",
       "word_count_blurb                                                         22\n",
       "length_name                                                              23\n",
       "word_count_name                                                           4\n",
       "goal_USD                                                               1000\n",
       "projects_month_cat                                                      125"
      ]
     },
     "execution_count": 97,
     "metadata": {},
     "output_type": "execute_result"
    }
   ],
   "source": [
    "df['launch_year']= df[\"launched_at\"].dt.year\n",
    "df[\"projects_month_cat\"] = df.groupby(by = ['launch_year', \n",
    "                                            'launch_month', \n",
    "                                            'main_category'])[\"deadline\"].transform(\"count\")\n",
    "df.head(1).T"
   ]
  },
  {
   "cell_type": "code",
   "execution_count": 133,
   "metadata": {},
   "outputs": [
    {
     "name": "stderr",
     "output_type": "stream",
     "text": [
      "/Users/tobiasseidel/opt/anaconda3/envs/nf/lib/python3.6/site-packages/seaborn/axisgrid.py:645: UserWarning:\n",
      "\n",
      "Using the pointplot function without specifying `order` is likely to produce an incorrect plot.\n",
      "\n"
     ]
    },
    {
     "data": {
      "text/plain": [
       "<seaborn.axisgrid.FacetGrid at 0x7ff18bad2f60>"
      ]
     },
     "execution_count": 133,
     "metadata": {},
     "output_type": "execute_result"
    },
    {
     "data": {
      "image/png": "[encoded data removed]",
      "text/plain": [
       "<Figure size 720x432 with 15 Axes>"
      ]
     },
     "metadata": {},
     "output_type": "display_data"
    }
   ],
   "source": [
    "g = sns.FacetGrid(df, col=\"main_category\", col_wrap=5, height=2)\n",
    "g.map(sns.pointplot, \"launch_year\", 'usd_pledged', cmap=\"magma\", xlim=(2010,2018))\n",
    "#g.set_xticklabels()"
   ]
  },
  {
   "cell_type": "markdown",
   "metadata": {},
   "source": [
    "### usd pledged per backers"
   ]
  },
  {
   "cell_type": "markdown",
   "metadata": {},
   "source": [
    "**Note:**\n",
    "\n",
    "At this point the question arises, what is more relevant for the success of a project: the number of backers or the amount of money pledged by each backer?\n",
    "\n",
    "We will begin by taking a look at median amount of money pledged per backer per project state and will continue examining the median backer count per project state. \n",
    "\n",
    "Lastly, we will visualize the distribution of the backer count in dependence of the state in a histogram. \n"
   ]
  },
  {
   "cell_type": "code",
   "execution_count": 140,
   "metadata": {},
   "outputs": [
    {
     "data": {
      "text/plain": [
       "state\n",
       "failed        30.0\n",
       "successful    61.8\n",
       "Name: usd_per_backer, dtype: float64"
      ]
     },
     "execution_count": 140,
     "metadata": {},
     "output_type": "execute_result"
    }
   ],
   "source": [
    "df[\"usd_per_backer\"] = df[\"usd_pledged\"]/df[\"backers_count\"]\n",
    "df.groupby(by = ['state'])[\"usd_per_backer\"].median()"
   ]
  },
  {
   "cell_type": "code",
   "execution_count": 142,
   "metadata": {},
   "outputs": [
    {
     "data": {
      "text/plain": [
       "state\n",
       "failed         3\n",
       "successful    68\n",
       "Name: backers_count, dtype: int64"
      ]
     },
     "execution_count": 142,
     "metadata": {},
     "output_type": "execute_result"
    }
   ],
   "source": [
    "df.groupby(by = 'state')[\"backers_count\"].median()"
   ]
  },
  {
   "cell_type": "code",
   "execution_count": 156,
   "metadata": {},
   "outputs": [
    {
     "data": {
      "text/plain": [
       "<matplotlib.legend.Legend at 0x7ff16066d8d0>"
      ]
     },
     "execution_count": 156,
     "metadata": {},
     "output_type": "execute_result"
    },
    {
     "data": {
      "image/png": "[encoded data removed]",
      "text/plain": [
       "<Figure size 720x432 with 1 Axes>"
      ]
     },
     "metadata": {},
     "output_type": "display_data"
    }
   ],
   "source": [
    "plt.figure(figsize=(10,6))\n",
    "\n",
    "ax2 = df[df[\"state\"]==\"successful\"]['backers_count'].apply(lambda x: x+1).apply(np.log).hist(bins=30, color='red', label='backers_count_success', alpha=0.6)\n",
    "ax3 =df[df[\"state\"]==\"failed\"]['backers_count'].apply(lambda x: x+1).apply(np.log).hist(bins=30, color='blue', label='backers_count_failed', alpha=0.6)\n",
    "\n",
    "plt.legend()"
   ]
  },
  {
   "cell_type": "code",
   "execution_count": 166,
   "metadata": {},
   "outputs": [
    {
     "data": {
      "text/plain": [
       "<seaborn.axisgrid.FacetGrid at 0x7ff15c7037b8>"
      ]
     },
     "execution_count": 166,
     "metadata": {},
     "output_type": "execute_result"
    },
    {
     "data": {
      "image/png": "[encoded data removed]",
      "text/plain": [
       "<Figure size 720x432 with 15 Axes>"
      ]
     },
     "metadata": {},
     "output_type": "display_data"
    }
   ],
   "source": [
    "g = sns.FacetGrid(df, col=\"main_category\", col_wrap=5, height=2)\n",
    "g.map(sns.pointplot, \"launch_year\", 'goal_USD', order=[2009,2010,2011,2012,2013,2014,2015,2016,2017,2018], color=\".3\")\n",
    "#g.set_xticklabels()"
   ]
  },
  {
   "cell_type": "code",
   "execution_count": null,
   "metadata": {},
   "outputs": [],
   "source": [
    "sns.factorplot(x =\"usd_pledged\", col=\"main_category\", data=df, hue='state', kind=\"median\", col_wrap=5);"
   ]
  },
  {
   "cell_type": "markdown",
   "metadata": {},
   "source": [
    "### median usd pledged per backer per country"
   ]
  },
  {
   "cell_type": "code",
   "execution_count": 175,
   "metadata": {},
   "outputs": [
    {
     "data": {
      "text/plain": [
       "<AxesSubplot:xlabel='country'>"
      ]
     },
     "execution_count": 175,
     "metadata": {},
     "output_type": "execute_result"
    },
    {
     "data": {
      "image/png": "[encoded data removed]",
      "text/plain": [
       "<Figure size 720x432 with 1 Axes>"
      ]
     },
     "metadata": {},
     "output_type": "display_data"
    }
   ],
   "source": [
    "med_pledged_backer_country = df.groupby(by = ['country'])[\"usd_per_backer\"].median()\n",
    "med_pledged_backer_country.plot(kind=\"bar\", figsize=(10,6))"
   ]
  },
  {
   "cell_type": "code",
   "execution_count": 176,
   "metadata": {},
   "outputs": [],
   "source": [
    "df[\"med_pledged_backer_country\"] = df.groupby(by = ['country'])[\"usd_per_backer\"].transform(\"median\")"
   ]
  },
  {
   "cell_type": "markdown",
   "metadata": {},
   "source": [
    "### median usd pledged per backer per category\n",
    "\n"
   ]
  },
  {
   "cell_type": "code",
   "execution_count": 178,
   "metadata": {},
   "outputs": [
    {
     "data": {
      "text/plain": [
       "<AxesSubplot:xlabel='main_category'>"
      ]
     },
     "execution_count": 178,
     "metadata": {},
     "output_type": "execute_result"
    },
    {
     "data": {
      "image/png": "[encoded data removed]",
      "text/plain": [
       "<Figure size 720x432 with 1 Axes>"
      ]
     },
     "metadata": {},
     "output_type": "display_data"
    }
   ],
   "source": [
    "med_pledged_backer_category = df.groupby(by = ['main_category'])[\"usd_per_backer\"].median()\n",
    "med_pledged_backer_category.plot(kind=\"bar\", figsize=(10,6))"
   ]
  },
  {
   "cell_type": "code",
   "execution_count": 180,
   "metadata": {},
   "outputs": [],
   "source": [
    "df[\"med_pledged_backer_category\"] = df.groupby(by = ['main_category'])[\"usd_per_backer\"].transform(\"median\")"
   ]
  },
  {
   "cell_type": "markdown",
   "metadata": {},
   "source": [
    "### median backer count per category"
   ]
  },
  {
   "cell_type": "code",
   "execution_count": 182,
   "metadata": {},
   "outputs": [
    {
     "data": {
      "text/plain": [
       "<AxesSubplot:xlabel='main_category'>"
      ]
     },
     "execution_count": 182,
     "metadata": {},
     "output_type": "execute_result"
    },
    {
     "data": {
      "image/png": "[encoded data removed]",
      "text/plain": [
       "<Figure size 720x432 with 1 Axes>"
      ]
     },
     "metadata": {},
     "output_type": "display_data"
    }
   ],
   "source": [
    "num_backer_category = df.groupby(by = ['main_category'])[\"backers_count\"].median()\n",
    "num_backer_category.plot(kind=\"bar\", figsize=(10,6))"
   ]
  },
  {
   "cell_type": "code",
   "execution_count": 183,
   "metadata": {},
   "outputs": [],
   "source": [
    "df[\"num_backer_category\"] = df.groupby(by = ['main_category'])[\"backers_count\"].transform(\"median\")"
   ]
  },
  {
   "cell_type": "code",
   "execution_count": 186,
   "metadata": {},
   "outputs": [
    {
     "data": {
      "text/html": [
       "<div>\n",
       "<style scoped>\n",
       "    .dataframe tbody tr th:only-of-type {\n",
       "        vertical-align: middle;\n",
       "    }\n",
       "\n",
       "    .dataframe tbody tr th {\n",
       "        vertical-align: top;\n",
       "    }\n",
       "\n",
       "    .dataframe thead th {\n",
       "        text-align: right;\n",
       "    }\n",
       "</style>\n",
       "<table border=\"1\" class=\"dataframe\">\n",
       "  <thead>\n",
       "    <tr style=\"text-align: right;\">\n",
       "      <th></th>\n",
       "      <th>1</th>\n",
       "    </tr>\n",
       "  </thead>\n",
       "  <tbody>\n",
       "    <tr>\n",
       "      <th>backers_count</th>\n",
       "      <td>47</td>\n",
       "    </tr>\n",
       "    <tr>\n",
       "      <th>blurb</th>\n",
       "      <td>A colorful Dia de los Muertos themed oracle de...</td>\n",
       "    </tr>\n",
       "    <tr>\n",
       "      <th>converted_pledged_amount</th>\n",
       "      <td>1950</td>\n",
       "    </tr>\n",
       "    <tr>\n",
       "      <th>country</th>\n",
       "      <td>US</td>\n",
       "    </tr>\n",
       "    <tr>\n",
       "      <th>created_at</th>\n",
       "      <td>2017-08-02 14:28:13</td>\n",
       "    </tr>\n",
       "    <tr>\n",
       "      <th>currency</th>\n",
       "      <td>USD</td>\n",
       "    </tr>\n",
       "    <tr>\n",
       "      <th>currency_symbol</th>\n",
       "      <td>$</td>\n",
       "    </tr>\n",
       "    <tr>\n",
       "      <th>currency_trailing_code</th>\n",
       "      <td>True</td>\n",
       "    </tr>\n",
       "    <tr>\n",
       "      <th>current_currency</th>\n",
       "      <td>USD</td>\n",
       "    </tr>\n",
       "    <tr>\n",
       "      <th>deadline</th>\n",
       "      <td>2017-09-09 17:00:59</td>\n",
       "    </tr>\n",
       "    <tr>\n",
       "      <th>fx_rate</th>\n",
       "      <td>1</td>\n",
       "    </tr>\n",
       "    <tr>\n",
       "      <th>goal</th>\n",
       "      <td>1000</td>\n",
       "    </tr>\n",
       "    <tr>\n",
       "      <th>is_starrable</th>\n",
       "      <td>False</td>\n",
       "    </tr>\n",
       "    <tr>\n",
       "      <th>launched_at</th>\n",
       "      <td>2017-08-10 17:00:59</td>\n",
       "    </tr>\n",
       "    <tr>\n",
       "      <th>name</th>\n",
       "      <td>The Ofrenda Oracle Deck</td>\n",
       "    </tr>\n",
       "    <tr>\n",
       "      <th>photo</th>\n",
       "      <td>{\"key\":\"assets/017/766/989/dd9f18c773a8546d996...</td>\n",
       "    </tr>\n",
       "    <tr>\n",
       "      <th>pledged</th>\n",
       "      <td>1950</td>\n",
       "    </tr>\n",
       "    <tr>\n",
       "      <th>spotlight</th>\n",
       "      <td>True</td>\n",
       "    </tr>\n",
       "    <tr>\n",
       "      <th>staff_pick</th>\n",
       "      <td>False</td>\n",
       "    </tr>\n",
       "    <tr>\n",
       "      <th>state</th>\n",
       "      <td>successful</td>\n",
       "    </tr>\n",
       "    <tr>\n",
       "      <th>state_changed_at</th>\n",
       "      <td>2017-09-09 17:00:59</td>\n",
       "    </tr>\n",
       "    <tr>\n",
       "      <th>static_usd_rate</th>\n",
       "      <td>1</td>\n",
       "    </tr>\n",
       "    <tr>\n",
       "      <th>usd_pledged</th>\n",
       "      <td>1950</td>\n",
       "    </tr>\n",
       "    <tr>\n",
       "      <th>main_category</th>\n",
       "      <td>games</td>\n",
       "    </tr>\n",
       "    <tr>\n",
       "      <th>sub_category</th>\n",
       "      <td>playingcards</td>\n",
       "    </tr>\n",
       "    <tr>\n",
       "      <th>city</th>\n",
       "      <td>Euless</td>\n",
       "    </tr>\n",
       "    <tr>\n",
       "      <th>profile_state</th>\n",
       "      <td>\"active\"</td>\n",
       "    </tr>\n",
       "    <tr>\n",
       "      <th>campaign_duration</th>\n",
       "      <td>30</td>\n",
       "    </tr>\n",
       "    <tr>\n",
       "      <th>launch_month</th>\n",
       "      <td>8</td>\n",
       "    </tr>\n",
       "    <tr>\n",
       "      <th>deadline_month</th>\n",
       "      <td>9</td>\n",
       "    </tr>\n",
       "    <tr>\n",
       "      <th>launch_weekday</th>\n",
       "      <td>3</td>\n",
       "    </tr>\n",
       "    <tr>\n",
       "      <th>deadline_weekday</th>\n",
       "      <td>5</td>\n",
       "    </tr>\n",
       "    <tr>\n",
       "      <th>launch_year</th>\n",
       "      <td>2017</td>\n",
       "    </tr>\n",
       "    <tr>\n",
       "      <th>length_blurb</th>\n",
       "      <td>125</td>\n",
       "    </tr>\n",
       "    <tr>\n",
       "      <th>word_count_blurb</th>\n",
       "      <td>22</td>\n",
       "    </tr>\n",
       "    <tr>\n",
       "      <th>length_name</th>\n",
       "      <td>23</td>\n",
       "    </tr>\n",
       "    <tr>\n",
       "      <th>word_count_name</th>\n",
       "      <td>4</td>\n",
       "    </tr>\n",
       "    <tr>\n",
       "      <th>goal_USD</th>\n",
       "      <td>1000</td>\n",
       "    </tr>\n",
       "    <tr>\n",
       "      <th>projects_month_cat</th>\n",
       "      <td>125</td>\n",
       "    </tr>\n",
       "    <tr>\n",
       "      <th>usd_per_backer</th>\n",
       "      <td>41.4894</td>\n",
       "    </tr>\n",
       "    <tr>\n",
       "      <th>med_pledged_backer_country</th>\n",
       "      <td>53</td>\n",
       "    </tr>\n",
       "    <tr>\n",
       "      <th>med_pledged_backer_category</th>\n",
       "      <td>36.2621</td>\n",
       "    </tr>\n",
       "    <tr>\n",
       "      <th>num_backer_category</th>\n",
       "      <td>63</td>\n",
       "    </tr>\n",
       "  </tbody>\n",
       "</table>\n",
       "</div>"
      ],
      "text/plain": [
       "                                                                             1\n",
       "backers_count                                                               47\n",
       "blurb                        A colorful Dia de los Muertos themed oracle de...\n",
       "converted_pledged_amount                                                  1950\n",
       "country                                                                     US\n",
       "created_at                                                 2017-08-02 14:28:13\n",
       "currency                                                                   USD\n",
       "currency_symbol                                                              $\n",
       "currency_trailing_code                                                    True\n",
       "current_currency                                                           USD\n",
       "deadline                                                   2017-09-09 17:00:59\n",
       "fx_rate                                                                      1\n",
       "goal                                                                      1000\n",
       "is_starrable                                                             False\n",
       "launched_at                                                2017-08-10 17:00:59\n",
       "name                                                   The Ofrenda Oracle Deck\n",
       "photo                        {\"key\":\"assets/017/766/989/dd9f18c773a8546d996...\n",
       "pledged                                                                   1950\n",
       "spotlight                                                                 True\n",
       "staff_pick                                                               False\n",
       "state                                                               successful\n",
       "state_changed_at                                           2017-09-09 17:00:59\n",
       "static_usd_rate                                                              1\n",
       "usd_pledged                                                               1950\n",
       "main_category                                                            games\n",
       "sub_category                                                      playingcards\n",
       "city                                                                    Euless\n",
       "profile_state                                                         \"active\"\n",
       "campaign_duration                                                           30\n",
       "launch_month                                                                 8\n",
       "deadline_month                                                               9\n",
       "launch_weekday                                                               3\n",
       "deadline_weekday                                                             5\n",
       "launch_year                                                               2017\n",
       "length_blurb                                                               125\n",
       "word_count_blurb                                                            22\n",
       "length_name                                                                 23\n",
       "word_count_name                                                              4\n",
       "goal_USD                                                                  1000\n",
       "projects_month_cat                                                         125\n",
       "usd_per_backer                                                         41.4894\n",
       "med_pledged_backer_country                                                  53\n",
       "med_pledged_backer_category                                            36.2621\n",
       "num_backer_category                                                         63"
      ]
     },
     "execution_count": 186,
     "metadata": {},
     "output_type": "execute_result"
    }
   ],
   "source": [
    "df.head(1).T"
   ]
  },
  {
   "cell_type": "markdown",
   "metadata": {},
   "source": [
    "### length of the Project-Description"
   ]
  },
  {
   "cell_type": "code",
   "execution_count": 50,
   "metadata": {},
   "outputs": [],
   "source": [
    "df[\"length_blurb\"]= df['blurb'].apply(lambda x: len(x))"
   ]
  },
  {
   "cell_type": "markdown",
   "metadata": {},
   "source": [
    "### wordcount Project-Description"
   ]
  },
  {
   "cell_type": "code",
   "execution_count": 51,
   "metadata": {},
   "outputs": [],
   "source": [
    "df[\"word_count_blurb\"]= df['blurb'].apply(lambda x: len(x.split()))\n"
   ]
  },
  {
   "cell_type": "markdown",
   "metadata": {},
   "source": [
    "### length of the name"
   ]
  },
  {
   "cell_type": "code",
   "execution_count": 52,
   "metadata": {},
   "outputs": [],
   "source": [
    "df[\"length_name\"]= df['name'].apply(lambda x: len(x))"
   ]
  },
  {
   "cell_type": "markdown",
   "metadata": {},
   "source": [
    "### wordcount name"
   ]
  },
  {
   "cell_type": "code",
   "execution_count": 53,
   "metadata": {},
   "outputs": [],
   "source": [
    "df[\"word_count_name\"]= df['name'].apply(lambda x: len(x.split()))\n"
   ]
  },
  {
   "cell_type": "markdown",
   "metadata": {},
   "source": [
    "### goal in USD"
   ]
  },
  {
   "cell_type": "code",
   "execution_count": 54,
   "metadata": {},
   "outputs": [
    {
     "data": {
      "text/plain": [
       "1     1000.0000\n",
       "2    15000.0000\n",
       "3    12160.6569\n",
       "4     2800.0000\n",
       "5     3500.0000\n",
       "Name: goal_USD, dtype: float64"
      ]
     },
     "execution_count": 54,
     "metadata": {},
     "output_type": "execute_result"
    }
   ],
   "source": [
    "df[\"goal_USD\"] = (df[\"static_usd_rate\"]*df[\"goal\"])\n",
    "df[\"goal_USD\"].head()"
   ]
  },
  {
   "cell_type": "markdown",
   "metadata": {},
   "source": [
    "## Preprocessing"
   ]
  },
  {
   "cell_type": "markdown",
   "metadata": {},
   "source": [
    "* bin goal_USD \n",
    "* dummies for categorical data\n",
    "* scale continuous data\n",
    "* check for data imbalances/distribution"
   ]
  },
  {
   "cell_type": "code",
   "execution_count": 55,
   "metadata": {
    "scrolled": true
   },
   "outputs": [
    {
     "data": {
      "text/plain": [
       "<matplotlib.legend.Legend at 0x7ff1816565f8>"
      ]
     },
     "execution_count": 55,
     "metadata": {},
     "output_type": "execute_result"
    },
    {
     "data": {
      "image/png": "[encoded data removed]",
      "text/plain": [
       "<Figure size 720x360 with 1 Axes>"
      ]
     },
     "metadata": {},
     "output_type": "display_data"
    }
   ],
   "source": [
    "fig = plt.figure(figsize=(10,5))\n",
    "\n",
    "\n",
    "ax2 = df['goal'].apply(np.log).hist(bins=30, color='red', label='goal_original_currency_log', alpha=0.6)\n",
    "ax3 = df['goal_USD'].apply(np.log).hist(bins=30, color='blue', label='goal_in_USD_log', alpha=0.6)\n",
    "\n",
    "plt.legend()"
   ]
  },
  {
   "cell_type": "code",
   "execution_count": 56,
   "metadata": {},
   "outputs": [
    {
     "data": {
      "text/plain": [
       "<matplotlib.legend.Legend at 0x7ff18058a8d0>"
      ]
     },
     "execution_count": 56,
     "metadata": {},
     "output_type": "execute_result"
    },
    {
     "data": {
      "image/png": "[encoded data removed]",
      "text/plain": [
       "<Figure size 720x360 with 1 Axes>"
      ]
     },
     "metadata": {},
     "output_type": "display_data"
    }
   ],
   "source": [
    "fig = plt.figure(figsize=(10,5))\n",
    "ax4= df['goal'].hist(bins=30, color='red', label='goal_original_currency', alpha=0.6)\n",
    "ax5 = df['goal_USD'].hist(bins=30, color='blue', label='goal_in_USD', alpha=0.6)\n",
    "plt.legend()"
   ]
  },
  {
   "cell_type": "markdown",
   "metadata": {},
   "source": [
    "Because of the outliers we logarithmize the columns \"goal\" and \"goal_USD."
   ]
  },
  {
   "cell_type": "markdown",
   "metadata": {},
   "source": [
    "categorical variables: "
   ]
  },
  {
   "cell_type": "code",
   "execution_count": 57,
   "metadata": {},
   "outputs": [
    {
     "data": {
      "text/html": [
       "<div>\n",
       "<style scoped>\n",
       "    .dataframe tbody tr th:only-of-type {\n",
       "        vertical-align: middle;\n",
       "    }\n",
       "\n",
       "    .dataframe tbody tr th {\n",
       "        vertical-align: top;\n",
       "    }\n",
       "\n",
       "    .dataframe thead th {\n",
       "        text-align: right;\n",
       "    }\n",
       "</style>\n",
       "<table border=\"1\" class=\"dataframe\">\n",
       "  <thead>\n",
       "    <tr style=\"text-align: right;\">\n",
       "      <th></th>\n",
       "      <th>1</th>\n",
       "      <th>2</th>\n",
       "      <th>3</th>\n",
       "      <th>4</th>\n",
       "      <th>5</th>\n",
       "    </tr>\n",
       "  </thead>\n",
       "  <tbody>\n",
       "    <tr>\n",
       "      <th>backers_count</th>\n",
       "      <td>47</td>\n",
       "      <td>271</td>\n",
       "      <td>3</td>\n",
       "      <td>3</td>\n",
       "      <td>35</td>\n",
       "    </tr>\n",
       "    <tr>\n",
       "      <th>blurb</th>\n",
       "      <td>A colorful Dia de los Muertos themed oracle de...</td>\n",
       "      <td>Electra's long awaited, eclectic Debut Pop/Roc...</td>\n",
       "      <td>The Mist of Tribunal is a turn-based card game...</td>\n",
       "      <td>Livng with a brain impairment, what its like t...</td>\n",
       "      <td>Annapolis Chamber Players is a non-for profit ...</td>\n",
       "    </tr>\n",
       "    <tr>\n",
       "      <th>converted_pledged_amount</th>\n",
       "      <td>1950</td>\n",
       "      <td>22404</td>\n",
       "      <td>165</td>\n",
       "      <td>2820</td>\n",
       "      <td>3725</td>\n",
       "    </tr>\n",
       "    <tr>\n",
       "      <th>country</th>\n",
       "      <td>US</td>\n",
       "      <td>US</td>\n",
       "      <td>GB</td>\n",
       "      <td>US</td>\n",
       "      <td>US</td>\n",
       "    </tr>\n",
       "    <tr>\n",
       "      <th>created_at</th>\n",
       "      <td>2017-08-02 14:28:13</td>\n",
       "      <td>2012-09-30 06:45:33</td>\n",
       "      <td>2017-01-07 09:11:11</td>\n",
       "      <td>2012-12-06 18:04:31</td>\n",
       "      <td>2014-10-24 17:35:50</td>\n",
       "    </tr>\n",
       "    <tr>\n",
       "      <th>currency</th>\n",
       "      <td>USD</td>\n",
       "      <td>USD</td>\n",
       "      <td>GBP</td>\n",
       "      <td>USD</td>\n",
       "      <td>USD</td>\n",
       "    </tr>\n",
       "    <tr>\n",
       "      <th>currency_symbol</th>\n",
       "      <td>$</td>\n",
       "      <td>$</td>\n",
       "      <td>£</td>\n",
       "      <td>$</td>\n",
       "      <td>$</td>\n",
       "    </tr>\n",
       "    <tr>\n",
       "      <th>currency_trailing_code</th>\n",
       "      <td>True</td>\n",
       "      <td>True</td>\n",
       "      <td>False</td>\n",
       "      <td>True</td>\n",
       "      <td>True</td>\n",
       "    </tr>\n",
       "    <tr>\n",
       "      <th>current_currency</th>\n",
       "      <td>USD</td>\n",
       "      <td>USD</td>\n",
       "      <td>USD</td>\n",
       "      <td>USD</td>\n",
       "      <td>USD</td>\n",
       "    </tr>\n",
       "    <tr>\n",
       "      <th>deadline</th>\n",
       "      <td>2017-09-09 17:00:59</td>\n",
       "      <td>2013-06-12 05:03:15</td>\n",
       "      <td>2017-03-13 17:22:56</td>\n",
       "      <td>2013-01-09 20:32:07</td>\n",
       "      <td>2015-05-02 02:25:46</td>\n",
       "    </tr>\n",
       "    <tr>\n",
       "      <th>fx_rate</th>\n",
       "      <td>1</td>\n",
       "      <td>1</td>\n",
       "      <td>1.30839</td>\n",
       "      <td>1</td>\n",
       "      <td>1</td>\n",
       "    </tr>\n",
       "    <tr>\n",
       "      <th>goal</th>\n",
       "      <td>1000</td>\n",
       "      <td>15000</td>\n",
       "      <td>10000</td>\n",
       "      <td>2800</td>\n",
       "      <td>3500</td>\n",
       "    </tr>\n",
       "    <tr>\n",
       "      <th>is_starrable</th>\n",
       "      <td>False</td>\n",
       "      <td>False</td>\n",
       "      <td>False</td>\n",
       "      <td>False</td>\n",
       "      <td>False</td>\n",
       "    </tr>\n",
       "    <tr>\n",
       "      <th>launched_at</th>\n",
       "      <td>2017-08-10 17:00:59</td>\n",
       "      <td>2013-05-13 05:03:15</td>\n",
       "      <td>2017-01-12 18:22:56</td>\n",
       "      <td>2012-12-10 20:32:07</td>\n",
       "      <td>2015-04-02 02:25:46</td>\n",
       "    </tr>\n",
       "    <tr>\n",
       "      <th>name</th>\n",
       "      <td>The Ofrenda Oracle Deck</td>\n",
       "      <td>Record Electra's Debut Album (Pop, Rock, Class...</td>\n",
       "      <td>The Mist of Tribunal - A Card Game</td>\n",
       "      <td>Help change the face of Brain Impairment</td>\n",
       "      <td>Annapolis Chamber Music Project</td>\n",
       "    </tr>\n",
       "    <tr>\n",
       "      <th>photo</th>\n",
       "      <td>{\"key\":\"assets/017/766/989/dd9f18c773a8546d996...</td>\n",
       "      <td>{\"key\":\"assets/011/433/681/489fd66f7861fefd8c8...</td>\n",
       "      <td>{\"key\":\"assets/015/091/198/216fbf1bdc3739e7971...</td>\n",
       "      <td>{\"key\":\"assets/011/457/844/37ba63d35fefaba76e9...</td>\n",
       "      <td>{\"key\":\"assets/011/921/106/c9ad5416f0b588b37b7...</td>\n",
       "    </tr>\n",
       "    <tr>\n",
       "      <th>pledged</th>\n",
       "      <td>1950</td>\n",
       "      <td>22404</td>\n",
       "      <td>136</td>\n",
       "      <td>2820</td>\n",
       "      <td>3725</td>\n",
       "    </tr>\n",
       "    <tr>\n",
       "      <th>spotlight</th>\n",
       "      <td>True</td>\n",
       "      <td>True</td>\n",
       "      <td>False</td>\n",
       "      <td>True</td>\n",
       "      <td>True</td>\n",
       "    </tr>\n",
       "    <tr>\n",
       "      <th>staff_pick</th>\n",
       "      <td>False</td>\n",
       "      <td>False</td>\n",
       "      <td>False</td>\n",
       "      <td>False</td>\n",
       "      <td>False</td>\n",
       "    </tr>\n",
       "    <tr>\n",
       "      <th>state</th>\n",
       "      <td>successful</td>\n",
       "      <td>successful</td>\n",
       "      <td>failed</td>\n",
       "      <td>successful</td>\n",
       "      <td>successful</td>\n",
       "    </tr>\n",
       "    <tr>\n",
       "      <th>state_changed_at</th>\n",
       "      <td>2017-09-09 17:00:59</td>\n",
       "      <td>2013-06-12 05:03:15</td>\n",
       "      <td>2017-03-13 17:22:56</td>\n",
       "      <td>2013-01-09 20:32:07</td>\n",
       "      <td>2015-05-02 02:25:46</td>\n",
       "    </tr>\n",
       "    <tr>\n",
       "      <th>static_usd_rate</th>\n",
       "      <td>1</td>\n",
       "      <td>1</td>\n",
       "      <td>1.21607</td>\n",
       "      <td>1</td>\n",
       "      <td>1</td>\n",
       "    </tr>\n",
       "    <tr>\n",
       "      <th>usd_pledged</th>\n",
       "      <td>1950</td>\n",
       "      <td>22404</td>\n",
       "      <td>165.385</td>\n",
       "      <td>2820</td>\n",
       "      <td>3725</td>\n",
       "    </tr>\n",
       "    <tr>\n",
       "      <th>main_category</th>\n",
       "      <td>games</td>\n",
       "      <td>music</td>\n",
       "      <td>games</td>\n",
       "      <td>publishing</td>\n",
       "      <td>music</td>\n",
       "    </tr>\n",
       "    <tr>\n",
       "      <th>sub_category</th>\n",
       "      <td>playingcards</td>\n",
       "      <td>rock</td>\n",
       "      <td>playingcards</td>\n",
       "      <td>nonfiction</td>\n",
       "      <td>classicalmusic</td>\n",
       "    </tr>\n",
       "    <tr>\n",
       "      <th>city</th>\n",
       "      <td>Euless</td>\n",
       "      <td>Hollywood</td>\n",
       "      <td>Kaunas</td>\n",
       "      <td>Traverse City</td>\n",
       "      <td>Annapolis</td>\n",
       "    </tr>\n",
       "    <tr>\n",
       "      <th>profile_state</th>\n",
       "      <td>\"active\"</td>\n",
       "      <td>\"inactive\"</td>\n",
       "      <td>\"inactive\"</td>\n",
       "      <td>\"inactive\"</td>\n",
       "      <td>\"inactive\"</td>\n",
       "    </tr>\n",
       "    <tr>\n",
       "      <th>campaign_duration</th>\n",
       "      <td>30</td>\n",
       "      <td>30</td>\n",
       "      <td>60</td>\n",
       "      <td>30</td>\n",
       "      <td>30</td>\n",
       "    </tr>\n",
       "    <tr>\n",
       "      <th>launch_month</th>\n",
       "      <td>8</td>\n",
       "      <td>5</td>\n",
       "      <td>1</td>\n",
       "      <td>12</td>\n",
       "      <td>4</td>\n",
       "    </tr>\n",
       "    <tr>\n",
       "      <th>deadline_month</th>\n",
       "      <td>9</td>\n",
       "      <td>6</td>\n",
       "      <td>3</td>\n",
       "      <td>1</td>\n",
       "      <td>5</td>\n",
       "    </tr>\n",
       "    <tr>\n",
       "      <th>launch_weekday</th>\n",
       "      <td>3</td>\n",
       "      <td>0</td>\n",
       "      <td>3</td>\n",
       "      <td>0</td>\n",
       "      <td>3</td>\n",
       "    </tr>\n",
       "    <tr>\n",
       "      <th>deadline_weekday</th>\n",
       "      <td>5</td>\n",
       "      <td>2</td>\n",
       "      <td>0</td>\n",
       "      <td>2</td>\n",
       "      <td>5</td>\n",
       "    </tr>\n",
       "    <tr>\n",
       "      <th>launch_year</th>\n",
       "      <td>2017</td>\n",
       "      <td>2013</td>\n",
       "      <td>2017</td>\n",
       "      <td>2012</td>\n",
       "      <td>2015</td>\n",
       "    </tr>\n",
       "    <tr>\n",
       "      <th>length_blurb</th>\n",
       "      <td>125</td>\n",
       "      <td>108</td>\n",
       "      <td>133</td>\n",
       "      <td>121</td>\n",
       "      <td>134</td>\n",
       "    </tr>\n",
       "    <tr>\n",
       "      <th>word_count_blurb</th>\n",
       "      <td>22</td>\n",
       "      <td>15</td>\n",
       "      <td>23</td>\n",
       "      <td>24</td>\n",
       "      <td>18</td>\n",
       "    </tr>\n",
       "    <tr>\n",
       "      <th>length_name</th>\n",
       "      <td>23</td>\n",
       "      <td>51</td>\n",
       "      <td>34</td>\n",
       "      <td>40</td>\n",
       "      <td>31</td>\n",
       "    </tr>\n",
       "    <tr>\n",
       "      <th>word_count_name</th>\n",
       "      <td>4</td>\n",
       "      <td>7</td>\n",
       "      <td>8</td>\n",
       "      <td>7</td>\n",
       "      <td>4</td>\n",
       "    </tr>\n",
       "    <tr>\n",
       "      <th>goal_USD</th>\n",
       "      <td>1000</td>\n",
       "      <td>15000</td>\n",
       "      <td>12160.7</td>\n",
       "      <td>2800</td>\n",
       "      <td>3500</td>\n",
       "    </tr>\n",
       "  </tbody>\n",
       "</table>\n",
       "</div>"
      ],
      "text/plain": [
       "                                                                          1  \\\n",
       "backers_count                                                            47   \n",
       "blurb                     A colorful Dia de los Muertos themed oracle de...   \n",
       "converted_pledged_amount                                               1950   \n",
       "country                                                                  US   \n",
       "created_at                                              2017-08-02 14:28:13   \n",
       "currency                                                                USD   \n",
       "currency_symbol                                                           $   \n",
       "currency_trailing_code                                                 True   \n",
       "current_currency                                                        USD   \n",
       "deadline                                                2017-09-09 17:00:59   \n",
       "fx_rate                                                                   1   \n",
       "goal                                                                   1000   \n",
       "is_starrable                                                          False   \n",
       "launched_at                                             2017-08-10 17:00:59   \n",
       "name                                                The Ofrenda Oracle Deck   \n",
       "photo                     {\"key\":\"assets/017/766/989/dd9f18c773a8546d996...   \n",
       "pledged                                                                1950   \n",
       "spotlight                                                              True   \n",
       "staff_pick                                                            False   \n",
       "state                                                            successful   \n",
       "state_changed_at                                        2017-09-09 17:00:59   \n",
       "static_usd_rate                                                           1   \n",
       "usd_pledged                                                            1950   \n",
       "main_category                                                         games   \n",
       "sub_category                                                   playingcards   \n",
       "city                                                                 Euless   \n",
       "profile_state                                                      \"active\"   \n",
       "campaign_duration                                                        30   \n",
       "launch_month                                                              8   \n",
       "deadline_month                                                            9   \n",
       "launch_weekday                                                            3   \n",
       "deadline_weekday                                                          5   \n",
       "launch_year                                                            2017   \n",
       "length_blurb                                                            125   \n",
       "word_count_blurb                                                         22   \n",
       "length_name                                                              23   \n",
       "word_count_name                                                           4   \n",
       "goal_USD                                                               1000   \n",
       "\n",
       "                                                                          2  \\\n",
       "backers_count                                                           271   \n",
       "blurb                     Electra's long awaited, eclectic Debut Pop/Roc...   \n",
       "converted_pledged_amount                                              22404   \n",
       "country                                                                  US   \n",
       "created_at                                              2012-09-30 06:45:33   \n",
       "currency                                                                USD   \n",
       "currency_symbol                                                           $   \n",
       "currency_trailing_code                                                 True   \n",
       "current_currency                                                        USD   \n",
       "deadline                                                2013-06-12 05:03:15   \n",
       "fx_rate                                                                   1   \n",
       "goal                                                                  15000   \n",
       "is_starrable                                                          False   \n",
       "launched_at                                             2013-05-13 05:03:15   \n",
       "name                      Record Electra's Debut Album (Pop, Rock, Class...   \n",
       "photo                     {\"key\":\"assets/011/433/681/489fd66f7861fefd8c8...   \n",
       "pledged                                                               22404   \n",
       "spotlight                                                              True   \n",
       "staff_pick                                                            False   \n",
       "state                                                            successful   \n",
       "state_changed_at                                        2013-06-12 05:03:15   \n",
       "static_usd_rate                                                           1   \n",
       "usd_pledged                                                           22404   \n",
       "main_category                                                         music   \n",
       "sub_category                                                           rock   \n",
       "city                                                              Hollywood   \n",
       "profile_state                                                    \"inactive\"   \n",
       "campaign_duration                                                        30   \n",
       "launch_month                                                              5   \n",
       "deadline_month                                                            6   \n",
       "launch_weekday                                                            0   \n",
       "deadline_weekday                                                          2   \n",
       "launch_year                                                            2013   \n",
       "length_blurb                                                            108   \n",
       "word_count_blurb                                                         15   \n",
       "length_name                                                              51   \n",
       "word_count_name                                                           7   \n",
       "goal_USD                                                              15000   \n",
       "\n",
       "                                                                          3  \\\n",
       "backers_count                                                             3   \n",
       "blurb                     The Mist of Tribunal is a turn-based card game...   \n",
       "converted_pledged_amount                                                165   \n",
       "country                                                                  GB   \n",
       "created_at                                              2017-01-07 09:11:11   \n",
       "currency                                                                GBP   \n",
       "currency_symbol                                                           £   \n",
       "currency_trailing_code                                                False   \n",
       "current_currency                                                        USD   \n",
       "deadline                                                2017-03-13 17:22:56   \n",
       "fx_rate                                                             1.30839   \n",
       "goal                                                                  10000   \n",
       "is_starrable                                                          False   \n",
       "launched_at                                             2017-01-12 18:22:56   \n",
       "name                                     The Mist of Tribunal - A Card Game   \n",
       "photo                     {\"key\":\"assets/015/091/198/216fbf1bdc3739e7971...   \n",
       "pledged                                                                 136   \n",
       "spotlight                                                             False   \n",
       "staff_pick                                                            False   \n",
       "state                                                                failed   \n",
       "state_changed_at                                        2017-03-13 17:22:56   \n",
       "static_usd_rate                                                     1.21607   \n",
       "usd_pledged                                                         165.385   \n",
       "main_category                                                         games   \n",
       "sub_category                                                   playingcards   \n",
       "city                                                                 Kaunas   \n",
       "profile_state                                                    \"inactive\"   \n",
       "campaign_duration                                                        60   \n",
       "launch_month                                                              1   \n",
       "deadline_month                                                            3   \n",
       "launch_weekday                                                            3   \n",
       "deadline_weekday                                                          0   \n",
       "launch_year                                                            2017   \n",
       "length_blurb                                                            133   \n",
       "word_count_blurb                                                         23   \n",
       "length_name                                                              34   \n",
       "word_count_name                                                           8   \n",
       "goal_USD                                                            12160.7   \n",
       "\n",
       "                                                                          4  \\\n",
       "backers_count                                                             3   \n",
       "blurb                     Livng with a brain impairment, what its like t...   \n",
       "converted_pledged_amount                                               2820   \n",
       "country                                                                  US   \n",
       "created_at                                              2012-12-06 18:04:31   \n",
       "currency                                                                USD   \n",
       "currency_symbol                                                           $   \n",
       "currency_trailing_code                                                 True   \n",
       "current_currency                                                        USD   \n",
       "deadline                                                2013-01-09 20:32:07   \n",
       "fx_rate                                                                   1   \n",
       "goal                                                                   2800   \n",
       "is_starrable                                                          False   \n",
       "launched_at                                             2012-12-10 20:32:07   \n",
       "name                               Help change the face of Brain Impairment   \n",
       "photo                     {\"key\":\"assets/011/457/844/37ba63d35fefaba76e9...   \n",
       "pledged                                                                2820   \n",
       "spotlight                                                              True   \n",
       "staff_pick                                                            False   \n",
       "state                                                            successful   \n",
       "state_changed_at                                        2013-01-09 20:32:07   \n",
       "static_usd_rate                                                           1   \n",
       "usd_pledged                                                            2820   \n",
       "main_category                                                    publishing   \n",
       "sub_category                                                     nonfiction   \n",
       "city                                                          Traverse City   \n",
       "profile_state                                                    \"inactive\"   \n",
       "campaign_duration                                                        30   \n",
       "launch_month                                                             12   \n",
       "deadline_month                                                            1   \n",
       "launch_weekday                                                            0   \n",
       "deadline_weekday                                                          2   \n",
       "launch_year                                                            2012   \n",
       "length_blurb                                                            121   \n",
       "word_count_blurb                                                         24   \n",
       "length_name                                                              40   \n",
       "word_count_name                                                           7   \n",
       "goal_USD                                                               2800   \n",
       "\n",
       "                                                                          5  \n",
       "backers_count                                                            35  \n",
       "blurb                     Annapolis Chamber Players is a non-for profit ...  \n",
       "converted_pledged_amount                                               3725  \n",
       "country                                                                  US  \n",
       "created_at                                              2014-10-24 17:35:50  \n",
       "currency                                                                USD  \n",
       "currency_symbol                                                           $  \n",
       "currency_trailing_code                                                 True  \n",
       "current_currency                                                        USD  \n",
       "deadline                                                2015-05-02 02:25:46  \n",
       "fx_rate                                                                   1  \n",
       "goal                                                                   3500  \n",
       "is_starrable                                                          False  \n",
       "launched_at                                             2015-04-02 02:25:46  \n",
       "name                                        Annapolis Chamber Music Project  \n",
       "photo                     {\"key\":\"assets/011/921/106/c9ad5416f0b588b37b7...  \n",
       "pledged                                                                3725  \n",
       "spotlight                                                              True  \n",
       "staff_pick                                                            False  \n",
       "state                                                            successful  \n",
       "state_changed_at                                        2015-05-02 02:25:46  \n",
       "static_usd_rate                                                           1  \n",
       "usd_pledged                                                            3725  \n",
       "main_category                                                         music  \n",
       "sub_category                                                 classicalmusic  \n",
       "city                                                              Annapolis  \n",
       "profile_state                                                    \"inactive\"  \n",
       "campaign_duration                                                        30  \n",
       "launch_month                                                              4  \n",
       "deadline_month                                                            5  \n",
       "launch_weekday                                                            3  \n",
       "deadline_weekday                                                          5  \n",
       "launch_year                                                            2015  \n",
       "length_blurb                                                            134  \n",
       "word_count_blurb                                                         18  \n",
       "length_name                                                              31  \n",
       "word_count_name                                                           4  \n",
       "goal_USD                                                               3500  "
      ]
     },
     "execution_count": 57,
     "metadata": {},
     "output_type": "execute_result"
    }
   ],
   "source": [
    "df.head().T"
   ]
  },
  {
   "cell_type": "code",
   "execution_count": 189,
   "metadata": {},
   "outputs": [],
   "source": [
    "base = df[[\"goal_USD\", \"backers_count\", \"country\", \"currency\",\n",
    "            \"staff_pick\", \"usd_pledged\"]]\n",
    "advanced = df[[\"goal_USD\", \"backers_count\", \"country\", \n",
    "                \"staff_pick\", \"usd_pledged\", 'main_category',\n",
    "                'sub_category',\n",
    "                'length_name',\n",
    "                'word_count_name',\n",
    "                'campaign_duration',\n",
    "                'launch_month',\n",
    "                'deadline_month',\n",
    "                'launch_weekday',\n",
    "                'deadline_weekday',\n",
    "                'launch_year',\n",
    "                'length_blurb',\n",
    "                'word_count_blurb',\n",
    "                'med_pledged_backer_country',\n",
    "                'med_pledged_backer_category',\n",
    "                'num_backer_category',\n",
    "                'projects_month_cat']]"
   ]
  },
  {
   "cell_type": "code",
   "execution_count": 60,
   "metadata": {},
   "outputs": [],
   "source": [
    "X_base = pd.get_dummies(base, \n",
    "               columns= [\"country\", \"currency\", \"staff_pick\"],\n",
    "               drop_first=True)"
   ]
  },
  {
   "cell_type": "code",
   "execution_count": 61,
   "metadata": {},
   "outputs": [],
   "source": [
    "X_adv = pd.get_dummies(advanced, \n",
    "               columns= [\"country\", \"staff_pick\", 'main_category',\n",
    "                'sub_category',\n",
    "                'launch_month',\n",
    "                'deadline_month',\n",
    "                'launch_weekday',\n",
    "                'deadline_weekday',\n",
    "                'launch_year'],\n",
    "               drop_first=True)"
   ]
  },
  {
   "cell_type": "code",
   "execution_count": 190,
   "metadata": {},
   "outputs": [
    {
     "data": {
      "text/plain": [
       "Index(['goal_USD', 'backers_count', 'usd_pledged', 'country_AU', 'country_BE',\n",
       "       'country_CA', 'country_CH', 'country_DE', 'country_DK', 'country_ES',\n",
       "       'country_FR', 'country_GB', 'country_HK', 'country_IE', 'country_IT',\n",
       "       'country_JP', 'country_LU', 'country_MX', 'country_NL', 'country_NO',\n",
       "       'country_NZ', 'country_SE', 'country_SG', 'country_US', 'currency_CAD',\n",
       "       'currency_CHF', 'currency_DKK', 'currency_EUR', 'currency_GBP',\n",
       "       'currency_HKD', 'currency_JPY', 'currency_MXN', 'currency_NOK',\n",
       "       'currency_NZD', 'currency_SEK', 'currency_SGD', 'currency_USD',\n",
       "       'staff_pick_True'],\n",
       "      dtype='object')"
      ]
     },
     "execution_count": 190,
     "metadata": {},
     "output_type": "execute_result"
    }
   ],
   "source": [
    "X_base.columns"
   ]
  },
  {
   "cell_type": "code",
   "execution_count": 63,
   "metadata": {},
   "outputs": [],
   "source": [
    "y = df[\"state\"].apply(lambda x: 1 if x == \"successful\" else 0)"
   ]
  },
  {
   "cell_type": "code",
   "execution_count": 64,
   "metadata": {},
   "outputs": [
    {
     "data": {
      "text/plain": [
       "1    94614\n",
       "0    74150\n",
       "Name: state, dtype: int64"
      ]
     },
     "execution_count": 64,
     "metadata": {},
     "output_type": "execute_result"
    }
   ],
   "source": [
    "y.value_counts()"
   ]
  },
  {
   "cell_type": "code",
   "execution_count": 203,
   "metadata": {},
   "outputs": [],
   "source": [
    "X_train, X_test, y_train, y_test = train_test_split(X_base, y, random_state=1)"
   ]
  },
  {
   "cell_type": "code",
   "execution_count": 211,
   "metadata": {},
   "outputs": [],
   "source": [
    "scaler = preprocessing.StandardScaler().fit(X_train)\n",
    "X_train = scaler.transform(X_train) \n",
    "X_test = scaler.transform(X_test)"
   ]
  },
  {
   "cell_type": "markdown",
   "metadata": {},
   "source": [
    "### check for imbalances"
   ]
  },
  {
   "cell_type": "code",
   "execution_count": 67,
   "metadata": {},
   "outputs": [
    {
     "data": {
      "image/png": "[encoded data removed]",
      "text/plain": [
       "<Figure size 432x288 with 1 Axes>"
      ]
     },
     "metadata": {},
     "output_type": "display_data"
    }
   ],
   "source": [
    "sns.countplot(x = y);"
   ]
  },
  {
   "cell_type": "code",
   "execution_count": 68,
   "metadata": {},
   "outputs": [
    {
     "data": {
      "text/plain": [
       "<matplotlib.legend.Legend at 0x7ff17c957898>"
      ]
     },
     "execution_count": 68,
     "metadata": {},
     "output_type": "execute_result"
    },
    {
     "data": {
      "image/png": "[encoded data removed]",
      "text/plain": [
       "<Figure size 720x360 with 1 Axes>"
      ]
     },
     "metadata": {},
     "output_type": "display_data"
    }
   ],
   "source": [
    "fig = plt.figure(figsize=(10,5))\n",
    "X_base['backers_count'].apply(lambda x: x+1).apply(np.log).hist(bins=30, color='red', \n",
    "                             label='backers_count_log', alpha=0.6)\n",
    "\n",
    "plt.legend()"
   ]
  },
  {
   "cell_type": "code",
   "execution_count": 69,
   "metadata": {},
   "outputs": [
    {
     "data": {
      "image/png": "[encoded data removed]",
      "text/plain": [
       "<Figure size 432x288 with 1 Axes>"
      ]
     },
     "metadata": {},
     "output_type": "display_data"
    }
   ],
   "source": [
    "sns.countplot(x = X_base[\"staff_pick_True\"]);"
   ]
  },
  {
   "cell_type": "code",
   "execution_count": 70,
   "metadata": {},
   "outputs": [
    {
     "data": {
      "image/png": "[encoded data removed]",
      "text/plain": [
       "<Figure size 720x576 with 1 Axes>"
      ]
     },
     "metadata": {},
     "output_type": "display_data"
    }
   ],
   "source": [
    "plt.figure(figsize=(10,8))\n",
    "sns.countplot(x = base[\"country\"]);"
   ]
  },
  {
   "cell_type": "code",
   "execution_count": 161,
   "metadata": {},
   "outputs": [
    {
     "data": {
      "image/png": "[encoded data removed]",
      "text/plain": [
       "<Figure size 432x288 with 1 Axes>"
      ]
     },
     "metadata": {},
     "output_type": "display_data"
    }
   ],
   "source": [
    "sns.countplot(x = base[\"currency\"]);"
   ]
  },
  {
   "cell_type": "code",
   "execution_count": 160,
   "metadata": {},
   "outputs": [
    {
     "data": {
      "image/png": "[encoded data removed]",
      "text/plain": [
       "<Figure size 720x360 with 1 Axes>"
      ]
     },
     "metadata": {},
     "output_type": "display_data"
    }
   ],
   "source": [
    "fig = plt.figure(figsize=(10,5))\n",
    "X_base['usd_pledged'].apply(lambda x: x+1).apply(np.log).hist(bins=30, color='red', \n",
    "                                         label='usd_pledged_log', alpha=0.6)\n",
    "\n",
    "plt.legend();"
   ]
  },
  {
   "cell_type": "code",
   "execution_count": 199,
   "metadata": {},
   "outputs": [
    {
     "data": {
      "image/png": "[encoded data removed]",
      "text/plain": [
       "<Figure size 576x288 with 1 Axes>"
      ]
     },
     "metadata": {},
     "output_type": "display_data"
    }
   ],
   "source": [
    "plt.figure(figsize=(8,4))\n",
    "sns.countplot(x = advanced[\"main_category\"], hue=y);"
   ]
  },
  {
   "cell_type": "code",
   "execution_count": 196,
   "metadata": {},
   "outputs": [
    {
     "data": {
      "image/png": "[encoded data removed]",
      "text/plain": [
       "<Figure size 432x216 with 1 Axes>"
      ]
     },
     "metadata": {},
     "output_type": "display_data"
    }
   ],
   "source": [
    "plt.figure(figsize=(6,3))\n",
    "ax=sns.countplot(x = advanced[\"launch_month\"], hue=y)\n",
    "ax.set_xticklabels(list(calendar.month_abbr)[1:13]);"
   ]
  },
  {
   "cell_type": "code",
   "execution_count": 195,
   "metadata": {},
   "outputs": [
    {
     "data": {
      "image/png": "[encoded data removed]",
      "text/plain": [
       "<Figure size 432x216 with 1 Axes>"
      ]
     },
     "metadata": {},
     "output_type": "display_data"
    }
   ],
   "source": [
    "plt.figure(figsize=(6,3))\n",
    "ax=sns.countplot(x = advanced[\"launch_weekday\"], hue=y)\n",
    "ax.set_xticklabels(list(calendar.day_name));"
   ]
  },
  {
   "cell_type": "code",
   "execution_count": 194,
   "metadata": {},
   "outputs": [
    {
     "data": {
      "image/png": "[encoded data removed]",
      "text/plain": [
       "<Figure size 432x216 with 1 Axes>"
      ]
     },
     "metadata": {},
     "output_type": "display_data"
    }
   ],
   "source": [
    "plt.figure(figsize=(6,3))\n",
    "ax=sns.countplot(x = advanced[\"deadline_month\"], hue=y)\n",
    "ax.set_xticklabels(list(calendar.month_abbr)[1:13]);"
   ]
  },
  {
   "cell_type": "code",
   "execution_count": 193,
   "metadata": {},
   "outputs": [
    {
     "data": {
      "image/png": "[encoded data removed]",
      "text/plain": [
       "<Figure size 432x216 with 1 Axes>"
      ]
     },
     "metadata": {},
     "output_type": "display_data"
    }
   ],
   "source": [
    "\n",
    "plt.figure(figsize=(6,3))\n",
    "ax=sns.countplot(x = advanced[\"deadline_weekday\"], hue=y)\n",
    "ax.set_xticklabels(list(calendar.day_name));"
   ]
  },
  {
   "cell_type": "markdown",
   "metadata": {},
   "source": [
    "## Predictions"
   ]
  },
  {
   "cell_type": "markdown",
   "metadata": {},
   "source": [
    "With our model we strive to optimize the precision score. We do this to avoid wrong expectations about the success. In other words we perceive predicting a failed campaign as succesful to be worse then the other way around.\n",
    "The accuracy score should be another informative metric for the prediction because of more or less balanced distribution of the label."
   ]
  },
  {
   "cell_type": "markdown",
   "metadata": {},
   "source": [
    "###  Base model"
   ]
  },
  {
   "cell_type": "markdown",
   "metadata": {},
   "source": [
    "For the base model, we will be applying the following models:\n",
    "1. **Logistic regression**\n",
    "2. **tree-based models (RandomForest, AdaBoost, XGBoost)**\n",
    "3. **(Naive Bayes)** --> optional\n",
    "4. **Support Vector Machines** --> we will probably need to resample due to the large data set\n",
    "5. **(KNN)** --> optional"
   ]
  },
  {
   "cell_type": "markdown",
   "metadata": {},
   "source": [
    "#### Logistic Regression"
   ]
  },
  {
   "cell_type": "code",
   "execution_count": 200,
   "metadata": {},
   "outputs": [],
   "source": [
    "from sklearn.linear_model import LogisticRegression"
   ]
  },
  {
   "cell_type": "code",
   "execution_count": 208,
   "metadata": {},
   "outputs": [],
   "source": [
    "log = LogisticRegression(random_state=42,\n",
    "                         max_iter=100000)"
   ]
  },
  {
   "cell_type": "code",
   "execution_count": 209,
   "metadata": {},
   "outputs": [
    {
     "data": {
      "text/plain": [
       "LogisticRegression(max_iter=100000, random_state=42)"
      ]
     },
     "execution_count": 209,
     "metadata": {},
     "output_type": "execute_result"
    }
   ],
   "source": [
    "log.fit(X_train, y_train)"
   ]
  },
  {
   "cell_type": "code",
   "execution_count": 212,
   "metadata": {},
   "outputs": [],
   "source": [
    "y_pred_log = log.predict(X_test)"
   ]
  },
  {
   "cell_type": "code",
   "execution_count": 289,
   "metadata": {},
   "outputs": [],
   "source": [
    "def plot_confusion_matrix(cm, classes,\n",
    "                          normalize=False,\n",
    "                          title='Confusion matrix',\n",
    "                          cmap=plt.cm.Blues):\n",
    "    \"\"\"\n",
    "    This function prints and plots the confusion matrix.\n",
    "    Normalization can be applied by setting `normalize=True`.\n",
    "    \"\"\"\n",
    "    if normalize:\n",
    "        cm = cm.astype('float') / cm.sum(axis=1)[:, np.newaxis]\n",
    "        print(\"Normalized confusion matrix\")\n",
    "    else:\n",
    "        print('Confusion matrix, without normalization')\n",
    "    print(cm)\n",
    "    plt.imshow(cm, interpolation='nearest', cmap=cmap)\n",
    "    plt.title(title)\n",
    "    plt.colorbar()\n",
    "    tick_marks = np.arange(len(classes))\n",
    "    plt.xticks(tick_marks, classes, rotation=45)\n",
    "    plt.yticks(tick_marks, classes)\n",
    "    fmt = '.2f' if normalize else 'd'\n",
    "    thresh = cm.max() / 2.\n",
    "    for i, j in itertools.product(range(cm.shape[0]), range(cm.shape[1])):\n",
    "        plt.text(j, i, format(cm[i, j], fmt),\n",
    "                 horizontalalignment=\"center\",\n",
    "                 color=\"white\" if cm[i, j] > thresh else \"black\")\n",
    "    plt.tight_layout()\n",
    "    plt.ylabel('True label')\n",
    "    plt.xlabel('Predicted label')"
   ]
  },
  {
   "cell_type": "code",
   "execution_count": 290,
   "metadata": {},
   "outputs": [
    {
     "name": "stdout",
     "output_type": "stream",
     "text": [
      "Normalized confusion matrix\n",
      "[[1.         0.        ]\n",
      " [0.96122526 0.03877474]]\n"
     ]
    },
    {
     "data": {
      "image/png": "[encoded data removed]",
      "text/plain": [
       "<Figure size 432x288 with 2 Axes>"
      ]
     },
     "metadata": {},
     "output_type": "display_data"
    }
   ],
   "source": [
    "log_matrix = confusion_matrix(y_test, y_pred_log)\n",
    "plot_confusion_matrix(log_matrix, \n",
    "                      classes=['failed','successful'],\n",
    "                      normalize= True, \n",
    "                      title='Confusion matrix')"
   ]
  },
  {
   "cell_type": "code",
   "execution_count": 227,
   "metadata": {},
   "outputs": [
    {
     "name": "stdout",
     "output_type": "stream",
     "text": [
      "              precision    recall  f1-score   support\n",
      "\n",
      "           0       0.45      1.00      0.62     18490\n",
      "           1       1.00      0.04      0.07     23701\n",
      "\n",
      "    accuracy                           0.46     42191\n",
      "   macro avg       0.72      0.52      0.35     42191\n",
      "weighted avg       0.76      0.46      0.31     42191\n",
      "\n"
     ]
    }
   ],
   "source": [
    "print(classification_report(y_test, y_pred_log))"
   ]
  },
  {
   "cell_type": "code",
   "execution_count": 241,
   "metadata": {},
   "outputs": [
    {
     "name": "stdout",
     "output_type": "stream",
     "text": [
      "0.5204612658026925\n"
     ]
    }
   ],
   "source": [
    "y_pred_log_prob = log.predict_proba(X_test)\n",
    "print(roc_auc_score(y_test, y_pred_log_prob[:,1]))"
   ]
  },
  {
   "cell_type": "markdown",
   "metadata": {},
   "source": [
    "**Observation**:\n",
    "We see that the logistic regression for the base model performs poorly both in terms of **accuracy** as well as the **recall** score. In addition, the **ROC-AUC** score is barely above a random coin flip. For this case, we will not visualize the result.\n",
    "\n",
    "The only upside would be that we did not project anybody to be successful who turned out to fail.\n",
    "Overall, we will turn to other classification models to seek for improvements."
   ]
  },
  {
   "cell_type": "markdown",
   "metadata": {},
   "source": [
    "#### Tree-based Models"
   ]
  },
  {
   "cell_type": "markdown",
   "metadata": {},
   "source": [
    "In this section, we will run through a number of tree-based machine learning models. The first step will be to apply a simple **Decision Tree** model. "
   ]
  },
  {
   "cell_type": "markdown",
   "metadata": {},
   "source": [
    "##### Decision Tree "
   ]
  },
  {
   "cell_type": "code",
   "execution_count": 231,
   "metadata": {},
   "outputs": [],
   "source": [
    "base_tree = DecisionTreeClassifier()"
   ]
  },
  {
   "cell_type": "code",
   "execution_count": 263,
   "metadata": {},
   "outputs": [],
   "source": [
    "# We build a function to train and predict our data\n",
    "\n",
    "from sklearn.metrics import fbeta_score\n",
    "\n",
    "def train_predict(model, sample_size, X_train, y_train, X_test, y_test): \n",
    "    '''\n",
    "    inputs:\n",
    "       - model: the learning algorithm to be trained and predicted on\n",
    "       - sample_size: the size of samples (number) to be drawn from training set\n",
    "       - X_train: features training set\n",
    "       - y_train: income training set\n",
    "       - X_test: features testing set\n",
    "       - y_test: income testing set\n",
    "    '''\n",
    "    \n",
    "    scores = {}\n",
    "    \n",
    "    # fit the model to the training data using slicing with 'sample_size'\n",
    "    model = model.fit(X_train[:sample_size],y_train[:sample_size])\n",
    "        \n",
    "    # get predictions on the first 300 training samples\n",
    "    \n",
    "    predictions_test = model.predict(X_test)\n",
    "    predictions_train = model.predict(X_train[:300])\n",
    "    probabilities_test = model.predict_proba(X_test)\n",
    "    probabilities_train = model.predict_proba(X_train[:300])\n",
    "    \n",
    "            \n",
    "    # compute accuracy on the first 300 training samples\n",
    "    scores['acc_train'] = accuracy_score(y_train[:300],predictions_train)\n",
    "        \n",
    "    # compute accuracy on test set\n",
    "    scores['acc_test'] = accuracy_score(y_test,predictions_test)\n",
    "    \n",
    "    # compute F-score on the the first 300 training samples\n",
    "    scores['f_train'] = fbeta_score(y_train[:300],predictions_train,beta=0.5)\n",
    "        \n",
    "    # compute F-score on the test set\n",
    "    scores['f_test'] = fbeta_score(y_test,predictions_test,beta=0.5)\n",
    "       \n",
    "     # compute roc-auc score on the the first 300 training samples\n",
    "    scores['roc_auc_train'] = roc_auc_score(y_train[:300],probabilities_train[:,1], average=None)\n",
    "        \n",
    "    # compute roc-auc score on the test set\n",
    "    scores['roc_auc_test'] = roc_auc_score(y_test,probabilities_test[:,1], average=None)\n",
    "    \n",
    "    # Success\n",
    "    print (\"{} trained on {} samples.\".format(model.__class__.__name__, sample_size))\n",
    "        \n",
    "    # Return the results\n",
    "    return scores"
   ]
  },
  {
   "cell_type": "code",
   "execution_count": 264,
   "metadata": {},
   "outputs": [
    {
     "name": "stdout",
     "output_type": "stream",
     "text": [
      "DecisionTreeClassifier trained on 1266 samples.\n",
      "DecisionTreeClassifier trained on 12657 samples.\n",
      "DecisionTreeClassifier trained on 126573 samples.\n",
      "RandomForestClassifier trained on 1266 samples.\n",
      "RandomForestClassifier trained on 12657 samples.\n",
      "RandomForestClassifier trained on 126573 samples.\n",
      "GradientBoostingClassifier trained on 1266 samples.\n",
      "GradientBoostingClassifier trained on 12657 samples.\n",
      "GradientBoostingClassifier trained on 126573 samples.\n",
      "AdaBoostClassifier trained on 1266 samples.\n",
      "AdaBoostClassifier trained on 12657 samples.\n",
      "AdaBoostClassifier trained on 126573 samples.\n",
      "XGBClassifier trained on 1266 samples.\n",
      "XGBClassifier trained on 12657 samples.\n",
      "XGBClassifier trained on 126573 samples.\n"
     ]
    }
   ],
   "source": [
    "# Import the three supervised learning models from sklearn\n",
    "from sklearn.tree import DecisionTreeClassifier\n",
    "from sklearn.ensemble import RandomForestClassifier\n",
    "from sklearn.ensemble import GradientBoostingClassifier\n",
    "from sklearn.ensemble import AdaBoostClassifier\n",
    "from xgboost import XGBClassifier\n",
    "\n",
    "# Initialize the five models,\n",
    "# set random state to 42 so we know how to reproduce the model later\n",
    "clf_A = DecisionTreeClassifier(random_state=42)\n",
    "clf_B = RandomForestClassifier(random_state=42)\n",
    "clf_C = GradientBoostingClassifier(random_state=42)\n",
    "clf_D = AdaBoostClassifier(random_state=42)\n",
    "clf_E = XGBClassifier(random_state=42)\n",
    "\n",
    "# TODO: Calculate the number of samples for 1%, 10%, and 100% of the training data\n",
    "samples_1 = int(round(len(X_train) / 100))\n",
    "samples_10 = int(round(len(X_train) / 10))\n",
    "samples_100 = len(X_train)\n",
    "\n",
    "# Collect results on the learners\n",
    "results = {}\n",
    "for clf in [clf_A, clf_B, clf_C, clf_D, clf_E]:\n",
    "    clf_name = clf.__class__.__name__\n",
    "    results[clf_name] = {}\n",
    "    for i, samples in enumerate([samples_1, samples_10, samples_100]):\n",
    "        results[clf_name][i] = \\\n",
    "        train_predict(clf, samples, X_train, y_train, X_test, y_test)"
   ]
  },
  {
   "cell_type": "code",
   "execution_count": 265,
   "metadata": {},
   "outputs": [
    {
     "name": "stdout",
     "output_type": "stream",
     "text": [
      "DecisionTreeClassifier\n"
     ]
    },
    {
     "data": {
      "text/html": [
       "<div>\n",
       "<style scoped>\n",
       "    .dataframe tbody tr th:only-of-type {\n",
       "        vertical-align: middle;\n",
       "    }\n",
       "\n",
       "    .dataframe tbody tr th {\n",
       "        vertical-align: top;\n",
       "    }\n",
       "\n",
       "    .dataframe thead th {\n",
       "        text-align: right;\n",
       "    }\n",
       "</style>\n",
       "<table border=\"1\" class=\"dataframe\">\n",
       "  <thead>\n",
       "    <tr style=\"text-align: right;\">\n",
       "      <th></th>\n",
       "      <th>1%</th>\n",
       "      <th>10%</th>\n",
       "      <th>100%</th>\n",
       "    </tr>\n",
       "  </thead>\n",
       "  <tbody>\n",
       "    <tr>\n",
       "      <th>acc_test</th>\n",
       "      <td>0.649191</td>\n",
       "      <td>0.774644</td>\n",
       "      <td>0.827285</td>\n",
       "    </tr>\n",
       "    <tr>\n",
       "      <th>acc_train</th>\n",
       "      <td>1.000000</td>\n",
       "      <td>1.000000</td>\n",
       "      <td>1.000000</td>\n",
       "    </tr>\n",
       "    <tr>\n",
       "      <th>f_test</th>\n",
       "      <td>0.666849</td>\n",
       "      <td>0.757829</td>\n",
       "      <td>0.805476</td>\n",
       "    </tr>\n",
       "    <tr>\n",
       "      <th>f_train</th>\n",
       "      <td>1.000000</td>\n",
       "      <td>1.000000</td>\n",
       "      <td>1.000000</td>\n",
       "    </tr>\n",
       "    <tr>\n",
       "      <th>roc_auc_test</th>\n",
       "      <td>0.599757</td>\n",
       "      <td>0.743578</td>\n",
       "      <td>0.804701</td>\n",
       "    </tr>\n",
       "    <tr>\n",
       "      <th>roc_auc_train</th>\n",
       "      <td>1.000000</td>\n",
       "      <td>1.000000</td>\n",
       "      <td>1.000000</td>\n",
       "    </tr>\n",
       "  </tbody>\n",
       "</table>\n",
       "</div>"
      ],
      "text/plain": [
       "                     1%       10%      100%\n",
       "acc_test       0.649191  0.774644  0.827285\n",
       "acc_train      1.000000  1.000000  1.000000\n",
       "f_test         0.666849  0.757829  0.805476\n",
       "f_train        1.000000  1.000000  1.000000\n",
       "roc_auc_test   0.599757  0.743578  0.804701\n",
       "roc_auc_train  1.000000  1.000000  1.000000"
      ]
     },
     "metadata": {},
     "output_type": "display_data"
    },
    {
     "name": "stdout",
     "output_type": "stream",
     "text": [
      "RandomForestClassifier\n"
     ]
    },
    {
     "data": {
      "text/html": [
       "<div>\n",
       "<style scoped>\n",
       "    .dataframe tbody tr th:only-of-type {\n",
       "        vertical-align: middle;\n",
       "    }\n",
       "\n",
       "    .dataframe tbody tr th {\n",
       "        vertical-align: top;\n",
       "    }\n",
       "\n",
       "    .dataframe thead th {\n",
       "        text-align: right;\n",
       "    }\n",
       "</style>\n",
       "<table border=\"1\" class=\"dataframe\">\n",
       "  <thead>\n",
       "    <tr style=\"text-align: right;\">\n",
       "      <th></th>\n",
       "      <th>1%</th>\n",
       "      <th>10%</th>\n",
       "      <th>100%</th>\n",
       "    </tr>\n",
       "  </thead>\n",
       "  <tbody>\n",
       "    <tr>\n",
       "      <th>acc_test</th>\n",
       "      <td>0.649191</td>\n",
       "      <td>0.649191</td>\n",
       "      <td>0.680050</td>\n",
       "    </tr>\n",
       "    <tr>\n",
       "      <th>acc_train</th>\n",
       "      <td>1.000000</td>\n",
       "      <td>1.000000</td>\n",
       "      <td>1.000000</td>\n",
       "    </tr>\n",
       "    <tr>\n",
       "      <th>f_test</th>\n",
       "      <td>0.666849</td>\n",
       "      <td>0.666849</td>\n",
       "      <td>0.686993</td>\n",
       "    </tr>\n",
       "    <tr>\n",
       "      <th>f_train</th>\n",
       "      <td>1.000000</td>\n",
       "      <td>1.000000</td>\n",
       "      <td>1.000000</td>\n",
       "    </tr>\n",
       "    <tr>\n",
       "      <th>roc_auc_test</th>\n",
       "      <td>0.807010</td>\n",
       "      <td>0.635961</td>\n",
       "      <td>0.841405</td>\n",
       "    </tr>\n",
       "    <tr>\n",
       "      <th>roc_auc_train</th>\n",
       "      <td>1.000000</td>\n",
       "      <td>1.000000</td>\n",
       "      <td>1.000000</td>\n",
       "    </tr>\n",
       "  </tbody>\n",
       "</table>\n",
       "</div>"
      ],
      "text/plain": [
       "                     1%       10%      100%\n",
       "acc_test       0.649191  0.649191  0.680050\n",
       "acc_train      1.000000  1.000000  1.000000\n",
       "f_test         0.666849  0.666849  0.686993\n",
       "f_train        1.000000  1.000000  1.000000\n",
       "roc_auc_test   0.807010  0.635961  0.841405\n",
       "roc_auc_train  1.000000  1.000000  1.000000"
      ]
     },
     "metadata": {},
     "output_type": "display_data"
    },
    {
     "name": "stdout",
     "output_type": "stream",
     "text": [
      "GradientBoostingClassifier\n"
     ]
    },
    {
     "data": {
      "text/html": [
       "<div>\n",
       "<style scoped>\n",
       "    .dataframe tbody tr th:only-of-type {\n",
       "        vertical-align: middle;\n",
       "    }\n",
       "\n",
       "    .dataframe tbody tr th {\n",
       "        vertical-align: top;\n",
       "    }\n",
       "\n",
       "    .dataframe thead th {\n",
       "        text-align: right;\n",
       "    }\n",
       "</style>\n",
       "<table border=\"1\" class=\"dataframe\">\n",
       "  <thead>\n",
       "    <tr style=\"text-align: right;\">\n",
       "      <th></th>\n",
       "      <th>1%</th>\n",
       "      <th>10%</th>\n",
       "      <th>100%</th>\n",
       "    </tr>\n",
       "  </thead>\n",
       "  <tbody>\n",
       "    <tr>\n",
       "      <th>acc_test</th>\n",
       "      <td>0.649191</td>\n",
       "      <td>0.674551</td>\n",
       "      <td>0.675191</td>\n",
       "    </tr>\n",
       "    <tr>\n",
       "      <th>acc_train</th>\n",
       "      <td>0.996667</td>\n",
       "      <td>0.993333</td>\n",
       "      <td>0.993333</td>\n",
       "    </tr>\n",
       "    <tr>\n",
       "      <th>f_test</th>\n",
       "      <td>0.666849</td>\n",
       "      <td>0.683316</td>\n",
       "      <td>0.683742</td>\n",
       "    </tr>\n",
       "    <tr>\n",
       "      <th>f_train</th>\n",
       "      <td>0.995423</td>\n",
       "      <td>0.990888</td>\n",
       "      <td>0.990888</td>\n",
       "    </tr>\n",
       "    <tr>\n",
       "      <th>roc_auc_test</th>\n",
       "      <td>0.599757</td>\n",
       "      <td>0.744212</td>\n",
       "      <td>0.645985</td>\n",
       "    </tr>\n",
       "    <tr>\n",
       "      <th>roc_auc_train</th>\n",
       "      <td>1.000000</td>\n",
       "      <td>1.000000</td>\n",
       "      <td>1.000000</td>\n",
       "    </tr>\n",
       "  </tbody>\n",
       "</table>\n",
       "</div>"
      ],
      "text/plain": [
       "                     1%       10%      100%\n",
       "acc_test       0.649191  0.674551  0.675191\n",
       "acc_train      0.996667  0.993333  0.993333\n",
       "f_test         0.666849  0.683316  0.683742\n",
       "f_train        0.995423  0.990888  0.990888\n",
       "roc_auc_test   0.599757  0.744212  0.645985\n",
       "roc_auc_train  1.000000  1.000000  1.000000"
      ]
     },
     "metadata": {},
     "output_type": "display_data"
    },
    {
     "name": "stdout",
     "output_type": "stream",
     "text": [
      "AdaBoostClassifier\n"
     ]
    },
    {
     "data": {
      "text/html": [
       "<div>\n",
       "<style scoped>\n",
       "    .dataframe tbody tr th:only-of-type {\n",
       "        vertical-align: middle;\n",
       "    }\n",
       "\n",
       "    .dataframe tbody tr th {\n",
       "        vertical-align: top;\n",
       "    }\n",
       "\n",
       "    .dataframe thead th {\n",
       "        text-align: right;\n",
       "    }\n",
       "</style>\n",
       "<table border=\"1\" class=\"dataframe\">\n",
       "  <thead>\n",
       "    <tr style=\"text-align: right;\">\n",
       "      <th></th>\n",
       "      <th>1%</th>\n",
       "      <th>10%</th>\n",
       "      <th>100%</th>\n",
       "    </tr>\n",
       "  </thead>\n",
       "  <tbody>\n",
       "    <tr>\n",
       "      <th>acc_test</th>\n",
       "      <td>0.649191</td>\n",
       "      <td>0.649191</td>\n",
       "      <td>0.649191</td>\n",
       "    </tr>\n",
       "    <tr>\n",
       "      <th>acc_train</th>\n",
       "      <td>0.990000</td>\n",
       "      <td>0.990000</td>\n",
       "      <td>0.986667</td>\n",
       "    </tr>\n",
       "    <tr>\n",
       "      <th>f_test</th>\n",
       "      <td>0.666849</td>\n",
       "      <td>0.666849</td>\n",
       "      <td>0.666849</td>\n",
       "    </tr>\n",
       "    <tr>\n",
       "      <th>f_train</th>\n",
       "      <td>0.986395</td>\n",
       "      <td>0.986395</td>\n",
       "      <td>0.981941</td>\n",
       "    </tr>\n",
       "    <tr>\n",
       "      <th>roc_auc_test</th>\n",
       "      <td>0.599757</td>\n",
       "      <td>0.599757</td>\n",
       "      <td>0.599757</td>\n",
       "    </tr>\n",
       "    <tr>\n",
       "      <th>roc_auc_train</th>\n",
       "      <td>0.999909</td>\n",
       "      <td>0.998540</td>\n",
       "      <td>0.999225</td>\n",
       "    </tr>\n",
       "  </tbody>\n",
       "</table>\n",
       "</div>"
      ],
      "text/plain": [
       "                     1%       10%      100%\n",
       "acc_test       0.649191  0.649191  0.649191\n",
       "acc_train      0.990000  0.990000  0.986667\n",
       "f_test         0.666849  0.666849  0.666849\n",
       "f_train        0.986395  0.986395  0.981941\n",
       "roc_auc_test   0.599757  0.599757  0.599757\n",
       "roc_auc_train  0.999909  0.998540  0.999225"
      ]
     },
     "metadata": {},
     "output_type": "display_data"
    },
    {
     "name": "stdout",
     "output_type": "stream",
     "text": [
      "XGBClassifier\n"
     ]
    },
    {
     "data": {
      "text/html": [
       "<div>\n",
       "<style scoped>\n",
       "    .dataframe tbody tr th:only-of-type {\n",
       "        vertical-align: middle;\n",
       "    }\n",
       "\n",
       "    .dataframe tbody tr th {\n",
       "        vertical-align: top;\n",
       "    }\n",
       "\n",
       "    .dataframe thead th {\n",
       "        text-align: right;\n",
       "    }\n",
       "</style>\n",
       "<table border=\"1\" class=\"dataframe\">\n",
       "  <thead>\n",
       "    <tr style=\"text-align: right;\">\n",
       "      <th></th>\n",
       "      <th>1%</th>\n",
       "      <th>10%</th>\n",
       "      <th>100%</th>\n",
       "    </tr>\n",
       "  </thead>\n",
       "  <tbody>\n",
       "    <tr>\n",
       "      <th>acc_test</th>\n",
       "      <td>0.649191</td>\n",
       "      <td>0.674172</td>\n",
       "      <td>0.685715</td>\n",
       "    </tr>\n",
       "    <tr>\n",
       "      <th>acc_train</th>\n",
       "      <td>0.996667</td>\n",
       "      <td>0.996667</td>\n",
       "      <td>0.996667</td>\n",
       "    </tr>\n",
       "    <tr>\n",
       "      <th>f_test</th>\n",
       "      <td>0.666849</td>\n",
       "      <td>0.683064</td>\n",
       "      <td>0.690838</td>\n",
       "    </tr>\n",
       "    <tr>\n",
       "      <th>f_train</th>\n",
       "      <td>0.995423</td>\n",
       "      <td>0.995423</td>\n",
       "      <td>0.995423</td>\n",
       "    </tr>\n",
       "    <tr>\n",
       "      <th>roc_auc_test</th>\n",
       "      <td>0.599757</td>\n",
       "      <td>0.780882</td>\n",
       "      <td>0.806444</td>\n",
       "    </tr>\n",
       "    <tr>\n",
       "      <th>roc_auc_train</th>\n",
       "      <td>1.000000</td>\n",
       "      <td>1.000000</td>\n",
       "      <td>1.000000</td>\n",
       "    </tr>\n",
       "  </tbody>\n",
       "</table>\n",
       "</div>"
      ],
      "text/plain": [
       "                     1%       10%      100%\n",
       "acc_test       0.649191  0.674172  0.685715\n",
       "acc_train      0.996667  0.996667  0.996667\n",
       "f_test         0.666849  0.683064  0.690838\n",
       "f_train        0.995423  0.995423  0.995423\n",
       "roc_auc_test   0.599757  0.780882  0.806444\n",
       "roc_auc_train  1.000000  1.000000  1.000000"
      ]
     },
     "metadata": {},
     "output_type": "display_data"
    }
   ],
   "source": [
    "for i in results.items():\n",
    "    print (i[0])\n",
    "    display(pd.DataFrame(i[1]).rename(columns={0:'1%', 1:'10%', 2:'100%'}))"
   ]
  },
  {
   "cell_type": "code",
   "execution_count": 266,
   "metadata": {},
   "outputs": [
    {
     "data": {
      "image/png": "[encoded data removed]",
      "text/plain": [
       "<Figure size 432x288 with 2 Axes>"
      ]
     },
     "metadata": {},
     "output_type": "display_data"
    },
    {
     "data": {
      "image/png": "[encoded data removed]",
      "text/plain": [
       "<Figure size 432x288 with 2 Axes>"
      ]
     },
     "metadata": {},
     "output_type": "display_data"
    },
    {
     "data": {
      "image/png": "[encoded data removed]",
      "text/plain": [
       "<Figure size 432x288 with 2 Axes>"
      ]
     },
     "metadata": {},
     "output_type": "display_data"
    },
    {
     "data": {
      "image/png": "[encoded data removed]",
      "text/plain": [
       "<Figure size 432x288 with 2 Axes>"
      ]
     },
     "metadata": {},
     "output_type": "display_data"
    },
    {
     "data": {
      "image/png": "[encoded data removed]",
      "text/plain": [
       "<Figure size 432x288 with 2 Axes>"
      ]
     },
     "metadata": {},
     "output_type": "display_data"
    }
   ],
   "source": [
    "#Visualizing the confusion matrix for each classifier\n",
    "\n",
    "for i,model in enumerate([clf_A,clf_B,clf_C, clf_D, clf_E]):\n",
    "    cm = confusion_matrix(y_test, model.predict(X_test))\n",
    "    cm = cm.astype('float') / cm.sum(axis=1)[:, np.newaxis] # normalize the data\n",
    "\n",
    "    # view with a heatmap\n",
    "    plt.figure(i)\n",
    "    sns.heatmap(cm, annot=True, annot_kws={\"size\":30}, \n",
    "            cmap='Blues', square=True, fmt='.3f')\n",
    "    plt.ylabel('True label')\n",
    "    plt.xlabel('Predicted label')\n",
    "    plt.title('Confusion matrix for:\\n{}'.format(model.__class__.__name__));"
   ]
  },
  {
   "cell_type": "markdown",
   "metadata": {},
   "source": [
    "##### Improve the Tree-based Models "
   ]
  },
  {
   "cell_type": "code",
   "execution_count": 275,
   "metadata": {},
   "outputs": [
    {
     "name": "stdout",
     "output_type": "stream",
     "text": [
      "Fitting 3 folds for each of 10 candidates, totalling 30 fits\n"
     ]
    },
    {
     "name": "stderr",
     "output_type": "stream",
     "text": [
      "[Parallel(n_jobs=-1)]: Using backend LokyBackend with 4 concurrent workers.\n",
      "[Parallel(n_jobs=-1)]: Done  30 out of  30 | elapsed:  4.5min finished\n"
     ]
    },
    {
     "data": {
      "text/plain": [
       "RandomizedSearchCV(cv=3, estimator=RandomForestClassifier(random_state=42),\n",
       "                   n_jobs=-1,\n",
       "                   param_distributions={'bootstrap': [True, False],\n",
       "                                        'max_depth': [None, 3, 3, 3, 3, 3, 4, 4,\n",
       "                                                      4, 4, 5, 5, 5, 5, 6, 6, 6,\n",
       "                                                      6, 7, 7, 7, 7, 8, 8, 8, 8,\n",
       "                                                      9, 9, 9, 9, ...],\n",
       "                                        'max_features': ['auto', 'sqrt', None,\n",
       "                                                         0.5, 0.6, 0.7,\n",
       "                                                         0.7999999999999999,\n",
       "                                                         0.8999999999999999],\n",
       "                                        'max_leaf_nodes': [None, 10, 10, 10, 10,\n",
       "                                                           10, 10, 10, 10, 10,\n",
       "                                                           10, 10, 10, 10, 11,\n",
       "                                                           11, 11, 11, 11, 11,\n",
       "                                                           11, 11, 11, 11, 11,\n",
       "                                                           11, 12, 12, 12, 12, ...],\n",
       "                                        'min_samples_leaf': [5, 10, 20],\n",
       "                                        'n_estimators': array([ 10,  13,  17,  21,  25,  29,  33,  37,  41,  44,  48,  52,  56,\n",
       "        60,  64,  68,  72,  75,  79,  83,  87,  91,  95,  99, 103, 106,\n",
       "       110, 114, 118, 122, 126, 130, 134, 137, 141, 145, 149, 153, 157,\n",
       "       161, 165, 168, 172, 176, 180, 184, 188, 192, 196, 200])},\n",
       "                   random_state=42, scoring='roc_auc', verbose=1)"
      ]
     },
     "execution_count": 275,
     "metadata": {},
     "output_type": "execute_result"
    }
   ],
   "source": [
    "from sklearn.model_selection import RandomizedSearchCV\n",
    "\n",
    "# Hyperparameter grid\n",
    "param_grid = {\n",
    "    'n_estimators': np.linspace(10, 200).astype(int),\n",
    "    'max_depth': [None] + list(np.linspace(3, 15).astype(int)),\n",
    "    'max_features': ['auto', 'sqrt', None] + list(np.arange(0.5, 1, 0.1)),\n",
    "    'max_leaf_nodes': [None] + list(np.linspace(10, 50, 500).astype(int)),\n",
    "    'min_samples_leaf': [5, 10, 20],\n",
    "    'bootstrap': [True, False]\n",
    "}\n",
    "\n",
    "# Estimator for use in random search\n",
    "estimator = RandomForestClassifier(random_state = 42)\n",
    "\n",
    "# Create the random search model\n",
    "rs = RandomizedSearchCV(estimator, param_grid, n_jobs = -1, \n",
    "                        scoring = 'roc_auc', cv = 3, \n",
    "                        n_iter = 10, verbose = 1, random_state=42)\n",
    "\n",
    "# Fit \n",
    "rs.fit(X_train, y_train)"
   ]
  },
  {
   "cell_type": "code",
   "execution_count": 276,
   "metadata": {},
   "outputs": [
    {
     "data": {
      "text/plain": [
       "{'n_estimators': 196,\n",
       " 'min_samples_leaf': 20,\n",
       " 'max_leaf_nodes': 49,\n",
       " 'max_features': 0.7,\n",
       " 'max_depth': 13,\n",
       " 'bootstrap': True}"
      ]
     },
     "execution_count": 276,
     "metadata": {},
     "output_type": "execute_result"
    }
   ],
   "source": [
    "rs.best_params_"
   ]
  },
  {
   "cell_type": "code",
   "execution_count": 278,
   "metadata": {},
   "outputs": [],
   "source": [
    "best_rf_model = rs.best_estimator_"
   ]
  },
  {
   "cell_type": "code",
   "execution_count": 280,
   "metadata": {},
   "outputs": [],
   "source": [
    "train_rf_predictions = best_rf_model.predict(X_train)\n",
    "train_rf_probs = best_rf_model.predict_proba(X_train)[:, 1]\n",
    "\n",
    "rf_predictions = best_rf_model.predict(X_test)\n",
    "rf_probs = best_rf_model.predict_proba(X_test)[:, 1]"
   ]
  },
  {
   "cell_type": "code",
   "execution_count": 281,
   "metadata": {},
   "outputs": [
    {
     "name": "stdout",
     "output_type": "stream",
     "text": [
      "Average number of nodes 97\n",
      "Average maximum depth 8\n"
     ]
    }
   ],
   "source": [
    "n_nodes = []\n",
    "max_depths = []\n",
    "\n",
    "for ind_tree in best_rf_model.estimators_:\n",
    "    n_nodes.append(ind_tree.tree_.node_count)\n",
    "    max_depths.append(ind_tree.tree_.max_depth)\n",
    "    \n",
    "print(f'Average number of nodes {int(np.mean(n_nodes))}')\n",
    "print(f'Average maximum depth {int(np.mean(max_depths))}')"
   ]
  },
  {
   "cell_type": "code",
   "execution_count": 284,
   "metadata": {},
   "outputs": [
    {
     "name": "stdout",
     "output_type": "stream",
     "text": [
      "              precision    recall  f1-score   support\n",
      "\n",
      "           0       1.00      0.20      0.33     18490\n",
      "           1       0.62      1.00      0.76     23701\n",
      "\n",
      "    accuracy                           0.65     42191\n",
      "   macro avg       0.81      0.60      0.55     42191\n",
      "weighted avg       0.78      0.65      0.57     42191\n",
      "\n"
     ]
    }
   ],
   "source": [
    "print(classification_report(y_test, rf_predictions))"
   ]
  },
  {
   "cell_type": "code",
   "execution_count": 287,
   "metadata": {},
   "outputs": [],
   "source": [
    "rf_matrix = confusion_matrix(y_test, rf_predictions)"
   ]
  },
  {
   "cell_type": "code",
   "execution_count": 291,
   "metadata": {},
   "outputs": [
    {
     "name": "stdout",
     "output_type": "stream",
     "text": [
      "Normalized confusion matrix\n",
      "[[0.1996755 0.8003245]\n",
      " [0.        1.       ]]\n"
     ]
    },
    {
     "data": {
      "image/png": "[encoded data removed]",
      "text/plain": [
       "<Figure size 432x288 with 2 Axes>"
      ]
     },
     "metadata": {},
     "output_type": "display_data"
    }
   ],
   "source": [
    "plot_confusion_matrix(rf_matrix, \n",
    "                      classes=['failed','successful'],\n",
    "                      normalize= True, \n",
    "                      title='Confusion matrix')"
   ]
  },
  {
   "cell_type": "code",
   "execution_count": null,
   "metadata": {},
   "outputs": [],
   "source": [
    "#def run_exps(X_train: pd.DataFrame , y_train: pd.DataFrame, X_test: pd.DataFrame, y_test: pd.DataFrame) -> pd.DataFrame:\n",
    "#    '''\n",
    "#    Lightweight script to test many models and find winners\n",
    "#    :param X_train: training split\n",
    "#    :param y_train: training target vector\n",
    "#    :param X_test: test split\n",
    "#    :param y_test: test target vector\n",
    "#    :return: DataFrame of predictions\n",
    "#    '''\n",
    "#    \n",
    "#        dfs = []\n",
    "#    models = [\n",
    "#              ('LogReg', LogisticRegression()), \n",
    "#              ('RF', RandomForestClassifier()),\n",
    "#              ('KNN', KNeighborsClassifier()),\n",
    "#              ('SVM', SVC()), \n",
    "#              ('GNB', GaussianNB()),\n",
    "#              ('XGB', XGBClassifier())\n",
    "#            ]\n",
    "#    results = []\n",
    "#        names = []\n",
    "#        scoring = ['accuracy', 'precision_weighted', 'recall_weighted', 'f1_weighted', 'roc_auc']\n",
    "#        target_names = ['malignant', 'benign']\n",
    "#    for name, model in models:\n",
    "#            kfold = model_selection.KFold(n_splits=5, shuffle=True, random_state=90210)\n",
    "#            cv_results = model_selection.cross_validate(model, X_train, y_train, cv=kfold, scoring=scoring)\n",
    "#            clf = model.fit(X_train, y_train)\n",
    "#            y_pred = clf.predict(X_test)\n",
    "#            print(name)\n",
    "#            print(classification_report(y_test, y_pred, target_names=target_names))\n",
    "#            results.append(cv_results)\n",
    "#            names.append(name)\n",
    "#            this_df = pd.DataFrame(cv_results)\n",
    "#            this_df['model'] = name\n",
    "#            dfs.append(this_df)\n",
    "#    final = pd.concat(dfs, ignore_index=True)\n",
    "#    return final"
   ]
  },
  {
   "cell_type": "code",
   "execution_count": null,
   "metadata": {},
   "outputs": [],
   "source": [
    "#bootstraps = []\n",
    "#for model in list(set(final.model.values)):\n",
    "#    model_df = final.loc[final.model == model]\n",
    "#    bootstrap = model_df.sample(n=30, replace=True)\n",
    "#    bootstraps.append(bootstrap)\n",
    "#        \n",
    "#bootstrap_df = pd.concat(bootstraps, ignore_index=True)\n",
    "#results_long = pd.melt(bootstrap_df,id_vars=['model'],var_name='metrics', value_name='values')\n",
    "#\n",
    "### PERFORMANCE METRICS\n",
    "#results_long_nofit = results_long.loc[~results_long['metrics'].isin(time_metrics)] # get df without fit data\n",
    "#results_long_nofit = results_long_nofit.sort_values(by='values')\n",
    "### TIME METRICS\n",
    "#results_long_fit = results_long.loc[results_long['metrics'].isin(time_metrics)] # df with fit data\n",
    "#results_long_fit = results_long_fit.sort_values(by='values')"
   ]
  },
  {
   "cell_type": "code",
   "execution_count": null,
   "metadata": {},
   "outputs": [],
   "source": [
    "#metrics = list(set(results_long_nofit.metrics.values))\n",
    "#bootstrap_df.groupby(['model'])[metrics].agg([np.std, np.mean])"
   ]
  },
  {
   "cell_type": "code",
   "execution_count": 258,
   "metadata": {},
   "outputs": [
    {
     "name": "stdout",
     "output_type": "stream",
     "text": [
      "DecisionTreeClassifier\n"
     ]
    },
    {
     "data": {
      "text/html": [
       "<div>\n",
       "<style scoped>\n",
       "    .dataframe tbody tr th:only-of-type {\n",
       "        vertical-align: middle;\n",
       "    }\n",
       "\n",
       "    .dataframe tbody tr th {\n",
       "        vertical-align: top;\n",
       "    }\n",
       "\n",
       "    .dataframe thead th {\n",
       "        text-align: right;\n",
       "    }\n",
       "</style>\n",
       "<table border=\"1\" class=\"dataframe\">\n",
       "  <thead>\n",
       "    <tr style=\"text-align: right;\">\n",
       "      <th></th>\n",
       "      <th>1%</th>\n",
       "      <th>10%</th>\n",
       "      <th>100%</th>\n",
       "    </tr>\n",
       "  </thead>\n",
       "  <tbody>\n",
       "    <tr>\n",
       "      <th>acc_test</th>\n",
       "      <td>0.649191</td>\n",
       "      <td>0.774644</td>\n",
       "      <td>0.827285</td>\n",
       "    </tr>\n",
       "    <tr>\n",
       "      <th>acc_train</th>\n",
       "      <td>1.000000</td>\n",
       "      <td>1.000000</td>\n",
       "      <td>1.000000</td>\n",
       "    </tr>\n",
       "    <tr>\n",
       "      <th>f_test</th>\n",
       "      <td>0.666849</td>\n",
       "      <td>0.757829</td>\n",
       "      <td>0.805476</td>\n",
       "    </tr>\n",
       "    <tr>\n",
       "      <th>f_train</th>\n",
       "      <td>1.000000</td>\n",
       "      <td>1.000000</td>\n",
       "      <td>1.000000</td>\n",
       "    </tr>\n",
       "    <tr>\n",
       "      <th>roc_auc_test</th>\n",
       "      <td>0.599757</td>\n",
       "      <td>0.743578</td>\n",
       "      <td>0.804701</td>\n",
       "    </tr>\n",
       "    <tr>\n",
       "      <th>roc_auc_train</th>\n",
       "      <td>1.000000</td>\n",
       "      <td>1.000000</td>\n",
       "      <td>1.000000</td>\n",
       "    </tr>\n",
       "  </tbody>\n",
       "</table>\n",
       "</div>"
      ],
      "text/plain": [
       "                     1%       10%      100%\n",
       "acc_test       0.649191  0.774644  0.827285\n",
       "acc_train      1.000000  1.000000  1.000000\n",
       "f_test         0.666849  0.757829  0.805476\n",
       "f_train        1.000000  1.000000  1.000000\n",
       "roc_auc_test   0.599757  0.743578  0.804701\n",
       "roc_auc_train  1.000000  1.000000  1.000000"
      ]
     },
     "metadata": {},
     "output_type": "display_data"
    },
    {
     "name": "stdout",
     "output_type": "stream",
     "text": [
      "RandomForestClassifier\n"
     ]
    },
    {
     "data": {
      "text/html": [
       "<div>\n",
       "<style scoped>\n",
       "    .dataframe tbody tr th:only-of-type {\n",
       "        vertical-align: middle;\n",
       "    }\n",
       "\n",
       "    .dataframe tbody tr th {\n",
       "        vertical-align: top;\n",
       "    }\n",
       "\n",
       "    .dataframe thead th {\n",
       "        text-align: right;\n",
       "    }\n",
       "</style>\n",
       "<table border=\"1\" class=\"dataframe\">\n",
       "  <thead>\n",
       "    <tr style=\"text-align: right;\">\n",
       "      <th></th>\n",
       "      <th>1%</th>\n",
       "      <th>10%</th>\n",
       "      <th>100%</th>\n",
       "    </tr>\n",
       "  </thead>\n",
       "  <tbody>\n",
       "    <tr>\n",
       "      <th>acc_test</th>\n",
       "      <td>0.649191</td>\n",
       "      <td>0.649191</td>\n",
       "      <td>0.680050</td>\n",
       "    </tr>\n",
       "    <tr>\n",
       "      <th>acc_train</th>\n",
       "      <td>1.000000</td>\n",
       "      <td>1.000000</td>\n",
       "      <td>1.000000</td>\n",
       "    </tr>\n",
       "    <tr>\n",
       "      <th>f_test</th>\n",
       "      <td>0.666849</td>\n",
       "      <td>0.666849</td>\n",
       "      <td>0.686993</td>\n",
       "    </tr>\n",
       "    <tr>\n",
       "      <th>f_train</th>\n",
       "      <td>1.000000</td>\n",
       "      <td>1.000000</td>\n",
       "      <td>1.000000</td>\n",
       "    </tr>\n",
       "    <tr>\n",
       "      <th>roc_auc_test</th>\n",
       "      <td>0.807010</td>\n",
       "      <td>0.635961</td>\n",
       "      <td>0.841405</td>\n",
       "    </tr>\n",
       "    <tr>\n",
       "      <th>roc_auc_train</th>\n",
       "      <td>1.000000</td>\n",
       "      <td>1.000000</td>\n",
       "      <td>1.000000</td>\n",
       "    </tr>\n",
       "  </tbody>\n",
       "</table>\n",
       "</div>"
      ],
      "text/plain": [
       "                     1%       10%      100%\n",
       "acc_test       0.649191  0.649191  0.680050\n",
       "acc_train      1.000000  1.000000  1.000000\n",
       "f_test         0.666849  0.666849  0.686993\n",
       "f_train        1.000000  1.000000  1.000000\n",
       "roc_auc_test   0.807010  0.635961  0.841405\n",
       "roc_auc_train  1.000000  1.000000  1.000000"
      ]
     },
     "metadata": {},
     "output_type": "display_data"
    },
    {
     "name": "stdout",
     "output_type": "stream",
     "text": [
      "GradientBoostingClassifier\n"
     ]
    },
    {
     "data": {
      "text/html": [
       "<div>\n",
       "<style scoped>\n",
       "    .dataframe tbody tr th:only-of-type {\n",
       "        vertical-align: middle;\n",
       "    }\n",
       "\n",
       "    .dataframe tbody tr th {\n",
       "        vertical-align: top;\n",
       "    }\n",
       "\n",
       "    .dataframe thead th {\n",
       "        text-align: right;\n",
       "    }\n",
       "</style>\n",
       "<table border=\"1\" class=\"dataframe\">\n",
       "  <thead>\n",
       "    <tr style=\"text-align: right;\">\n",
       "      <th></th>\n",
       "      <th>1%</th>\n",
       "      <th>10%</th>\n",
       "      <th>100%</th>\n",
       "    </tr>\n",
       "  </thead>\n",
       "  <tbody>\n",
       "    <tr>\n",
       "      <th>acc_test</th>\n",
       "      <td>0.649191</td>\n",
       "      <td>0.674551</td>\n",
       "      <td>0.675191</td>\n",
       "    </tr>\n",
       "    <tr>\n",
       "      <th>acc_train</th>\n",
       "      <td>0.996667</td>\n",
       "      <td>0.993333</td>\n",
       "      <td>0.993333</td>\n",
       "    </tr>\n",
       "    <tr>\n",
       "      <th>f_test</th>\n",
       "      <td>0.666849</td>\n",
       "      <td>0.683316</td>\n",
       "      <td>0.683742</td>\n",
       "    </tr>\n",
       "    <tr>\n",
       "      <th>f_train</th>\n",
       "      <td>0.995423</td>\n",
       "      <td>0.990888</td>\n",
       "      <td>0.990888</td>\n",
       "    </tr>\n",
       "    <tr>\n",
       "      <th>roc_auc_test</th>\n",
       "      <td>0.599757</td>\n",
       "      <td>0.744212</td>\n",
       "      <td>0.645985</td>\n",
       "    </tr>\n",
       "    <tr>\n",
       "      <th>roc_auc_train</th>\n",
       "      <td>1.000000</td>\n",
       "      <td>1.000000</td>\n",
       "      <td>1.000000</td>\n",
       "    </tr>\n",
       "  </tbody>\n",
       "</table>\n",
       "</div>"
      ],
      "text/plain": [
       "                     1%       10%      100%\n",
       "acc_test       0.649191  0.674551  0.675191\n",
       "acc_train      0.996667  0.993333  0.993333\n",
       "f_test         0.666849  0.683316  0.683742\n",
       "f_train        0.995423  0.990888  0.990888\n",
       "roc_auc_test   0.599757  0.744212  0.645985\n",
       "roc_auc_train  1.000000  1.000000  1.000000"
      ]
     },
     "metadata": {},
     "output_type": "display_data"
    },
    {
     "name": "stdout",
     "output_type": "stream",
     "text": [
      "AdaBoostClassifier\n"
     ]
    },
    {
     "data": {
      "text/html": [
       "<div>\n",
       "<style scoped>\n",
       "    .dataframe tbody tr th:only-of-type {\n",
       "        vertical-align: middle;\n",
       "    }\n",
       "\n",
       "    .dataframe tbody tr th {\n",
       "        vertical-align: top;\n",
       "    }\n",
       "\n",
       "    .dataframe thead th {\n",
       "        text-align: right;\n",
       "    }\n",
       "</style>\n",
       "<table border=\"1\" class=\"dataframe\">\n",
       "  <thead>\n",
       "    <tr style=\"text-align: right;\">\n",
       "      <th></th>\n",
       "      <th>1%</th>\n",
       "      <th>10%</th>\n",
       "      <th>100%</th>\n",
       "    </tr>\n",
       "  </thead>\n",
       "  <tbody>\n",
       "    <tr>\n",
       "      <th>acc_test</th>\n",
       "      <td>0.649191</td>\n",
       "      <td>0.649191</td>\n",
       "      <td>0.649191</td>\n",
       "    </tr>\n",
       "    <tr>\n",
       "      <th>acc_train</th>\n",
       "      <td>0.990000</td>\n",
       "      <td>0.990000</td>\n",
       "      <td>0.986667</td>\n",
       "    </tr>\n",
       "    <tr>\n",
       "      <th>f_test</th>\n",
       "      <td>0.666849</td>\n",
       "      <td>0.666849</td>\n",
       "      <td>0.666849</td>\n",
       "    </tr>\n",
       "    <tr>\n",
       "      <th>f_train</th>\n",
       "      <td>0.986395</td>\n",
       "      <td>0.986395</td>\n",
       "      <td>0.981941</td>\n",
       "    </tr>\n",
       "    <tr>\n",
       "      <th>roc_auc_test</th>\n",
       "      <td>0.599757</td>\n",
       "      <td>0.599757</td>\n",
       "      <td>0.599757</td>\n",
       "    </tr>\n",
       "    <tr>\n",
       "      <th>roc_auc_train</th>\n",
       "      <td>0.999909</td>\n",
       "      <td>0.998540</td>\n",
       "      <td>0.999225</td>\n",
       "    </tr>\n",
       "  </tbody>\n",
       "</table>\n",
       "</div>"
      ],
      "text/plain": [
       "                     1%       10%      100%\n",
       "acc_test       0.649191  0.649191  0.649191\n",
       "acc_train      0.990000  0.990000  0.986667\n",
       "f_test         0.666849  0.666849  0.666849\n",
       "f_train        0.986395  0.986395  0.981941\n",
       "roc_auc_test   0.599757  0.599757  0.599757\n",
       "roc_auc_train  0.999909  0.998540  0.999225"
      ]
     },
     "metadata": {},
     "output_type": "display_data"
    },
    {
     "name": "stdout",
     "output_type": "stream",
     "text": [
      "XGBClassifier\n"
     ]
    },
    {
     "data": {
      "text/html": [
       "<div>\n",
       "<style scoped>\n",
       "    .dataframe tbody tr th:only-of-type {\n",
       "        vertical-align: middle;\n",
       "    }\n",
       "\n",
       "    .dataframe tbody tr th {\n",
       "        vertical-align: top;\n",
       "    }\n",
       "\n",
       "    .dataframe thead th {\n",
       "        text-align: right;\n",
       "    }\n",
       "</style>\n",
       "<table border=\"1\" class=\"dataframe\">\n",
       "  <thead>\n",
       "    <tr style=\"text-align: right;\">\n",
       "      <th></th>\n",
       "      <th>1%</th>\n",
       "      <th>10%</th>\n",
       "      <th>100%</th>\n",
       "    </tr>\n",
       "  </thead>\n",
       "  <tbody>\n",
       "    <tr>\n",
       "      <th>acc_test</th>\n",
       "      <td>0.649191</td>\n",
       "      <td>0.674172</td>\n",
       "      <td>0.685715</td>\n",
       "    </tr>\n",
       "    <tr>\n",
       "      <th>acc_train</th>\n",
       "      <td>0.996667</td>\n",
       "      <td>0.996667</td>\n",
       "      <td>0.996667</td>\n",
       "    </tr>\n",
       "    <tr>\n",
       "      <th>f_test</th>\n",
       "      <td>0.666849</td>\n",
       "      <td>0.683064</td>\n",
       "      <td>0.690838</td>\n",
       "    </tr>\n",
       "    <tr>\n",
       "      <th>f_train</th>\n",
       "      <td>0.995423</td>\n",
       "      <td>0.995423</td>\n",
       "      <td>0.995423</td>\n",
       "    </tr>\n",
       "    <tr>\n",
       "      <th>roc_auc_test</th>\n",
       "      <td>0.599757</td>\n",
       "      <td>0.780882</td>\n",
       "      <td>0.806444</td>\n",
       "    </tr>\n",
       "    <tr>\n",
       "      <th>roc_auc_train</th>\n",
       "      <td>1.000000</td>\n",
       "      <td>1.000000</td>\n",
       "      <td>1.000000</td>\n",
       "    </tr>\n",
       "  </tbody>\n",
       "</table>\n",
       "</div>"
      ],
      "text/plain": [
       "                     1%       10%      100%\n",
       "acc_test       0.649191  0.674172  0.685715\n",
       "acc_train      0.996667  0.996667  0.996667\n",
       "f_test         0.666849  0.683064  0.690838\n",
       "f_train        0.995423  0.995423  0.995423\n",
       "roc_auc_test   0.599757  0.780882  0.806444\n",
       "roc_auc_train  1.000000  1.000000  1.000000"
      ]
     },
     "metadata": {},
     "output_type": "display_data"
    }
   ],
   "source": [
    "for i in results.items():\n",
    "    print (i[0])\n",
    "    display(pd.DataFrame(i[1]).rename(columns={0:'1%', 1:'10%', 2:'100%'}))"
   ]
  },
  {
   "cell_type": "code",
   "execution_count": null,
   "metadata": {},
   "outputs": [],
   "source": []
  }
 ],
 "metadata": {
  "kernelspec": {
   "display_name": "Python 3",
   "language": "python",
   "name": "python3"
  },
  "language_info": {
   "codemirror_mode": {
    "name": "ipython",
    "version": 3
   },
   "file_extension": ".py",
   "mimetype": "text/x-python",
   "name": "python",
   "nbconvert_exporter": "python",
   "pygments_lexer": "ipython3",
   "version": "3.6.10"
  },
  "toc": {
   "base_numbering": 1,
   "nav_menu": {},
   "number_sections": true,
   "sideBar": true,
   "skip_h1_title": false,
   "title_cell": "Table of Contents",
   "title_sidebar": "Contents",
   "toc_cell": false,
   "toc_position": {},
   "toc_section_display": true,
   "toc_window_display": true
  },
  "varInspector": {
   "cols": {
    "lenName": 16,
    "lenType": 16,
    "lenVar": 40
   },
   "kernels_config": {
    "python": {
     "delete_cmd_postfix": "",
     "delete_cmd_prefix": "del ",
     "library": "var_list.py",
     "varRefreshCmd": "print(var_dic_list())"
    },
    "r": {
     "delete_cmd_postfix": ") ",
     "delete_cmd_prefix": "rm(",
     "library": "var_list.r",
     "varRefreshCmd": "cat(var_dic_list()) "
    }
   },
   "types_to_exclude": [
    "module",
    "function",
    "builtin_function_or_method",
    "instance",
    "_Feature"
   ],
   "window_display": false
  }
 },
 "nbformat": 4,
 "nbformat_minor": 4
}
